{
 "cells": [
  {
   "cell_type": "code",
   "execution_count": 46,
   "metadata": {
    "collapsed": false
   },
   "outputs": [],
   "source": [
    "import os\n",
    "import csv\n",
    "import re\n",
    "from pymongo import MongoClient\n",
    "from pprint import pprint"
   ]
  },
  {
   "cell_type": "markdown",
   "metadata": {},
   "source": [
    "# Credentials"
   ]
  },
  {
   "cell_type": "code",
   "execution_count": 2,
   "metadata": {
    "collapsed": false
   },
   "outputs": [],
   "source": [
    "pw_file = 'credentials/mongo_pw.txt'\n",
    "if os.path.exists(pw_file): \n",
    "    with open(pw_file, 'r') as f:\n",
    "        pub_ip, mongo_usr, mongo_usr_pw = f.readline().strip().split(', ')"
   ]
  },
  {
   "cell_type": "markdown",
   "metadata": {},
   "source": [
    "# Connect to MongoDB"
   ]
  },
  {
   "cell_type": "code",
   "execution_count": 3,
   "metadata": {
    "collapsed": false,
    "scrolled": true
   },
   "outputs": [
    {
     "data": {
      "text/plain": [
       "True"
      ]
     },
     "execution_count": 3,
     "metadata": {},
     "output_type": "execute_result"
    }
   ],
   "source": [
    "# connect to ec2 mongo client\n",
    "client = MongoClient('{0}:27017'.format(pub_ip))\n",
    "\n",
    "# get reference to  resume_db\n",
    "db = client['github_db']\n",
    "\n",
    "# authenticate user for database\n",
    "db.authenticate(mongo_usr, mongo_usr_pw)"
   ]
  },
  {
   "cell_type": "markdown",
   "metadata": {},
   "source": [
    "# Show MongoDB collections"
   ]
  },
  {
   "cell_type": "code",
   "execution_count": 4,
   "metadata": {
    "collapsed": false
   },
   "outputs": [],
   "source": [
    "def show_collections():\n",
    "    '''\n",
    "    IN: None\n",
    "    RETURN: Printed output of collections and collection counts\n",
    "    '''\n",
    "    for name in sorted(db.collection_names()):\n",
    "        print('Documents in \\\"{0}\\\" collection: {1}'.format(name, db[name].count()))"
   ]
  },
  {
   "cell_type": "code",
   "execution_count": 5,
   "metadata": {
    "collapsed": false
   },
   "outputs": [
    {
     "name": "stdout",
     "output_type": "stream",
     "text": [
      "Documents in \"git_repos_contributors\" collection: 1985\n",
      "Documents in \"git_repos_docs\" collection: 84495\n",
      "Documents in \"git_repos_meta\" collection: 1985\n",
      "Documents in \"git_repos_subscribers\" collection: 1985\n",
      "Documents in \"git_users_followers\" collection: 456\n",
      "Documents in \"git_users_following\" collection: 456\n",
      "Documents in \"git_users_meta\" collection: 456\n"
     ]
    }
   ],
   "source": [
    "show_collections()"
   ]
  },
  {
   "cell_type": "code",
   "execution_count": 123,
   "metadata": {
    "collapsed": false
   },
   "outputs": [],
   "source": [
    "def get_fieldname_tsv(col):\n",
    "    cursor = db[col].find_one()\n",
    "    fields = list(cursor.keys())\n",
    "    fields = '\\t '.join(fields) + '\\n'\n",
    "    \n",
    "    if col == 'git_repos_docs':\n",
    "        fields = fields.replace('file_contents', 'strip_contents')\n",
    "\n",
    "    return fields"
   ]
  },
  {
   "cell_type": "code",
   "execution_count": 124,
   "metadata": {
    "collapsed": false
   },
   "outputs": [
    {
     "data": {
      "text/plain": [
       "'_id\\t repo_name\\t repo_id\\t file_name\\t repo_fullname\\t doc_name\\t strip_contents\\t repo_owner_login\\t file_extension\\n'"
      ]
     },
     "execution_count": 124,
     "metadata": {},
     "output_type": "execute_result"
    }
   ],
   "source": [
    "get_fieldname_tsv('git_repos_docs')"
   ]
  },
  {
   "cell_type": "code",
   "execution_count": 136,
   "metadata": {
    "collapsed": false
   },
   "outputs": [],
   "source": [
    "def convert_repodoc_tsv(doc):\n",
    "    doc['file_contents'] = doc['file_contents'].replace('\\n', ' ')\n",
    "    doc['file_contents'] = doc['file_contents'].replace('\\t', ' ')\n",
    "    doc['file_contents'] = re.sub('\\s+', ' ', doc['file_contents']).strip()\n",
    "    \n",
    "    doc_str = [str(v) for k,v in doc.items()]\n",
    "    doc_str = '\\t '.join(doc_str) + '\\n'\n",
    "    return doc_str"
   ]
  },
  {
   "cell_type": "code",
   "execution_count": 137,
   "metadata": {
    "collapsed": false
   },
   "outputs": [
    {
     "data": {
      "text/plain": [
       "\"57ce15d48532183ad7e11e84\\t awesome-python\\t 21289110\\t PULL_REQUEST_TEMPLATE.md\\t vinta/awesome-python\\t 21289110__PULL_REQUEST_TEMPLATE.md\\t ## What is this Python project? Describe features. ## What's the difference between this Python project and similar ones? Enumerate comparisons. -- Anyone who agrees with this pull request could vote for it by adding a :+1: to it, and usually, the maintainer will merge it when votes reach **20**.\\t vinta\\t md\\n\""
      ]
     },
     "execution_count": 137,
     "metadata": {},
     "output_type": "execute_result"
    }
   ],
   "source": [
    "cursor = db['git_repos_docs'].find_one()\n",
    "convert_repodoc_tsv(cursor)"
   ]
  },
  {
   "cell_type": "code",
   "execution_count": 155,
   "metadata": {
    "collapsed": true
   },
   "outputs": [],
   "source": [
    "def filter_filetypes(db, col, _filter='all'):\n",
    "    \n",
    "    if _filter != 'all':\n",
    "        db_new = db[col].find({'file_extension': re.compile(_filter, re.IGNORECASE)})\n",
    "    else:\n",
    "        db_new = db[col].find()\n",
    "    \n",
    "    return db_new"
   ]
  },
  {
   "cell_type": "code",
   "execution_count": 159,
   "metadata": {
    "collapsed": false
   },
   "outputs": [],
   "source": [
    "filtered_col = filter_filetypes(db, 'git_repos_docs')"
   ]
  },
  {
   "cell_type": "code",
   "execution_count": 195,
   "metadata": {
    "collapsed": false
   },
   "outputs": [],
   "source": [
    "def export_mongo_to_tsv(db, col, filename, _filter='all'):\n",
    "    \n",
    "    cursor = filter_filetypes(db, col, _filter)\n",
    "    ct = 0\n",
    "    \n",
    "    with open('{0}.txt'.format(filename), 'w') as outfile:\n",
    "        #if ct < 1:\n",
    "        #    outfile.write(get_fieldname_tsv(col))\n",
    "\n",
    "        for doc in cursor:\n",
    "            csv_str = convert_repodoc_tsv(doc)\n",
    "            outfile.write(csv_str)"
   ]
  },
  {
   "cell_type": "code",
   "execution_count": 196,
   "metadata": {
    "collapsed": false
   },
   "outputs": [],
   "source": [
    "export_mongo_to_tsv(db, 'git_repos_docs', 'repo_docs', 'py')"
   ]
  },
  {
   "cell_type": "code",
   "execution_count": 190,
   "metadata": {
    "collapsed": false
   },
   "outputs": [],
   "source": [
    "import json\n",
    "\n",
    "with open('{0}.json'.format('xxxx'), 'w') as outfile:\n",
    "\n",
    "        for doc in filter_filetypes(db, 'git_repos_docs', 'py')[:200]:\n",
    "            json.dump(doc, outfile, default=)"
   ]
  },
  {
   "cell_type": "markdown",
   "metadata": {},
   "source": [
    "# Upload to S3"
   ]
  },
  {
   "cell_type": "code",
   "execution_count": 204,
   "metadata": {
    "collapsed": false
   },
   "outputs": [],
   "source": [
    "with open('credentials/aws.csv', 'r') as infile:\n",
    "    _ = infile.readline()\n",
    "    username, access_key, secret_key = infile.readline().replace('\"', '').split(',')"
   ]
  },
  {
   "cell_type": "code",
   "execution_count": 214,
   "metadata": {
    "collapsed": false
   },
   "outputs": [
    {
     "data": {
      "text/plain": [
       "<Response [200]>"
      ]
     },
     "execution_count": 214,
     "metadata": {},
     "output_type": "execute_result"
    }
   ],
   "source": [
    "import tinys3\n",
    "\n",
    "conn = tinys3.Connection(access_key, secret_key, tls=True)\n",
    "\n",
    "f = open('repo_py_docs.txt','rb')\n",
    "conn.upload('repo_py_docs.txt',f,'github-spark')"
   ]
  },
  {
   "cell_type": "code",
   "execution_count": null,
   "metadata": {
    "collapsed": true
   },
   "outputs": [],
   "source": []
  }
 ],
 "metadata": {
  "anaconda-cloud": {},
  "kernelspec": {
   "display_name": "Python 3",
   "language": "python",
   "name": "python3"
  },
  "language_info": {
   "codemirror_mode": {
    "name": "ipython",
    "version": 3
   },
   "file_extension": ".py",
   "mimetype": "text/x-python",
   "name": "python",
   "nbconvert_exporter": "python",
   "pygments_lexer": "ipython3",
   "version": "3.5.2"
  }
 },
 "nbformat": 4,
 "nbformat_minor": 1
}
