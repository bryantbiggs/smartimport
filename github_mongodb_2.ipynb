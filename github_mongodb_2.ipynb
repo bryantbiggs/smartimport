{
 "cells": [
  {
   "cell_type": "code",
   "execution_count": 1,
   "metadata": {
    "collapsed": false
   },
   "outputs": [],
   "source": [
    "import os\n",
    "import sys\n",
    "import re\n",
    "import time\n",
    "from pymongo import MongoClient\n",
    "from github import Github\n",
    "from random import randint\n",
    "from pprint import pprint"
   ]
  },
  {
   "cell_type": "markdown",
   "metadata": {},
   "source": [
    "# Credentials"
   ]
  },
  {
   "cell_type": "code",
   "execution_count": 2,
   "metadata": {
    "collapsed": true
   },
   "outputs": [],
   "source": [
    "pw_file = 'credentials/mongo_pw.txt'\n",
    "if os.path.exists(pw_file): \n",
    "    with open(pw_file, 'r') as f:\n",
    "        pub_ip, mongo_usr, mongo_usr_pw = f.readline().strip().split(', ')"
   ]
  },
  {
   "cell_type": "markdown",
   "metadata": {},
   "source": [
    "# Connect to MongoDB"
   ]
  },
  {
   "cell_type": "code",
   "execution_count": 3,
   "metadata": {
    "collapsed": false,
    "scrolled": true
   },
   "outputs": [
    {
     "data": {
      "text/plain": [
       "True"
      ]
     },
     "execution_count": 3,
     "metadata": {},
     "output_type": "execute_result"
    }
   ],
   "source": [
    "# connect to ec2 mongo client\n",
    "client = MongoClient('{0}:27017'.format(pub_ip))\n",
    "\n",
    "# get reference to  resume_db\n",
    "db = client['github_db']\n",
    "\n",
    "# authenticate user for database\n",
    "db.authenticate(mongo_usr, mongo_usr_pw)"
   ]
  },
  {
   "cell_type": "markdown",
   "metadata": {},
   "source": [
    "# Create a MongoDB collection"
   ]
  },
  {
   "cell_type": "code",
   "execution_count": 4,
   "metadata": {
    "collapsed": true
   },
   "outputs": [],
   "source": [
    "def initialize_collections(db, reset=False):\n",
    "    # drop collections if reset is set to True\n",
    "    if reset:\n",
    "        for name in db.collection_names():\n",
    "            db.drop_collection(name)\n",
    "            \n",
    "    # create a collection in the 'github_db' database (not required but helpful)\n",
    "    lst_collections = ['git_users_meta', 'git_users_following', 'git_users_followers', \n",
    "                       'git_repos_meta', 'git_repos_docs', 'git_repos_subscribers', 'git_repos_contributors']\n",
    "\n",
    "    # initialize blank collections\n",
    "    for collection in lst_collections:\n",
    "        if collection not in db.collection_names():\n",
    "            db.create_collection(collection)"
   ]
  },
  {
   "cell_type": "code",
   "execution_count": 5,
   "metadata": {
    "collapsed": false
   },
   "outputs": [],
   "source": [
    "initialize_collections(db)"
   ]
  },
  {
   "cell_type": "code",
   "execution_count": 6,
   "metadata": {
    "collapsed": false
   },
   "outputs": [],
   "source": [
    "def show_collections():\n",
    "    '''\n",
    "    IN: None\n",
    "    RETURN: Printed output of collections and collection counts\n",
    "    '''\n",
    "    for name in sorted(db.collection_names()):\n",
    "        print('Documents in \\\"{0}\\\" collection: {1}'.format(name, db[name].count()))"
   ]
  },
  {
   "cell_type": "code",
   "execution_count": 7,
   "metadata": {
    "collapsed": false
   },
   "outputs": [
    {
     "name": "stdout",
     "output_type": "stream",
     "text": [
      "Documents in \"git_repos_contributors\" collection: 257\n",
      "Documents in \"git_repos_docs\" collection: 24603\n",
      "Documents in \"git_repos_meta\" collection: 257\n",
      "Documents in \"git_repos_subscribers\" collection: 257\n",
      "Documents in \"git_users_followers\" collection: 115\n",
      "Documents in \"git_users_following\" collection: 115\n",
      "Documents in \"git_users_meta\" collection: 115\n"
     ]
    }
   ],
   "source": [
    "show_collections()"
   ]
  },
  {
   "cell_type": "markdown",
   "metadata": {},
   "source": [
    "# Get authenticated access to Github for higher requests limit"
   ]
  },
  {
   "cell_type": "code",
   "execution_count": 8,
   "metadata": {
    "collapsed": false
   },
   "outputs": [],
   "source": [
    "# import github private token\n",
    "with open('credentials/token_2.txt', 'r') as infile:\n",
    "    token = infile.readline().strip()\n",
    "    user = infile.readline().strip()\n",
    "\n",
    "git_client = Github(token)"
   ]
  },
  {
   "cell_type": "markdown",
   "metadata": {},
   "source": [
    "# Make MongoDB database copy"
   ]
  },
  {
   "cell_type": "code",
   "execution_count": 9,
   "metadata": {
    "collapsed": false
   },
   "outputs": [],
   "source": [
    "def copy_db(current_db, new_db):\n",
    "    r = client.admin.command('copydb', fromdb=current_db, todb=new_db)\n",
    "    if r['ok'] == 1.0:\n",
    "        return print('DB {0} created'.format(new_db))"
   ]
  },
  {
   "cell_type": "markdown",
   "metadata": {},
   "source": [
    "# Rate limits"
   ]
  },
  {
   "cell_type": "code",
   "execution_count": 10,
   "metadata": {
    "collapsed": false
   },
   "outputs": [],
   "source": [
    "def get_remaining(_type ='core'):\n",
    "    '''\n",
    "    IN: term to determine if rate limit for requests (core) or searching (search) is to be returned\n",
    "        _type => 'core' or 'search'\n",
    "    RETURN: tuple of remaining rate limit quantity, and time till reset\n",
    "    '''\n",
    "    rate_limit = git_client.get_rate_limit()\n",
    "    raw = dict(rate_limit.raw_data)\n",
    "    remaining = int(raw['resources'][_type]['remaining'])\n",
    "    \n",
    "    return remaining"
   ]
  },
  {
   "cell_type": "code",
   "execution_count": 11,
   "metadata": {
    "collapsed": false
   },
   "outputs": [],
   "source": [
    "def show_rate_remaining():\n",
    "    '''\n",
    "    IN: None\n",
    "    RETURN: Printed output of github api rate limits\n",
    "    '''\n",
    "    print('Resource rate limit remaining: {0}'.format(get_remaining('core')))\n",
    "    print('Search rate limit remaining: {0}'.format(get_remaining('search')))"
   ]
  },
  {
   "cell_type": "code",
   "execution_count": 12,
   "metadata": {
    "collapsed": false
   },
   "outputs": [
    {
     "name": "stdout",
     "output_type": "stream",
     "text": [
      "Resource rate limit remaining: 4982\n",
      "Search rate limit remaining: 30\n"
     ]
    }
   ],
   "source": [
    "show_rate_remaining()"
   ]
  },
  {
   "cell_type": "markdown",
   "metadata": {},
   "source": [
    "# Wait function"
   ]
  },
  {
   "cell_type": "code",
   "execution_count": 13,
   "metadata": {
    "collapsed": false
   },
   "outputs": [],
   "source": [
    "def limit_wait(location, ct=0):\n",
    "    '''\n",
    "    IN: \n",
    "        location => function name (input text) where program paused till rate is reset\n",
    "        ct => counter to show length of pause in 5 minute intervals\n",
    "    RETURN: \n",
    "        None - program will halt here if limit is below buffer threshold and continue while it is above/reset\n",
    "    '''\n",
    "    # wait till rate limit is refreshed\n",
    "    rate = get_remaining('core')\n",
    "    \n",
    "    if rate < 150: #buffer\n",
    "        print('Stopped @ {0}'.format(location))\n",
    "    while (rate < 150):\n",
    "        print('Rate: {0} ===> Waiting...{1}'.format(rate, ct))\n",
    "        show_rate_remaining()\n",
    "        time.sleep(300)\n",
    "        rate = get_remaining('core')\n",
    "        ct += 5"
   ]
  },
  {
   "cell_type": "markdown",
   "metadata": {},
   "source": [
    "# Repo Metadata"
   ]
  },
  {
   "cell_type": "code",
   "execution_count": 14,
   "metadata": {
    "collapsed": false
   },
   "outputs": [],
   "source": [
    "def repo_metadata(repo):\n",
    "    '''\n",
    "    IN: github repository object\n",
    "    RETURN: dictionary with only relevant/desired repo metadata to be uploaded into mongodb\n",
    "    '''\n",
    "    repo_keys = ['owner', 'name', 'full_name', 'description', 'fork', 'html_url', 'homepage', 'language', \n",
    "                 'forks_count', 'size', 'open_issues_count', 'has_issues', 'has_wiki', 'has_downloads', \n",
    "                 'pushed_at', 'created_at', 'subscribers_count', 'stargazers_count']\n",
    "    \n",
    "    owner_keys = ['type', 'login', 'id', 'site_admin']\n",
    "    \n",
    "    # check for rate limit\n",
    "    limit_wait('repo_metadata')\n",
    "    \n",
    "    # get returned payload raw data into dictionary\n",
    "    raw_dict = dict(repo.raw_data)\n",
    "    \n",
    "    # trim repo by keys listed above\n",
    "    repo_dict = {k: raw_dict[k] for k in repo_keys}\n",
    "    \n",
    "    # trim owner by keys listed above\n",
    "    owner_dict = {k: raw_dict['owner'][k] for k in owner_keys}\n",
    "    repo_dict['owner'] = owner_dict\n",
    "    repo_dict['_id'] = repo.id\n",
    "    \n",
    "    return repo_dict"
   ]
  },
  {
   "cell_type": "code",
   "execution_count": 15,
   "metadata": {
    "collapsed": false
   },
   "outputs": [],
   "source": [
    "def repo_metadata_upsert(repo):\n",
    "    '''\n",
    "    IN: github repository object\n",
    "    RETURN: None - data returned from repo_metadata function is inserted into mongodb\n",
    "    '''\n",
    "    col = db['git_repos_meta']\n",
    "    try:\n",
    "        col.update_one(\n",
    "            {'_id': repo.id}, \n",
    "            {'$set':{col.insert_one(repo_metadata(repo))}}, \n",
    "            upsert=True)\n",
    "    except:\n",
    "        pass\n",
    "    return None"
   ]
  },
  {
   "cell_type": "markdown",
   "metadata": {},
   "source": [
    "# Repo Subscribers"
   ]
  },
  {
   "cell_type": "code",
   "execution_count": 16,
   "metadata": {
    "collapsed": true
   },
   "outputs": [],
   "source": [
    "def repo_subscribers(repo):\n",
    "    '''\n",
    "    IN: github repository object\n",
    "    RETURN: dictionary containing repo subscribers to be uploaded into mongodb\n",
    "    '''\n",
    "    # check for rate limit\n",
    "    limit_wait('repo_subscribers')\n",
    "    \n",
    "    repo_dict = {}\n",
    "    repo_dict['_id'] = repo.id\n",
    "    repo_dict['repo_fullname'] = repo.full_name\n",
    "    repo_dict['repo_name'] = repo.name\n",
    "    repo_dict['repo_owner_login'] = repo.owner.login\n",
    "    \n",
    "    try:\n",
    "        repo_dict['repo_subscribers'] = [f.login for f in repo.get_subscribers()]\n",
    "        \n",
    "    except:\n",
    "        repo_dict['repo_subscribers'] = []\n",
    "        \n",
    "    return repo_dict"
   ]
  },
  {
   "cell_type": "code",
   "execution_count": 17,
   "metadata": {
    "collapsed": false
   },
   "outputs": [],
   "source": [
    "def repo_subscribers_upsert(repo):\n",
    "    '''\n",
    "    IN: github repository object\n",
    "    RETURN: None - data returned from repo_subscribers function is inserted into mongodb\n",
    "    '''\n",
    "    col = db['git_repos_subscribers']\n",
    "    try:\n",
    "        col.update_one(\n",
    "            {'_id': repo.id}, \n",
    "            {'$set': {col.insert_one(repo_subscribers(repo))}\n",
    "            }, upsert=True)\n",
    "    except:\n",
    "        pass\n",
    "    return None"
   ]
  },
  {
   "cell_type": "markdown",
   "metadata": {},
   "source": [
    "# Repo Contributors"
   ]
  },
  {
   "cell_type": "code",
   "execution_count": 18,
   "metadata": {
    "collapsed": false
   },
   "outputs": [],
   "source": [
    "def repo_contributors(repo):\n",
    "    '''\n",
    "    IN: github repository object\n",
    "    RETURN: dictionary containing contributors (login names) keyed by repo full_name to be uploaed into mongodb\n",
    "    '''\n",
    "    # check for rate limit\n",
    "    limit_wait('repo_contributors')\n",
    "    \n",
    "    repo_dict = {}\n",
    "    repo_dict['_id'] = repo.id\n",
    "    repo_dict['repo_fullname'] = repo.full_name\n",
    "    repo_dict['repo_name'] = repo.name\n",
    "    repo_dict['repo_owner_login'] = repo.owner.login\n",
    "    \n",
    "    try:\n",
    "        repo_dict['repo_contributors'] = [f.login for f in repo.get_contributors()]\n",
    "        \n",
    "    except:\n",
    "        repo_dict['repo_contributors'] = ''\n",
    "        \n",
    "    return repo_dict"
   ]
  },
  {
   "cell_type": "code",
   "execution_count": 19,
   "metadata": {
    "collapsed": false
   },
   "outputs": [],
   "source": [
    "def repo_contributors_upsert(repo):\n",
    "    '''\n",
    "    IN: github repository object\n",
    "    RETURN: None - data returned from repo_contributors function is inserted into mongodb\n",
    "    '''\n",
    "    col = db['git_repos_contributors']\n",
    "    try:\n",
    "        col.update_one(\n",
    "            {'_id': repo.id}, \n",
    "            {'$set': {col.insert_one(repo_contributors(repo))}\n",
    "            }, upsert=True)\n",
    "    except:\n",
    "        pass\n",
    "    return None"
   ]
  },
  {
   "cell_type": "markdown",
   "metadata": {},
   "source": [
    "# User Metadata"
   ]
  },
  {
   "cell_type": "code",
   "execution_count": 20,
   "metadata": {
    "collapsed": false
   },
   "outputs": [],
   "source": [
    "def user_metadata(user):\n",
    "    '''\n",
    "    IN: github NamedUser object\n",
    "    RETURN: dictionary with only relevant/desired user metadata to be uploaded into mongodb\n",
    "    '''\n",
    "    user_keys = ['email', 'followers', 'hireable', 'login', 'bio', 'avatar_url', 'company', \n",
    "                 'updated_at', 'type', 'created_at', 'name', 'location', 'html_url', 'public_repos', \n",
    "                 'blog', 'public_gists', 'following']\n",
    "    \n",
    "    # check for rate limit\n",
    "    limit_wait('user_metadata')\n",
    "        \n",
    "    # get returned payload raw data into dictionary\n",
    "    raw_dict = dict(user.raw_data)\n",
    "    \n",
    "    # trim user by keys listed above\n",
    "    user_dict = {k: raw_dict[k] for k in user_keys}\n",
    "    user_dict['_id'] = user.id\n",
    "    \n",
    "    return user_dict"
   ]
  },
  {
   "cell_type": "code",
   "execution_count": 21,
   "metadata": {
    "collapsed": false
   },
   "outputs": [],
   "source": [
    "def user_metadata_upsert(user):\n",
    "    '''\n",
    "    IN: github NamedUser object\n",
    "    RETURN: None - data returned from user_metadata function is inserted into mongodb\n",
    "    '''\n",
    "    col = db['git_users_meta']\n",
    "    try:\n",
    "        col.update_one(\n",
    "            {'_id': user.id}, \n",
    "            {'$set':{col.insert_one(user_metadata(user))}}, \n",
    "            upsert=True)\n",
    "    except:\n",
    "        pass\n",
    "    return None"
   ]
  },
  {
   "cell_type": "markdown",
   "metadata": {},
   "source": [
    "# User Following"
   ]
  },
  {
   "cell_type": "code",
   "execution_count": 22,
   "metadata": {
    "collapsed": false
   },
   "outputs": [],
   "source": [
    "def user_following(user):\n",
    "    '''\n",
    "    IN: github NamedUser object\n",
    "    RETURN: dictionary containing users (login names) followed by user (passed) to be uploaed into mongodb\n",
    "    '''\n",
    "    # check for rate limit\n",
    "    limit_wait('user_following') \n",
    "    \n",
    "    user_dict = {}\n",
    "    user_dict['_id'] = user.id\n",
    "    user_dict['login'] = user.login\n",
    "        \n",
    "    try:\n",
    "        user_dict['user_following'] = [f.login for f in repo.get_following()]\n",
    "        \n",
    "    except:\n",
    "        user_dict['user_following'] = []\n",
    "        \n",
    "    return user_dict"
   ]
  },
  {
   "cell_type": "code",
   "execution_count": 23,
   "metadata": {
    "collapsed": false
   },
   "outputs": [],
   "source": [
    "def user_following_upsert(user):\n",
    "    '''\n",
    "    IN: github NamedUser object\n",
    "    RETURN: None - data returned from user_following function is inserted into mongodb\n",
    "    '''\n",
    "    col = db['git_users_following']\n",
    "    try:\n",
    "        col.update_one(\n",
    "            {'_id': user.id}, \n",
    "            {'$set': {col.insert_one(user_following(user))}\n",
    "            }, upsert=True)\n",
    "    except:\n",
    "        pass\n",
    "    return None"
   ]
  },
  {
   "cell_type": "markdown",
   "metadata": {},
   "source": [
    "# User Followers"
   ]
  },
  {
   "cell_type": "code",
   "execution_count": 24,
   "metadata": {
    "collapsed": false
   },
   "outputs": [],
   "source": [
    "def user_followers(user):\n",
    "    '''\n",
    "    IN: github NamedUser object\n",
    "    RETURN: dictionary containing users (login names) who follow user (passed) to be uploaed into mongodb\n",
    "    '''\n",
    "    # check for rate limit\n",
    "    limit_wait('user_followers')\n",
    "    \n",
    "    user_dict = {}\n",
    "    user_dict['_id'] = user.id\n",
    "    user_dict['login'] = user.login\n",
    "        \n",
    "    try:\n",
    "        user_dict['user_followers'] = [f.login for f in repo.get_followers()]\n",
    "        \n",
    "    except:\n",
    "        user_dict['user_followers'] = []\n",
    "    \n",
    "    return user_dict"
   ]
  },
  {
   "cell_type": "code",
   "execution_count": 25,
   "metadata": {
    "collapsed": false
   },
   "outputs": [],
   "source": [
    "def user_followers_upsert(user):\n",
    "    '''\n",
    "    IN: github NamedUser object\n",
    "    RETURN: None - data returned from user_followers function is inserted into mongodb\n",
    "    '''\n",
    "    col = db['git_users_followers']\n",
    "    try:\n",
    "        col.update_one(\n",
    "            {'_id': user.id}, \n",
    "            {'$set': {col.insert_one(user_followers(user))}\n",
    "            }, upsert=True)\n",
    "    except:\n",
    "        pass\n",
    "    return None"
   ]
  },
  {
   "cell_type": "markdown",
   "metadata": {},
   "source": [
    "# Repo Files"
   ]
  },
  {
   "cell_type": "code",
   "execution_count": 26,
   "metadata": {
    "collapsed": false
   },
   "outputs": [],
   "source": [
    "def repo_scripts_upsert(repo, file_name, doc_name, raw_file_cont, file_ext):\n",
    "    '''\n",
    "    IN: \n",
    "        repo ==> github repository object\n",
    "        file_name ==> file name pulled from github repo\n",
    "        raw_file_contnet ==> raw file contents of file_name\n",
    "        file_ext ==> file extension of file_name\n",
    "    RETURN: \n",
    "        None - file details/information uploaded into mongodb\n",
    "    '''\n",
    "    try:\n",
    "        db['git_repos_docs'].update_one(\n",
    "            {'doc_name' : doc_name}, \n",
    "            {'$set':{\n",
    "                    'file_name': file_name,\n",
    "                    'file_contents': raw_file_cont,\n",
    "                    'file_extension': file_ext,\n",
    "                    'repo_fullname' : repo.full_name,\n",
    "                    'repo_id' : repo.id,\n",
    "                    'repo_name' : repo.name,\n",
    "                    'repo_owner_login' : repo.owner.login,\n",
    "                    'doc_name' : doc_name}\n",
    "                }, \n",
    "            upsert=True)\n",
    "    except:\n",
    "        pass\n",
    "    return None"
   ]
  },
  {
   "cell_type": "code",
   "execution_count": 27,
   "metadata": {
    "collapsed": false
   },
   "outputs": [],
   "source": [
    "def repo_scripts(repo, _path='.'):\n",
    "    '''\n",
    "    IN: \n",
    "        repo ==> github repository object\n",
    "        doc_ct ==> sequential number for 'clean' file names inserted into mongodb\n",
    "        _path ==> path to folder to extract repository files; '.' is top level repository folder\n",
    "    RETRUN: \n",
    "        None - all files from repo except those in the exclusion list will be inserted into mongob\n",
    "    '''\n",
    "    # only files with these extensions\n",
    "    extensions = ['py', 'md', 'rst']\n",
    "    \n",
    "    # grab all contents in the main directory\n",
    "    try: # errors if dir empty\n",
    "        dir_contents = repo.get_dir_contents(_path)\n",
    "        num_files = len(dir_contents)\n",
    "    except:\n",
    "        pass\n",
    "    repo_fullname = repo.full_name\n",
    "\n",
    "    # check for rate limit\n",
    "    limit_wait('repo_scripts')\n",
    "    \n",
    "    for content in dir_contents:\n",
    "        # if item is a directory then recursively navigate lower to get files inside\n",
    "        if content.type == 'dir':\n",
    "            repo_scripts(repo, _path=content.path)\n",
    "        else:\n",
    "            # get file extension\n",
    "            file_ext = content.name.split('.')[-1]\n",
    "\n",
    "            if file_ext in extensions:\n",
    "                # try to decode, but return blank if fail\n",
    "                try:\n",
    "                    raw_file_content = content.decoded_content.decode(errors='replace')\n",
    "                except:\n",
    "                    raw_file_content = ''\n",
    "                    \n",
    "                # actual file name, mongodb doc stored name\n",
    "                file_name = content.name\n",
    "                doc_name = '{0}__{1}'.format(repo.id, file_name)\n",
    "                \n",
    "                # add to collection if under limit (>16mb)\n",
    "                file_size = sys.getsizeof(raw_file_content)\n",
    "                if file_size < 16000000:\n",
    "                    repo_scripts_upsert(repo, file_name, doc_name, raw_file_content, file_ext)\n",
    "                else:\n",
    "                    print('FILE SIZE LIMIT: {0} -- {1}'.format(file_name, file_size))\n",
    "    return None"
   ]
  },
  {
   "cell_type": "markdown",
   "metadata": {},
   "source": [
    "# Search Github for 'Python' repositories"
   ]
  },
  {
   "cell_type": "code",
   "execution_count": 28,
   "metadata": {
    "collapsed": true
   },
   "outputs": [],
   "source": [
    "def get_repo(repo, ct, new_only=True):\n",
    "    '''\n",
    "    IN: \n",
    "        repo ==> github repository object\n",
    "        new_only ==> True if only new repos are to be added, False if add all (new/existing)\n",
    "    RETURN: None - all desired repository data uploaded to mongodb\n",
    "    '''\n",
    "    # don't grab forked copies\n",
    "    if repo.fork == False:\n",
    "        if new_only:\n",
    "            if db['git_repos_meta'].find({'full_name': repo.full_name}).count() == 0:\n",
    "                print('Repo (new).....#{0} - {1}'.format(ct, repo.full_name))\n",
    "                repo_scripts(repo)\n",
    "                repo_metadata_upsert(repo)\n",
    "                repo_subscribers_upsert(repo)\n",
    "                repo_contributors_upsert(repo)\n",
    "        else:\n",
    "            print('Repo (all).....#{0} - {1}'.format(ct, repo.full_name))\n",
    "            repo_scripts(repo)\n",
    "            repo_metadata_upsert(repo)\n",
    "            repo_subscribers_upsert(repo)\n",
    "            repo_contributors_upsert(repo)\n",
    "        \n",
    "    return None"
   ]
  },
  {
   "cell_type": "code",
   "execution_count": 29,
   "metadata": {
    "collapsed": true
   },
   "outputs": [],
   "source": [
    "def get_repo_owner(repo, ct, new_only=True):\n",
    "    '''\n",
    "    IN: github repository object\n",
    "        repo ==> github repository object\n",
    "        new_only ==> True if only new repos are to be added, False if add all (new/existing)\n",
    "    RETURN: None - all desired data pertaining to repository owner uploaded to mongodb\n",
    "    '''\n",
    "    user = repo.owner\n",
    "    if new_only:\n",
    "        if db['git_users_meta'].find({'_id': user.id}).count() == 0:\n",
    "            print('Repo owner (new).....#{0} - {1}'.format(ct, user.login))\n",
    "            user_metadata_upsert(user)\n",
    "            user_following_upsert(user)\n",
    "            user_followers_upsert(user)\n",
    "    else:\n",
    "        print('Repo owner (all).....#{0} - {1}'.format(ct, user.login))\n",
    "        user_metadata_upsert(user)\n",
    "        user_following_upsert(user)\n",
    "        user_followers_upsert(user)"
   ]
  },
  {
   "cell_type": "code",
   "execution_count": 30,
   "metadata": {
    "collapsed": true
   },
   "outputs": [],
   "source": [
    "def searched_repos(term='python', language='python', ct=0, new_only=True):\n",
    "    '''\n",
    "    IN: \n",
    "        term ==> term to search for within github\n",
    "        language ==> limit to language identified (tagged by github)\n",
    "        ct ==> counter initializer for number of repositories traversed\n",
    "        new_only ==> only grab repositories not yet collected if True, otherwise grab all\n",
    "    RETURN: None (print when finished traversing)\n",
    "    '''\n",
    "    for repo in git_client.search_repositories(term, sort='forks', order='desc'):\n",
    "        try:\n",
    "            if repo.language.lower() == language:\n",
    "                if repo.fork == False:\n",
    "                    ct+=1\n",
    "                    get_repo(repo, ct, new_only=new_only)\n",
    "                    get_repo_owner(repo, ct, new_only=new_only)\n",
    "        except:\n",
    "            pass\n",
    "        \n",
    "        # don't get cut off\n",
    "        time.sleep(randint(2,9))\n",
    "    return print('DONE')"
   ]
  },
  {
   "cell_type": "code",
   "execution_count": 31,
   "metadata": {
    "collapsed": false
   },
   "outputs": [],
   "source": [
    "#searched_repos()"
   ]
  },
  {
   "cell_type": "markdown",
   "metadata": {},
   "source": [
    "# Get repos under top level user/organization"
   ]
  },
  {
   "cell_type": "raw",
   "metadata": {
    "collapsed": true
   },
   "source": [
    "for user_meta in db['git_users_meta'].find():\n",
    "    USER = user_meta['login']\n",
    "    _user = git_client.get_user(USER)\n",
    "    for repo in _user.get_repos():\n",
    "        print(repo.full_name)"
   ]
  },
  {
   "cell_type": "code",
   "execution_count": 32,
   "metadata": {
    "collapsed": false
   },
   "outputs": [],
   "source": [
    "def repos_of_top_repos(ct=0, new_only=True):\n",
    "    for user_meta in db['git_users_meta'].find():\n",
    "        git_user = user_meta['login']\n",
    "        _user = git_client.get_user(git_user)\n",
    "\n",
    "        for repo in _user.get_repos():\n",
    "            if repo.fork == False:\n",
    "                ct+=1\n",
    "                get_repo(repo, ct, new_only=new_only)\n",
    "\n",
    "            # don't get cut off\n",
    "            time.sleep(randint(2,9))\n",
    "    return print('DONE')"
   ]
  },
  {
   "cell_type": "code",
   "execution_count": 33,
   "metadata": {
    "collapsed": false
   },
   "outputs": [
    {
     "name": "stdout",
     "output_type": "stream",
     "text": [
      "Repo (new).....#143 - pydata/pandas.pydata.org\n"
     ]
    },
    {
     "ename": "UnboundLocalError",
     "evalue": "local variable 'dir_contents' referenced before assignment",
     "output_type": "error",
     "traceback": [
      "\u001b[0;31m---------------------------------------------------------------------------\u001b[0m",
      "\u001b[0;31mUnboundLocalError\u001b[0m                         Traceback (most recent call last)",
      "\u001b[0;32m<ipython-input-33-2f88da323bcd>\u001b[0m in \u001b[0;36m<module>\u001b[0;34m()\u001b[0m\n\u001b[0;32m----> 1\u001b[0;31m \u001b[0mrepos_of_top_repos\u001b[0m\u001b[0;34m(\u001b[0m\u001b[0mnew_only\u001b[0m\u001b[0;34m=\u001b[0m\u001b[0;32mTrue\u001b[0m\u001b[0;34m)\u001b[0m\u001b[0;34m\u001b[0m\u001b[0m\n\u001b[0m",
      "\u001b[0;32m<ipython-input-32-420a0da130c2>\u001b[0m in \u001b[0;36mrepos_of_top_repos\u001b[0;34m(ct, new_only)\u001b[0m\n\u001b[1;32m      7\u001b[0m             \u001b[0;32mif\u001b[0m \u001b[0mrepo\u001b[0m\u001b[0;34m.\u001b[0m\u001b[0mfork\u001b[0m \u001b[0;34m==\u001b[0m \u001b[0;32mFalse\u001b[0m\u001b[0;34m:\u001b[0m\u001b[0;34m\u001b[0m\u001b[0m\n\u001b[1;32m      8\u001b[0m                 \u001b[0mct\u001b[0m\u001b[0;34m+=\u001b[0m\u001b[0;36m1\u001b[0m\u001b[0;34m\u001b[0m\u001b[0m\n\u001b[0;32m----> 9\u001b[0;31m                 \u001b[0mget_repo\u001b[0m\u001b[0;34m(\u001b[0m\u001b[0mrepo\u001b[0m\u001b[0;34m,\u001b[0m \u001b[0mct\u001b[0m\u001b[0;34m,\u001b[0m \u001b[0mnew_only\u001b[0m\u001b[0;34m=\u001b[0m\u001b[0mnew_only\u001b[0m\u001b[0;34m)\u001b[0m\u001b[0;34m\u001b[0m\u001b[0m\n\u001b[0m\u001b[1;32m     10\u001b[0m \u001b[0;34m\u001b[0m\u001b[0m\n\u001b[1;32m     11\u001b[0m             \u001b[0;31m# don't get cut off\u001b[0m\u001b[0;34m\u001b[0m\u001b[0;34m\u001b[0m\u001b[0m\n",
      "\u001b[0;32m<ipython-input-28-19bee6670b56>\u001b[0m in \u001b[0;36mget_repo\u001b[0;34m(repo, ct, new_only)\u001b[0m\n\u001b[1;32m     11\u001b[0m             \u001b[0;32mif\u001b[0m \u001b[0mdb\u001b[0m\u001b[0;34m[\u001b[0m\u001b[0;34m'git_repos_meta'\u001b[0m\u001b[0;34m]\u001b[0m\u001b[0;34m.\u001b[0m\u001b[0mfind\u001b[0m\u001b[0;34m(\u001b[0m\u001b[0;34m{\u001b[0m\u001b[0;34m'full_name'\u001b[0m\u001b[0;34m:\u001b[0m \u001b[0mrepo\u001b[0m\u001b[0;34m.\u001b[0m\u001b[0mfull_name\u001b[0m\u001b[0;34m}\u001b[0m\u001b[0;34m)\u001b[0m\u001b[0;34m.\u001b[0m\u001b[0mcount\u001b[0m\u001b[0;34m(\u001b[0m\u001b[0;34m)\u001b[0m \u001b[0;34m==\u001b[0m \u001b[0;36m0\u001b[0m\u001b[0;34m:\u001b[0m\u001b[0;34m\u001b[0m\u001b[0m\n\u001b[1;32m     12\u001b[0m                 \u001b[0mprint\u001b[0m\u001b[0;34m(\u001b[0m\u001b[0;34m'Repo (new).....#{0} - {1}'\u001b[0m\u001b[0;34m.\u001b[0m\u001b[0mformat\u001b[0m\u001b[0;34m(\u001b[0m\u001b[0mct\u001b[0m\u001b[0;34m,\u001b[0m \u001b[0mrepo\u001b[0m\u001b[0;34m.\u001b[0m\u001b[0mfull_name\u001b[0m\u001b[0;34m)\u001b[0m\u001b[0;34m)\u001b[0m\u001b[0;34m\u001b[0m\u001b[0m\n\u001b[0;32m---> 13\u001b[0;31m                 \u001b[0mrepo_scripts\u001b[0m\u001b[0;34m(\u001b[0m\u001b[0mrepo\u001b[0m\u001b[0;34m)\u001b[0m\u001b[0;34m\u001b[0m\u001b[0m\n\u001b[0m\u001b[1;32m     14\u001b[0m                 \u001b[0mrepo_metadata_upsert\u001b[0m\u001b[0;34m(\u001b[0m\u001b[0mrepo\u001b[0m\u001b[0;34m)\u001b[0m\u001b[0;34m\u001b[0m\u001b[0m\n\u001b[1;32m     15\u001b[0m                 \u001b[0mrepo_subscribers_upsert\u001b[0m\u001b[0;34m(\u001b[0m\u001b[0mrepo\u001b[0m\u001b[0;34m)\u001b[0m\u001b[0;34m\u001b[0m\u001b[0m\n",
      "\u001b[0;32m<ipython-input-27-4a73536c5eb9>\u001b[0m in \u001b[0;36mrepo_scripts\u001b[0;34m(repo, _path)\u001b[0m\n\u001b[1;32m     22\u001b[0m     \u001b[0mlimit_wait\u001b[0m\u001b[0;34m(\u001b[0m\u001b[0;34m'repo_scripts'\u001b[0m\u001b[0;34m)\u001b[0m\u001b[0;34m\u001b[0m\u001b[0m\n\u001b[1;32m     23\u001b[0m \u001b[0;34m\u001b[0m\u001b[0m\n\u001b[0;32m---> 24\u001b[0;31m     \u001b[0;32mfor\u001b[0m \u001b[0mcontent\u001b[0m \u001b[0;32min\u001b[0m \u001b[0mdir_contents\u001b[0m\u001b[0;34m:\u001b[0m\u001b[0;34m\u001b[0m\u001b[0m\n\u001b[0m\u001b[1;32m     25\u001b[0m         \u001b[0;31m# if item is a directory then recursively navigate lower to get files inside\u001b[0m\u001b[0;34m\u001b[0m\u001b[0;34m\u001b[0m\u001b[0m\n\u001b[1;32m     26\u001b[0m         \u001b[0;32mif\u001b[0m \u001b[0mcontent\u001b[0m\u001b[0;34m.\u001b[0m\u001b[0mtype\u001b[0m \u001b[0;34m==\u001b[0m \u001b[0;34m'dir'\u001b[0m\u001b[0;34m:\u001b[0m\u001b[0;34m\u001b[0m\u001b[0m\n",
      "\u001b[0;31mUnboundLocalError\u001b[0m: local variable 'dir_contents' referenced before assignment"
     ]
    }
   ],
   "source": [
    "repos_of_top_repos(new_only=True)"
   ]
  },
  {
   "cell_type": "code",
   "execution_count": null,
   "metadata": {
    "collapsed": false
   },
   "outputs": [],
   "source": [
    "show_rate_remaining()"
   ]
  },
  {
   "cell_type": "code",
   "execution_count": null,
   "metadata": {
    "collapsed": true
   },
   "outputs": [],
   "source": []
  }
 ],
 "metadata": {
  "anaconda-cloud": {},
  "kernelspec": {
   "display_name": "Python 3",
   "language": "python",
   "name": "python3"
  },
  "language_info": {
   "codemirror_mode": {
    "name": "ipython",
    "version": 3
   },
   "file_extension": ".py",
   "mimetype": "text/x-python",
   "name": "python",
   "nbconvert_exporter": "python",
   "pygments_lexer": "ipython3",
   "version": "3.5.2"
  }
 },
 "nbformat": 4,
 "nbformat_minor": 1
}
