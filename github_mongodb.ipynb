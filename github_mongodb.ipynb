{
 "cells": [
  {
   "cell_type": "code",
   "execution_count": 1,
   "metadata": {
    "collapsed": false
   },
   "outputs": [],
   "source": [
    "import os\n",
    "import sys\n",
    "import re\n",
    "import time\n",
    "from github import Github\n",
    "from random import randint\n",
    "from pprint import pprint"
   ]
  },
  {
   "cell_type": "markdown",
   "metadata": {},
   "source": [
    "# Credentials"
   ]
  },
  {
   "cell_type": "code",
   "execution_count": 2,
   "metadata": {
    "collapsed": true
   },
   "outputs": [],
   "source": [
    "from pymongo import MongoClient\n",
    "pw_file = 'credentials/pw.txt'\n",
    "if os.path.exists(pw_file): \n",
    "    with open(pw_file, 'r') as f:\n",
    "        email, indeed_pw = f.readline().strip().split(', ')\n",
    "        username, pia_pw = f.readline().strip().split(', ')\n",
    "        pub_ip, mongo_usr, mongo_usr_pw = f.readline().strip().split(', ')"
   ]
  },
  {
   "cell_type": "markdown",
   "metadata": {},
   "source": [
    "# Connect to MongoDB"
   ]
  },
  {
   "cell_type": "code",
   "execution_count": 3,
   "metadata": {
    "collapsed": false,
    "scrolled": true
   },
   "outputs": [
    {
     "data": {
      "text/plain": [
       "True"
      ]
     },
     "execution_count": 3,
     "metadata": {},
     "output_type": "execute_result"
    }
   ],
   "source": [
    "# connect to ec2 mongo client\n",
    "client = MongoClient('{0}:27017'.format(pub_ip))\n",
    "\n",
    "# get reference to  resume_db\n",
    "db = client['github_db']\n",
    "\n",
    "# authenticate user for database\n",
    "db.authenticate(mongo_usr, mongo_usr_pw)"
   ]
  },
  {
   "cell_type": "markdown",
   "metadata": {},
   "source": [
    "# Create a MongoDB collection"
   ]
  },
  {
   "cell_type": "code",
   "execution_count": 4,
   "metadata": {
    "collapsed": true
   },
   "outputs": [],
   "source": [
    "#db.drop_collection('github_repos_docs')"
   ]
  },
  {
   "cell_type": "code",
   "execution_count": 5,
   "metadata": {
    "collapsed": false
   },
   "outputs": [
    {
     "name": "stdout",
     "output_type": "stream",
     "text": [
      "Collections in database: ['github_users', 'github_repos_meta', 'github_repos_docs']\n",
      "Number of documents in \"github_users\" collection: 0\n",
      "Number of documents in \"github_repos_meta\" collection: 0\n",
      "Number of documents in \"github_repos_docs\" collection: 0\n"
     ]
    }
   ],
   "source": [
    "print('Collections in database: {0}'.format(db.collection_names()))\n",
    "for name in db.collection_names():\n",
    "    print('Number of documents in \\\"{0}\\\" collection: {1}'.format(name, db[name].count()))"
   ]
  },
  {
   "cell_type": "code",
   "execution_count": 6,
   "metadata": {
    "collapsed": true
   },
   "outputs": [],
   "source": [
    "# create a collection in the 'github_db' database\n",
    "lst_collections = ['github_users', 'github_repos_meta', 'github_repos_docs']\n",
    "\n",
    "for collection in lst_collections:\n",
    "    if collection not in db.collection_names():\n",
    "        db.create_collection(collection)"
   ]
  },
  {
   "cell_type": "code",
   "execution_count": 7,
   "metadata": {
    "collapsed": false
   },
   "outputs": [
    {
     "name": "stdout",
     "output_type": "stream",
     "text": [
      "Collections in database: ['github_users', 'github_repos_meta', 'github_repos_docs']\n",
      "Number of documents in \"github_users\" collection: 0\n",
      "Number of documents in \"github_repos_meta\" collection: 0\n",
      "Number of documents in \"github_repos_docs\" collection: 0\n"
     ]
    }
   ],
   "source": [
    "print('Collections in database: {0}'.format(db.collection_names()))\n",
    "for name in db.collection_names():\n",
    "    print('Number of documents in \\\"{0}\\\" collection: {1}'.format(name, db[name].count()))"
   ]
  },
  {
   "cell_type": "markdown",
   "metadata": {},
   "source": [
    "# Get authenticated access to Github for higher requests limit"
   ]
  },
  {
   "cell_type": "code",
   "execution_count": 8,
   "metadata": {
    "collapsed": false
   },
   "outputs": [],
   "source": [
    "# import github private token\n",
    "with open('credentials/token.txt', 'r') as infile:\n",
    "    token = infile.readline().strip()\n",
    "    user = infile.readline().strip()\n",
    "\n",
    "git_client = Github(token)"
   ]
  },
  {
   "cell_type": "markdown",
   "metadata": {},
   "source": [
    "# Rate limits"
   ]
  },
  {
   "cell_type": "code",
   "execution_count": 9,
   "metadata": {
    "collapsed": false
   },
   "outputs": [],
   "source": [
    "def get_remaining(_type ='core'):\n",
    "    '''\n",
    "    _type = 'core' or 'search'\n",
    "    Return: tuple of remaining rate limit quantity, and time till reset\n",
    "    '''\n",
    "    \n",
    "    rate_limit = git_client.get_rate_limit()\n",
    "    raw = dict(rate_limit.raw_data)\n",
    "    \n",
    "    remaining = int(raw['resources'][_type]['remaining'])\n",
    "    reset = int(raw['resources'][_type]['reset'])\n",
    "    \n",
    "    return (remaining, reset)"
   ]
  },
  {
   "cell_type": "code",
   "execution_count": 10,
   "metadata": {
    "collapsed": false
   },
   "outputs": [
    {
     "name": "stdout",
     "output_type": "stream",
     "text": [
      "Resource rate limit remaining: (4674, 1472823467)\n",
      "Search rate limit remaining: (30, 1472821561)\n"
     ]
    }
   ],
   "source": [
    "print('Resource rate limit remaining: {0}'.format(get_remaining('core')))\n",
    "print('Search rate limit remaining: {0}'.format(get_remaining('search')))"
   ]
  },
  {
   "cell_type": "markdown",
   "metadata": {},
   "source": [
    "# REMOVE ME - ONLY FOR DEV"
   ]
  },
  {
   "cell_type": "code",
   "execution_count": 20,
   "metadata": {
    "collapsed": true
   },
   "outputs": [],
   "source": [
    "USER = 'ptwobrussell'\n",
    "REPO = 'Mining-the-Social-Web'\n",
    "\n",
    "user = git_client.get_user(USER)\n",
    "repo = user.get_repo(REPO)"
   ]
  },
  {
   "cell_type": "markdown",
   "metadata": {},
   "source": [
    "# Repo Metadata Functions"
   ]
  },
  {
   "cell_type": "code",
   "execution_count": 54,
   "metadata": {
    "collapsed": true
   },
   "outputs": [],
   "source": [
    "def repo_subscribers(repo):\n",
    "    '''\n",
    "    IN: github repo object\n",
    "    RETURN: dictionary of subscribers keyed by repo full_name\n",
    "    '''\n",
    "    repo_dict = {}\n",
    "    try:\n",
    "        repo_dict[repo.full_name] = [f.login for f in repo.get_watchers()]\n",
    "    except:\n",
    "        repo_dict[repo.full_name] = ''\n",
    "        \n",
    "    return repo_dict"
   ]
  },
  {
   "cell_type": "code",
   "execution_count": 55,
   "metadata": {
    "collapsed": false
   },
   "outputs": [
    {
     "data": {
      "text/plain": [
       "1074"
      ]
     },
     "execution_count": 55,
     "metadata": {},
     "output_type": "execute_result"
    }
   ],
   "source": [
    "b = list(repo_subscribers(repo).values())\n",
    "len(b[0])"
   ]
  },
  {
   "cell_type": "code",
   "execution_count": null,
   "metadata": {
    "collapsed": true
   },
   "outputs": [],
   "source": [
    "repo.get_watchers"
   ]
  },
  {
   "cell_type": "code",
   "execution_count": 27,
   "metadata": {
    "collapsed": true
   },
   "outputs": [],
   "source": [
    "def repo_stargazers(repo):\n",
    "    '''\n",
    "    IN: github repo object\n",
    "    RETURN: dictionary of stargazers keyed by repo full_name\n",
    "    '''\n",
    "    repo_dict = {}\n",
    "    try:\n",
    "        repo_dict[repo.full_name] = [f.login for f in repo.get_stargazers()]\n",
    "    except:\n",
    "        repo_dict[repo.full_name] = ''\n",
    "\n",
    "    return repo_dict"
   ]
  },
  {
   "cell_type": "code",
   "execution_count": 53,
   "metadata": {
    "collapsed": false
   },
   "outputs": [
    {
     "data": {
      "text/plain": [
       "1074"
      ]
     },
     "execution_count": 53,
     "metadata": {},
     "output_type": "execute_result"
    }
   ],
   "source": [
    "c = list(repo_stargazers(repo).values())\n",
    "len(c[0])"
   ]
  },
  {
   "cell_type": "code",
   "execution_count": 13,
   "metadata": {
    "collapsed": true
   },
   "outputs": [],
   "source": [
    "def repo_contributors(repo):\n",
    "    '''\n",
    "    IN: github repo object\n",
    "    RETURN: dictionary of contributors keyed by repo full_name\n",
    "    '''\n",
    "    repo_dict = {}\n",
    "    try:\n",
    "        repo_dict[repo.full_name] = [f.login for f in repo.get_contributors()]\n",
    "    except:\n",
    "        repo_dict[repo.full_name] = ''\n",
    "        \n",
    "    return repo_dict"
   ]
  },
  {
   "cell_type": "code",
   "execution_count": 14,
   "metadata": {
    "collapsed": false
   },
   "outputs": [],
   "source": [
    "def repo_metadata(repo):\n",
    "    repo_keys = ['id', 'owner', 'name', 'full_name', 'description', 'fork', 'html_url', 'homepage', \n",
    "             'language', 'forks_count', 'size', 'open_issues_count', 'has_issues', 'has_wiki', 'has_downloads', \n",
    "             'pushed_at', 'created_at', 'subscribers_count', 'stargazers_count']\n",
    "    \n",
    "    owner_keys = ['type', 'login', 'id', 'site_admin']\n",
    "    \n",
    "    # get returned payload raw data into dictionary\n",
    "    raw_dict = dict(repo.raw_data)\n",
    "    \n",
    "    # trim repo by keys listed above\n",
    "    repo_dict = {k: raw_dict[k] for k in repo_keys}\n",
    "    \n",
    "    # trim owner by keys listed above\n",
    "    owner_dict = {k: raw_dict['owner'][k] for k in owner_keys}\n",
    "    repo_dict['owner'] = owner_dict\n",
    "    \n",
    "    return repo_dict"
   ]
  },
  {
   "cell_type": "code",
   "execution_count": 15,
   "metadata": {
    "collapsed": false
   },
   "outputs": [],
   "source": [
    "#a = repo_metadata(repo)"
   ]
  },
  {
   "cell_type": "markdown",
   "metadata": {},
   "source": [
    "# User Metadata Functions"
   ]
  },
  {
   "cell_type": "code",
   "execution_count": 16,
   "metadata": {
    "collapsed": false
   },
   "outputs": [],
   "source": [
    "def user_following(user):\n",
    "    '''\n",
    "    IN: github user object\n",
    "    RETURN: dictionary of users (login name) followed by user (passed) \n",
    "            keyed by passed user's login\n",
    "    '''\n",
    "    user_dict = {}\n",
    "    try:\n",
    "        user_dict[user.login] = [f.name for f in user.get_following()]\n",
    "    except:\n",
    "        user_dict[user.login] = ''\n",
    "        \n",
    "    return user_dict"
   ]
  },
  {
   "cell_type": "code",
   "execution_count": 17,
   "metadata": {
    "collapsed": false
   },
   "outputs": [],
   "source": [
    "def user_followers(user):\n",
    "    '''\n",
    "    IN: github user object\n",
    "    RETURN: dictionary of users (login name) who follow user (passed)\n",
    "            keyed by passed user's login\n",
    "    '''\n",
    "    user_dict = []\n",
    "    try:\n",
    "        user_dict[user.login] = [f.login for f in user.get_followers()]\n",
    "    except:\n",
    "        user_dict[user.login] = ''\n",
    "    \n",
    "    return user_dict"
   ]
  },
  {
   "cell_type": "code",
   "execution_count": 18,
   "metadata": {
    "collapsed": false
   },
   "outputs": [],
   "source": [
    "def user_starred(user):\n",
    "    '''\n",
    "    IN: github user object\n",
    "    RETURN: dictionary of repos (full_name) starred by user (passed)\n",
    "            keyed by passed user's login\n",
    "    '''\n",
    "    user_dict = {}\n",
    "    try:\n",
    "        user_dict[user.login] = [f.full_name for f in user.get_starred()]\n",
    "    except:\n",
    "        user_dict[user.login] = ''\n",
    "        \n",
    "    return user_dict"
   ]
  },
  {
   "cell_type": "markdown",
   "metadata": {},
   "source": [
    "# User data"
   ]
  },
  {
   "cell_type": "code",
   "execution_count": 19,
   "metadata": {
    "collapsed": false
   },
   "outputs": [],
   "source": [
    "def user_metadata(user):\n",
    "    user_keys = ['email', 'followers', 'hireable', 'login', 'id', 'bio', 'avatar_url', 'company', \n",
    "                 'updated_at', 'type', 'created_at', 'name', 'location', 'html_url', 'public_repos', \n",
    "                 'blog', 'public_gists', 'following']\n",
    "\n",
    "    # get returned payload raw data into dictionary\n",
    "    raw_dict = dict(user.raw_data)\n",
    "    \n",
    "    # trim user by keys listed above\n",
    "    user_dict = {k: raw_dict[k] for k in user_keys}\n",
    "    \n",
    "    return user_dict"
   ]
  },
  {
   "cell_type": "markdown",
   "metadata": {},
   "source": [
    "# Upsert MongoDB Document by Repo Full Name"
   ]
  },
  {
   "cell_type": "code",
   "execution_count": null,
   "metadata": {
    "collapsed": false
   },
   "outputs": [],
   "source": [
    "def repo_doc_upsert(repo_fullname, file_name, raw_file_contents, file_extension, doc_num):\n",
    "    '''\n",
    "    '''\n",
    "    # strip newline and tab chars from raw file content\n",
    "    stripped_file_contents = raw_file_contents.replace('\\n', ' ')\n",
    "    stripped_file_contents = stripped_file_contents.replace('\\t', ' ')\n",
    "    \n",
    "    repo_chk = db['github_repos'].find({repo_fullname: {\"$exists\": True}})\n",
    "    \n",
    "    if not repo_chk:\n",
    "        db['github_repos'].insert_one({'_id':repo_fullname})\n",
    "        \n",
    "    try:\n",
    "        db['github_repos'].update_one({'_id' : repo_fullname}, \n",
    "        {\n",
    "            '$set':{\n",
    "                doc_num: {\n",
    "                        'file_name': file_name,\n",
    "                        #'raw_file': raw_file_contents,\n",
    "                        'stripped_file': stripped_file_contents,\n",
    "                        'extension': file_extension,\n",
    "                        }\n",
    "            }\n",
    "        }, upsert=True\n",
    "        )\n",
    "    except:\n",
    "        pass\n",
    "    return None"
   ]
  },
  {
   "cell_type": "markdown",
   "metadata": {},
   "source": [
    "# Upsert MongoDB Repo Metadata by Repo Full Name"
   ]
  },
  {
   "cell_type": "code",
   "execution_count": null,
   "metadata": {
    "collapsed": false
   },
   "outputs": [],
   "source": [
    "def repo_meta_upsert(repo_fullname, repo_metadata):\n",
    "    repo_chk = db['github_repos'].find({repo_fullname: {\"$exists\": True}})\n",
    "    \n",
    "    if not repo_chk:\n",
    "        db['github_repos'].insert_one({'_id':repo_fullname})\n",
    "        \n",
    "    try:\n",
    "        db['github_repos'].update_one({'_id' : repo_fullname}, \n",
    "        {\n",
    "            '$set':{\n",
    "                db['github_repos'].insert_one(repo_metadata)\n",
    "            }\n",
    "        }, upsert=True\n",
    "        )\n",
    "    except:\n",
    "        pass\n",
    "    return None"
   ]
  },
  {
   "cell_type": "code",
   "execution_count": null,
   "metadata": {
    "collapsed": false
   },
   "outputs": [],
   "source": [
    "def upload_files(repo, doc_ct, _path='.'):\n",
    "    '''\n",
    "    IN: github repo object and path to folder\n",
    "    RETRUN: all files from repo except those in the exclusion list\n",
    "    '''\n",
    "    # only files with these extensions\n",
    "    extensions = ['py']\n",
    "\n",
    "    # grab all contents in the main directory\n",
    "    dir_contents = repo.get_dir_contents(_path)\n",
    "    repo_fullname = repo.full_name\n",
    "\n",
    "    for content in dir_contents:\n",
    "        # if item is a directory then recursively navigate lower to get files inside\n",
    "        if content.type == 'dir':\n",
    "            upload_files(repo, doc_ct, _path=content.path)\n",
    "\n",
    "        else:\n",
    "            doc_ct += 1\n",
    "            \n",
    "            # get file extension\n",
    "            file_split = content.name.split('.')\n",
    "            file_ext = file_split[-1]\n",
    "\n",
    "            if file_ext in extensions:\n",
    "                # try to decode, but return blank if fail\n",
    "                try:\n",
    "                    raw_file_content = content.decoded_content.decode(errors='replace') # decode githubs compression\n",
    "                except:\n",
    "                    raw_file_content = ''\n",
    "                    \n",
    "                # file and mongod doc names\n",
    "                file_name = content.name\n",
    "                doc_name = 'doc_{0}'.format(doc_ct)\n",
    "                \n",
    "                # if file is not too large (>16mb), add to collection\n",
    "                file_size = sys.getsizeof(raw_file_content)\n",
    "                if file_size < 16000000:\n",
    "                    repo_doc_upsert(repo_fullname, file_name, raw_file_content, file_ext, doc_name)\n",
    "                else:\n",
    "                    print('FILE SIZE LIMIT: {0} -- {1}'.format(file_name, file_size))\n",
    "    return None"
   ]
  },
  {
   "cell_type": "markdown",
   "metadata": {},
   "source": [
    "# Search Github for 'Python' repositories"
   ]
  },
  {
   "cell_type": "code",
   "execution_count": null,
   "metadata": {
    "collapsed": false
   },
   "outputs": [],
   "source": [
    "import time\n",
    "\n",
    "for repo in git_client.search_repositories('python')[5:6]:\n",
    "    doc_ct = 0\n",
    "    \n",
    "    # ensure its a python tagged dirctory\n",
    "    if repo.language.lower() == 'python':\n",
    "        \n",
    "        #############################\n",
    "        # INSERT FURTHER CALLS HERE #\n",
    "        \n",
    "        rate, _ = get_remaining('core')\n",
    "        \n",
    "        if (rate > 10):\n",
    "            print('Working on {0}'.format(repo.full_name))\n",
    "            upload_files(repo, doc_ct)\n",
    "            \n",
    "            # insert metadata\n",
    "            repo_metadata = repo_data(repo)\n",
    "            repo_meta_upsert(repo.full_name, repo_metadata)\n",
    "            \n",
    "        else:\n",
    "            print('Waiting to continue...')\n",
    "            time.sleep(1800)\n",
    "            \n",
    "            if (rate > 10):\n",
    "                print('Retrying {0}'.format(repo.full_name))\n",
    "                upload_files(repo, doc_ct)\n",
    "            else:\n",
    "                print('Waiting to continue...')\n",
    "                time.sleep(1800)\n",
    "            \n",
    "                if (rate > 10):\n",
    "                    print('Final retry {0}'.format(repo.full_name))\n",
    "                    upload_files(repo, doc_ct)\n",
    "                else:\n",
    "                    print('Waiting to continue...')\n",
    "                    time.sleep(900)\n",
    "            \n",
    "        #############################\n",
    "        \n",
    "    # don't get cut off\n",
    "    time.sleep(randint(2,9))\n",
    "    \n",
    "print('DONE')"
   ]
  },
  {
   "cell_type": "code",
   "execution_count": null,
   "metadata": {
    "collapsed": false
   },
   "outputs": [],
   "source": [
    "for cursor in db['github_repos'].find():\n",
    "    pprint(cursor)"
   ]
  },
  {
   "cell_type": "code",
   "execution_count": null,
   "metadata": {
    "collapsed": false
   },
   "outputs": [],
   "source": [
    "_ = db.drop_collection('github_repos')\n",
    "_ = db.create_collection('github_repos')"
   ]
  },
  {
   "cell_type": "code",
   "execution_count": null,
   "metadata": {
    "collapsed": false
   },
   "outputs": [],
   "source": [
    "_ = db['github_repos'].insert_one({'_id':'joe011/python'})"
   ]
  },
  {
   "cell_type": "code",
   "execution_count": null,
   "metadata": {
    "collapsed": true
   },
   "outputs": [],
   "source": []
  },
  {
   "cell_type": "code",
   "execution_count": null,
   "metadata": {
    "collapsed": false
   },
   "outputs": [],
   "source": [
    "\n"
   ]
  },
  {
   "cell_type": "code",
   "execution_count": null,
   "metadata": {
    "collapsed": true
   },
   "outputs": [],
   "source": []
  }
 ],
 "metadata": {
  "anaconda-cloud": {},
  "kernelspec": {
   "display_name": "Python 3",
   "language": "python",
   "name": "python3"
  },
  "language_info": {
   "codemirror_mode": {
    "name": "ipython",
    "version": 3
   },
   "file_extension": ".py",
   "mimetype": "text/x-python",
   "name": "python",
   "nbconvert_exporter": "python",
   "pygments_lexer": "ipython3",
   "version": "3.5.2"
  }
 },
 "nbformat": 4,
 "nbformat_minor": 1
}
