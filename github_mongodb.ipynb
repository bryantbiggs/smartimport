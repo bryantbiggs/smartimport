{
 "cells": [
  {
   "cell_type": "code",
   "execution_count": 1,
   "metadata": {
    "collapsed": false
   },
   "outputs": [],
   "source": [
    "import os\n",
    "import re\n",
    "import time\n",
    "from github import Github"
   ]
  },
  {
   "cell_type": "markdown",
   "metadata": {},
   "source": [
    "# Credentials"
   ]
  },
  {
   "cell_type": "code",
   "execution_count": 2,
   "metadata": {
    "collapsed": true
   },
   "outputs": [],
   "source": [
    "from pymongo import MongoClient\n",
    "pw_file = 'credentials/pw.txt'\n",
    "if os.path.exists(pw_file): \n",
    "    with open(pw_file, 'r') as f:\n",
    "        email, indeed_pw = f.readline().strip().split(', ')\n",
    "        username, pia_pw = f.readline().strip().split(', ')\n",
    "        pub_ip, mongo_usr, mongo_usr_pw = f.readline().strip().split(', ')"
   ]
  },
  {
   "cell_type": "markdown",
   "metadata": {},
   "source": [
    "# Connect to MongoDB"
   ]
  },
  {
   "cell_type": "code",
   "execution_count": 3,
   "metadata": {
    "collapsed": false
   },
   "outputs": [
    {
     "data": {
      "text/plain": [
       "True"
      ]
     },
     "execution_count": 3,
     "metadata": {},
     "output_type": "execute_result"
    }
   ],
   "source": [
    "# connect to ec2 mongo client\n",
    "client = MongoClient('{0}:27017'.format(pub_ip))\n",
    "\n",
    "# get reference to  resume_db\n",
    "db = client['github_db']\n",
    "\n",
    "# authenticate user for database\n",
    "db.authenticate(mongo_usr, mongo_usr_pw)"
   ]
  },
  {
   "cell_type": "markdown",
   "metadata": {},
   "source": [
    "# Create a collection"
   ]
  },
  {
   "cell_type": "code",
   "execution_count": 4,
   "metadata": {
    "collapsed": true
   },
   "outputs": [],
   "source": [
    "# create a collection called 'github'\n",
    "if 'github_users' not in db.collection_names():\n",
    "    db.create_collection('github_users')"
   ]
  },
  {
   "cell_type": "code",
   "execution_count": 5,
   "metadata": {
    "collapsed": false
   },
   "outputs": [
    {
     "data": {
      "text/plain": [
       "['github_users']"
      ]
     },
     "execution_count": 5,
     "metadata": {},
     "output_type": "execute_result"
    }
   ],
   "source": [
    "db.collection_names()"
   ]
  },
  {
   "cell_type": "markdown",
   "metadata": {},
   "source": [
    "# Upsert Document (Insert/Update)"
   ]
  },
  {
   "cell_type": "code",
   "execution_count": 6,
   "metadata": {
    "collapsed": true
   },
   "outputs": [],
   "source": [
    "def upsert_doc(collection, link_id, term, res_txt):\n",
    "    '''\n",
    "    collection: mongodb collection data will be upserted into\n",
    "    link_id: unique id for users resume online\n",
    "    term: term searched when resume was found\n",
    "    res_text: text only from resume\n",
    "    '''\n",
    "    db[collection].update_one({\n",
    "        'link_id': link_id,\n",
    "    }, \n",
    "    {\n",
    "        '$set':{\n",
    "            'search_term': term,\n",
    "            'resume_text': res_txt,\n",
    "        }\n",
    "    }, upsert=True\n",
    "    )\n",
    "\n",
    "    return None"
   ]
  },
  {
   "cell_type": "markdown",
   "metadata": {},
   "source": [
    "# Get authenticated access to Github for higher requests limit"
   ]
  },
  {
   "cell_type": "code",
   "execution_count": 10,
   "metadata": {
    "collapsed": false
   },
   "outputs": [],
   "source": [
    "# import github private token\n",
    "with open('credentials/token.txt', 'r') as infile:\n",
    "    token = infile.readline().strip()\n",
    "    user = infile.readline().strip()\n",
    "\n",
    "git_client = Github(token)"
   ]
  },
  {
   "cell_type": "code",
   "execution_count": 11,
   "metadata": {
    "collapsed": false
   },
   "outputs": [],
   "source": [
    "USER = 'ptwobrussell'\n",
    "REPO = 'Mining-the-Social-Web'\n",
    "\n",
    "user = git_client.get_user(USER)\n",
    "repo = user.get_repo(REPO)"
   ]
  },
  {
   "cell_type": "markdown",
   "metadata": {},
   "source": [
    "# Repo Info"
   ]
  },
  {
   "cell_type": "code",
   "execution_count": 109,
   "metadata": {
    "collapsed": false
   },
   "outputs": [
    {
     "name": "stdout",
     "output_type": "stream",
     "text": [
      "Repo created: 2010-11-01 01:26:07\n",
      "Repo description: The official online compendium for Mining the Social Web (O'Reilly, 2011)\n",
      "Repo owner: Matthew A. Russell\n",
      "############## GO DEEPER INTO OWNER ##############\n",
      "Repo number of forks: 451\n",
      "Repo full (semi-unique) name: ptwobrussell/Mining-the-Social-Web\n",
      "Repo name: Mining-the-Social-Web\n",
      "Repo homepage: http://bit.ly/135dHfs\n",
      "Repo id: 1040700\n",
      "Repo language: JavaScript\n",
      "Repo number of open issues: 10\n",
      "Repo size: 2016\n",
      "Repo number of stargazers: 1072\n"
     ]
    },
    {
     "ename": "KeyboardInterrupt",
     "evalue": "",
     "output_type": "error",
     "traceback": [
      "\u001b[0;31m---------------------------------------------------------------------------\u001b[0m",
      "\u001b[0;31mKeyboardInterrupt\u001b[0m                         Traceback (most recent call last)",
      "\u001b[0;32m<ipython-input-109-da26931526ef>\u001b[0m in \u001b[0;36m<module>\u001b[0;34m()\u001b[0m\n\u001b[1;32m     15\u001b[0m \u001b[0mprint\u001b[0m\u001b[0;34m(\u001b[0m\u001b[0;34m'Repo number of stargazers: {0}'\u001b[0m\u001b[0;34m.\u001b[0m\u001b[0mformat\u001b[0m\u001b[0;34m(\u001b[0m\u001b[0mrepo\u001b[0m\u001b[0;34m.\u001b[0m\u001b[0mstargazers_count\u001b[0m\u001b[0;34m)\u001b[0m\u001b[0;34m)\u001b[0m\u001b[0;34m\u001b[0m\u001b[0m\n\u001b[1;32m     16\u001b[0m \u001b[0;32mif\u001b[0m \u001b[0mrepo\u001b[0m\u001b[0;34m.\u001b[0m\u001b[0mstargazers_count\u001b[0m \u001b[0;34m>\u001b[0m \u001b[0;36m0\u001b[0m\u001b[0;34m:\u001b[0m\u001b[0;34m\u001b[0m\u001b[0m\n\u001b[0;32m---> 17\u001b[0;31m     \u001b[0mstargazers\u001b[0m \u001b[0;34m=\u001b[0m \u001b[0;34m[\u001b[0m\u001b[0mf\u001b[0m\u001b[0;34m.\u001b[0m\u001b[0mname\u001b[0m \u001b[0;32mfor\u001b[0m \u001b[0mf\u001b[0m \u001b[0;32min\u001b[0m \u001b[0mrepo\u001b[0m\u001b[0;34m.\u001b[0m\u001b[0mget_stargazers\u001b[0m\u001b[0;34m(\u001b[0m\u001b[0;34m)\u001b[0m\u001b[0;34m]\u001b[0m\u001b[0;34m\u001b[0m\u001b[0m\n\u001b[0m\u001b[1;32m     18\u001b[0m     \u001b[0mstargazers\u001b[0m \u001b[0;34m=\u001b[0m \u001b[0mstargazers\u001b[0m\u001b[0;34m[\u001b[0m\u001b[0;34m:\u001b[0m\u001b[0;36m5\u001b[0m\u001b[0;34m]\u001b[0m\u001b[0;34m\u001b[0m\u001b[0m\n\u001b[1;32m     19\u001b[0m \u001b[0;32melse\u001b[0m\u001b[0;34m:\u001b[0m\u001b[0;34m\u001b[0m\u001b[0m\n",
      "\u001b[0;32m<ipython-input-109-da26931526ef>\u001b[0m in \u001b[0;36m<listcomp>\u001b[0;34m(.0)\u001b[0m\n\u001b[1;32m     15\u001b[0m \u001b[0mprint\u001b[0m\u001b[0;34m(\u001b[0m\u001b[0;34m'Repo number of stargazers: {0}'\u001b[0m\u001b[0;34m.\u001b[0m\u001b[0mformat\u001b[0m\u001b[0;34m(\u001b[0m\u001b[0mrepo\u001b[0m\u001b[0;34m.\u001b[0m\u001b[0mstargazers_count\u001b[0m\u001b[0;34m)\u001b[0m\u001b[0;34m)\u001b[0m\u001b[0;34m\u001b[0m\u001b[0m\n\u001b[1;32m     16\u001b[0m \u001b[0;32mif\u001b[0m \u001b[0mrepo\u001b[0m\u001b[0;34m.\u001b[0m\u001b[0mstargazers_count\u001b[0m \u001b[0;34m>\u001b[0m \u001b[0;36m0\u001b[0m\u001b[0;34m:\u001b[0m\u001b[0;34m\u001b[0m\u001b[0m\n\u001b[0;32m---> 17\u001b[0;31m     \u001b[0mstargazers\u001b[0m \u001b[0;34m=\u001b[0m \u001b[0;34m[\u001b[0m\u001b[0mf\u001b[0m\u001b[0;34m.\u001b[0m\u001b[0mname\u001b[0m \u001b[0;32mfor\u001b[0m \u001b[0mf\u001b[0m \u001b[0;32min\u001b[0m \u001b[0mrepo\u001b[0m\u001b[0;34m.\u001b[0m\u001b[0mget_stargazers\u001b[0m\u001b[0;34m(\u001b[0m\u001b[0;34m)\u001b[0m\u001b[0;34m]\u001b[0m\u001b[0;34m\u001b[0m\u001b[0m\n\u001b[0m\u001b[1;32m     18\u001b[0m     \u001b[0mstargazers\u001b[0m \u001b[0;34m=\u001b[0m \u001b[0mstargazers\u001b[0m\u001b[0;34m[\u001b[0m\u001b[0;34m:\u001b[0m\u001b[0;36m5\u001b[0m\u001b[0;34m]\u001b[0m\u001b[0;34m\u001b[0m\u001b[0m\n\u001b[1;32m     19\u001b[0m \u001b[0;32melse\u001b[0m\u001b[0;34m:\u001b[0m\u001b[0;34m\u001b[0m\u001b[0m\n",
      "\u001b[0;32m/Library/Frameworks/Python.framework/Versions/3.5/lib/python3.5/site-packages/github/NamedUser.py\u001b[0m in \u001b[0;36mname\u001b[0;34m(self)\u001b[0m\n\u001b[1;32m    216\u001b[0m         \u001b[0;34m:\u001b[0m\u001b[0mtype\u001b[0m\u001b[0;34m:\u001b[0m \u001b[0mstring\u001b[0m\u001b[0;34m\u001b[0m\u001b[0m\n\u001b[1;32m    217\u001b[0m         \"\"\"\n\u001b[0;32m--> 218\u001b[0;31m         \u001b[0mself\u001b[0m\u001b[0;34m.\u001b[0m\u001b[0m_completeIfNotSet\u001b[0m\u001b[0;34m(\u001b[0m\u001b[0mself\u001b[0m\u001b[0;34m.\u001b[0m\u001b[0m_name\u001b[0m\u001b[0;34m)\u001b[0m\u001b[0;34m\u001b[0m\u001b[0m\n\u001b[0m\u001b[1;32m    219\u001b[0m         \u001b[0;32mreturn\u001b[0m \u001b[0mself\u001b[0m\u001b[0;34m.\u001b[0m\u001b[0m_name\u001b[0m\u001b[0;34m.\u001b[0m\u001b[0mvalue\u001b[0m\u001b[0;34m\u001b[0m\u001b[0m\n\u001b[1;32m    220\u001b[0m \u001b[0;34m\u001b[0m\u001b[0m\n",
      "\u001b[0;32m/Library/Frameworks/Python.framework/Versions/3.5/lib/python3.5/site-packages/github/GithubObject.py\u001b[0m in \u001b[0;36m_completeIfNotSet\u001b[0;34m(self, value)\u001b[0m\n\u001b[1;32m    227\u001b[0m     \u001b[0;32mdef\u001b[0m \u001b[0m_completeIfNotSet\u001b[0m\u001b[0;34m(\u001b[0m\u001b[0mself\u001b[0m\u001b[0;34m,\u001b[0m \u001b[0mvalue\u001b[0m\u001b[0;34m)\u001b[0m\u001b[0;34m:\u001b[0m\u001b[0;34m\u001b[0m\u001b[0m\n\u001b[1;32m    228\u001b[0m         \u001b[0;32mif\u001b[0m \u001b[0mvalue\u001b[0m \u001b[0;32mis\u001b[0m \u001b[0mNotSet\u001b[0m\u001b[0;34m:\u001b[0m\u001b[0;34m\u001b[0m\u001b[0m\n\u001b[0;32m--> 229\u001b[0;31m             \u001b[0mself\u001b[0m\u001b[0;34m.\u001b[0m\u001b[0m_completeIfNeeded\u001b[0m\u001b[0;34m(\u001b[0m\u001b[0;34m)\u001b[0m\u001b[0;34m\u001b[0m\u001b[0m\n\u001b[0m\u001b[1;32m    230\u001b[0m \u001b[0;34m\u001b[0m\u001b[0m\n\u001b[1;32m    231\u001b[0m     \u001b[0;32mdef\u001b[0m \u001b[0m_completeIfNeeded\u001b[0m\u001b[0;34m(\u001b[0m\u001b[0mself\u001b[0m\u001b[0;34m)\u001b[0m\u001b[0;34m:\u001b[0m\u001b[0;34m\u001b[0m\u001b[0m\n",
      "\u001b[0;32m/Library/Frameworks/Python.framework/Versions/3.5/lib/python3.5/site-packages/github/GithubObject.py\u001b[0m in \u001b[0;36m_completeIfNeeded\u001b[0;34m(self)\u001b[0m\n\u001b[1;32m    231\u001b[0m     \u001b[0;32mdef\u001b[0m \u001b[0m_completeIfNeeded\u001b[0m\u001b[0;34m(\u001b[0m\u001b[0mself\u001b[0m\u001b[0;34m)\u001b[0m\u001b[0;34m:\u001b[0m\u001b[0;34m\u001b[0m\u001b[0m\n\u001b[1;32m    232\u001b[0m         \u001b[0;32mif\u001b[0m \u001b[0;32mnot\u001b[0m \u001b[0mself\u001b[0m\u001b[0;34m.\u001b[0m\u001b[0m__completed\u001b[0m\u001b[0;34m:\u001b[0m\u001b[0;34m\u001b[0m\u001b[0m\n\u001b[0;32m--> 233\u001b[0;31m             \u001b[0mself\u001b[0m\u001b[0;34m.\u001b[0m\u001b[0m__complete\u001b[0m\u001b[0;34m(\u001b[0m\u001b[0;34m)\u001b[0m\u001b[0;34m\u001b[0m\u001b[0m\n\u001b[0m\u001b[1;32m    234\u001b[0m \u001b[0;34m\u001b[0m\u001b[0m\n\u001b[1;32m    235\u001b[0m     \u001b[0;32mdef\u001b[0m \u001b[0m__complete\u001b[0m\u001b[0;34m(\u001b[0m\u001b[0mself\u001b[0m\u001b[0;34m)\u001b[0m\u001b[0;34m:\u001b[0m\u001b[0;34m\u001b[0m\u001b[0m\n",
      "\u001b[0;32m/Library/Frameworks/Python.framework/Versions/3.5/lib/python3.5/site-packages/github/GithubObject.py\u001b[0m in \u001b[0;36m__complete\u001b[0;34m(self)\u001b[0m\n\u001b[1;32m    236\u001b[0m         headers, data = self._requester.requestJsonAndCheck(\n\u001b[1;32m    237\u001b[0m             \u001b[0;34m\"GET\"\u001b[0m\u001b[0;34m,\u001b[0m\u001b[0;34m\u001b[0m\u001b[0m\n\u001b[0;32m--> 238\u001b[0;31m             \u001b[0mself\u001b[0m\u001b[0;34m.\u001b[0m\u001b[0m_url\u001b[0m\u001b[0;34m.\u001b[0m\u001b[0mvalue\u001b[0m\u001b[0;34m\u001b[0m\u001b[0m\n\u001b[0m\u001b[1;32m    239\u001b[0m         )\n\u001b[1;32m    240\u001b[0m         \u001b[0mself\u001b[0m\u001b[0;34m.\u001b[0m\u001b[0m_storeAndUseAttributes\u001b[0m\u001b[0;34m(\u001b[0m\u001b[0mheaders\u001b[0m\u001b[0;34m,\u001b[0m \u001b[0mdata\u001b[0m\u001b[0;34m)\u001b[0m\u001b[0;34m\u001b[0m\u001b[0m\n",
      "\u001b[0;32m/Library/Frameworks/Python.framework/Versions/3.5/lib/python3.5/site-packages/github/Requester.py\u001b[0m in \u001b[0;36mrequestJsonAndCheck\u001b[0;34m(self, verb, url, parameters, headers, input, cnx)\u001b[0m\n\u001b[1;32m    170\u001b[0m \u001b[0;34m\u001b[0m\u001b[0m\n\u001b[1;32m    171\u001b[0m     \u001b[0;32mdef\u001b[0m \u001b[0mrequestJsonAndCheck\u001b[0m\u001b[0;34m(\u001b[0m\u001b[0mself\u001b[0m\u001b[0;34m,\u001b[0m \u001b[0mverb\u001b[0m\u001b[0;34m,\u001b[0m \u001b[0murl\u001b[0m\u001b[0;34m,\u001b[0m \u001b[0mparameters\u001b[0m\u001b[0;34m=\u001b[0m\u001b[0;32mNone\u001b[0m\u001b[0;34m,\u001b[0m \u001b[0mheaders\u001b[0m\u001b[0;34m=\u001b[0m\u001b[0;32mNone\u001b[0m\u001b[0;34m,\u001b[0m \u001b[0minput\u001b[0m\u001b[0;34m=\u001b[0m\u001b[0;32mNone\u001b[0m\u001b[0;34m,\u001b[0m \u001b[0mcnx\u001b[0m\u001b[0;34m=\u001b[0m\u001b[0;32mNone\u001b[0m\u001b[0;34m)\u001b[0m\u001b[0;34m:\u001b[0m\u001b[0;34m\u001b[0m\u001b[0m\n\u001b[0;32m--> 172\u001b[0;31m         \u001b[0;32mreturn\u001b[0m \u001b[0mself\u001b[0m\u001b[0;34m.\u001b[0m\u001b[0m__check\u001b[0m\u001b[0;34m(\u001b[0m\u001b[0;34m*\u001b[0m\u001b[0mself\u001b[0m\u001b[0;34m.\u001b[0m\u001b[0mrequestJson\u001b[0m\u001b[0;34m(\u001b[0m\u001b[0mverb\u001b[0m\u001b[0;34m,\u001b[0m \u001b[0murl\u001b[0m\u001b[0;34m,\u001b[0m \u001b[0mparameters\u001b[0m\u001b[0;34m,\u001b[0m \u001b[0mheaders\u001b[0m\u001b[0;34m,\u001b[0m \u001b[0minput\u001b[0m\u001b[0;34m,\u001b[0m \u001b[0mcnx\u001b[0m\u001b[0;34m)\u001b[0m\u001b[0;34m)\u001b[0m\u001b[0;34m\u001b[0m\u001b[0m\n\u001b[0m\u001b[1;32m    173\u001b[0m \u001b[0;34m\u001b[0m\u001b[0m\n\u001b[1;32m    174\u001b[0m     \u001b[0;32mdef\u001b[0m \u001b[0mrequestMultipartAndCheck\u001b[0m\u001b[0;34m(\u001b[0m\u001b[0mself\u001b[0m\u001b[0;34m,\u001b[0m \u001b[0mverb\u001b[0m\u001b[0;34m,\u001b[0m \u001b[0murl\u001b[0m\u001b[0;34m,\u001b[0m \u001b[0mparameters\u001b[0m\u001b[0;34m=\u001b[0m\u001b[0;32mNone\u001b[0m\u001b[0;34m,\u001b[0m \u001b[0mheaders\u001b[0m\u001b[0;34m=\u001b[0m\u001b[0;32mNone\u001b[0m\u001b[0;34m,\u001b[0m \u001b[0minput\u001b[0m\u001b[0;34m=\u001b[0m\u001b[0;32mNone\u001b[0m\u001b[0;34m)\u001b[0m\u001b[0;34m:\u001b[0m\u001b[0;34m\u001b[0m\u001b[0m\n",
      "\u001b[0;32m/Library/Frameworks/Python.framework/Versions/3.5/lib/python3.5/site-packages/github/Requester.py\u001b[0m in \u001b[0;36mrequestJson\u001b[0;34m(self, verb, url, parameters, headers, input, cnx)\u001b[0m\n\u001b[1;32m    211\u001b[0m             \u001b[0;32mreturn\u001b[0m \u001b[0;34m\"application/json\"\u001b[0m\u001b[0;34m,\u001b[0m \u001b[0mjson\u001b[0m\u001b[0;34m.\u001b[0m\u001b[0mdumps\u001b[0m\u001b[0;34m(\u001b[0m\u001b[0minput\u001b[0m\u001b[0;34m)\u001b[0m\u001b[0;34m\u001b[0m\u001b[0m\n\u001b[1;32m    212\u001b[0m \u001b[0;34m\u001b[0m\u001b[0m\n\u001b[0;32m--> 213\u001b[0;31m         \u001b[0;32mreturn\u001b[0m \u001b[0mself\u001b[0m\u001b[0;34m.\u001b[0m\u001b[0m__requestEncode\u001b[0m\u001b[0;34m(\u001b[0m\u001b[0mcnx\u001b[0m\u001b[0;34m,\u001b[0m \u001b[0mverb\u001b[0m\u001b[0;34m,\u001b[0m \u001b[0murl\u001b[0m\u001b[0;34m,\u001b[0m \u001b[0mparameters\u001b[0m\u001b[0;34m,\u001b[0m \u001b[0mheaders\u001b[0m\u001b[0;34m,\u001b[0m \u001b[0minput\u001b[0m\u001b[0;34m,\u001b[0m \u001b[0mencode\u001b[0m\u001b[0;34m)\u001b[0m\u001b[0;34m\u001b[0m\u001b[0m\n\u001b[0m\u001b[1;32m    214\u001b[0m \u001b[0;34m\u001b[0m\u001b[0m\n\u001b[1;32m    215\u001b[0m     \u001b[0;32mdef\u001b[0m \u001b[0mrequestMultipart\u001b[0m\u001b[0;34m(\u001b[0m\u001b[0mself\u001b[0m\u001b[0;34m,\u001b[0m \u001b[0mverb\u001b[0m\u001b[0;34m,\u001b[0m \u001b[0murl\u001b[0m\u001b[0;34m,\u001b[0m \u001b[0mparameters\u001b[0m\u001b[0;34m=\u001b[0m\u001b[0;32mNone\u001b[0m\u001b[0;34m,\u001b[0m \u001b[0mheaders\u001b[0m\u001b[0;34m=\u001b[0m\u001b[0;32mNone\u001b[0m\u001b[0;34m,\u001b[0m \u001b[0minput\u001b[0m\u001b[0;34m=\u001b[0m\u001b[0;32mNone\u001b[0m\u001b[0;34m)\u001b[0m\u001b[0;34m:\u001b[0m\u001b[0;34m\u001b[0m\u001b[0m\n",
      "\u001b[0;32m/Library/Frameworks/Python.framework/Versions/3.5/lib/python3.5/site-packages/github/Requester.py\u001b[0m in \u001b[0;36m__requestEncode\u001b[0;34m(self, cnx, verb, url, parameters, requestHeaders, input, encode)\u001b[0m\n\u001b[1;32m    250\u001b[0m         \u001b[0mself\u001b[0m\u001b[0;34m.\u001b[0m\u001b[0mNEW_DEBUG_FRAME\u001b[0m\u001b[0;34m(\u001b[0m\u001b[0mrequestHeaders\u001b[0m\u001b[0;34m)\u001b[0m\u001b[0;34m\u001b[0m\u001b[0m\n\u001b[1;32m    251\u001b[0m \u001b[0;34m\u001b[0m\u001b[0m\n\u001b[0;32m--> 252\u001b[0;31m         \u001b[0mstatus\u001b[0m\u001b[0;34m,\u001b[0m \u001b[0mresponseHeaders\u001b[0m\u001b[0;34m,\u001b[0m \u001b[0moutput\u001b[0m \u001b[0;34m=\u001b[0m \u001b[0mself\u001b[0m\u001b[0;34m.\u001b[0m\u001b[0m__requestRaw\u001b[0m\u001b[0;34m(\u001b[0m\u001b[0mcnx\u001b[0m\u001b[0;34m,\u001b[0m \u001b[0mverb\u001b[0m\u001b[0;34m,\u001b[0m \u001b[0murl\u001b[0m\u001b[0;34m,\u001b[0m \u001b[0mrequestHeaders\u001b[0m\u001b[0;34m,\u001b[0m \u001b[0mencoded_input\u001b[0m\u001b[0;34m)\u001b[0m\u001b[0;34m\u001b[0m\u001b[0m\n\u001b[0m\u001b[1;32m    253\u001b[0m \u001b[0;34m\u001b[0m\u001b[0m\n\u001b[1;32m    254\u001b[0m         \u001b[0;32mif\u001b[0m \u001b[0;34m\"x-ratelimit-remaining\"\u001b[0m \u001b[0;32min\u001b[0m \u001b[0mresponseHeaders\u001b[0m \u001b[0;32mand\u001b[0m \u001b[0;34m\"x-ratelimit-limit\"\u001b[0m \u001b[0;32min\u001b[0m \u001b[0mresponseHeaders\u001b[0m\u001b[0;34m:\u001b[0m\u001b[0;34m\u001b[0m\u001b[0m\n",
      "\u001b[0;32m/Library/Frameworks/Python.framework/Versions/3.5/lib/python3.5/site-packages/github/Requester.py\u001b[0m in \u001b[0;36m__requestRaw\u001b[0;34m(self, cnx, verb, url, requestHeaders, input)\u001b[0m\n\u001b[1;32m    275\u001b[0m             \u001b[0murl\u001b[0m\u001b[0;34m,\u001b[0m\u001b[0;34m\u001b[0m\u001b[0m\n\u001b[1;32m    276\u001b[0m             \u001b[0minput\u001b[0m\u001b[0;34m,\u001b[0m\u001b[0;34m\u001b[0m\u001b[0m\n\u001b[0;32m--> 277\u001b[0;31m             \u001b[0mrequestHeaders\u001b[0m\u001b[0;34m\u001b[0m\u001b[0m\n\u001b[0m\u001b[1;32m    278\u001b[0m         )\n\u001b[1;32m    279\u001b[0m         \u001b[0mresponse\u001b[0m \u001b[0;34m=\u001b[0m \u001b[0mcnx\u001b[0m\u001b[0;34m.\u001b[0m\u001b[0mgetresponse\u001b[0m\u001b[0;34m(\u001b[0m\u001b[0;34m)\u001b[0m\u001b[0;34m\u001b[0m\u001b[0m\n",
      "\u001b[0;32m/Library/Frameworks/Python.framework/Versions/3.5/lib/python3.5/http/client.py\u001b[0m in \u001b[0;36mrequest\u001b[0;34m(self, method, url, body, headers)\u001b[0m\n\u001b[1;32m   1104\u001b[0m     \u001b[0;32mdef\u001b[0m \u001b[0mrequest\u001b[0m\u001b[0;34m(\u001b[0m\u001b[0mself\u001b[0m\u001b[0;34m,\u001b[0m \u001b[0mmethod\u001b[0m\u001b[0;34m,\u001b[0m \u001b[0murl\u001b[0m\u001b[0;34m,\u001b[0m \u001b[0mbody\u001b[0m\u001b[0;34m=\u001b[0m\u001b[0;32mNone\u001b[0m\u001b[0;34m,\u001b[0m \u001b[0mheaders\u001b[0m\u001b[0;34m=\u001b[0m\u001b[0;34m{\u001b[0m\u001b[0;34m}\u001b[0m\u001b[0;34m)\u001b[0m\u001b[0;34m:\u001b[0m\u001b[0;34m\u001b[0m\u001b[0m\n\u001b[1;32m   1105\u001b[0m         \u001b[0;34m\"\"\"Send a complete request to the server.\"\"\"\u001b[0m\u001b[0;34m\u001b[0m\u001b[0m\n\u001b[0;32m-> 1106\u001b[0;31m         \u001b[0mself\u001b[0m\u001b[0;34m.\u001b[0m\u001b[0m_send_request\u001b[0m\u001b[0;34m(\u001b[0m\u001b[0mmethod\u001b[0m\u001b[0;34m,\u001b[0m \u001b[0murl\u001b[0m\u001b[0;34m,\u001b[0m \u001b[0mbody\u001b[0m\u001b[0;34m,\u001b[0m \u001b[0mheaders\u001b[0m\u001b[0;34m)\u001b[0m\u001b[0;34m\u001b[0m\u001b[0m\n\u001b[0m\u001b[1;32m   1107\u001b[0m \u001b[0;34m\u001b[0m\u001b[0m\n\u001b[1;32m   1108\u001b[0m     \u001b[0;32mdef\u001b[0m \u001b[0m_set_content_length\u001b[0m\u001b[0;34m(\u001b[0m\u001b[0mself\u001b[0m\u001b[0;34m,\u001b[0m \u001b[0mbody\u001b[0m\u001b[0;34m,\u001b[0m \u001b[0mmethod\u001b[0m\u001b[0;34m)\u001b[0m\u001b[0;34m:\u001b[0m\u001b[0;34m\u001b[0m\u001b[0m\n",
      "\u001b[0;32m/Library/Frameworks/Python.framework/Versions/3.5/lib/python3.5/http/client.py\u001b[0m in \u001b[0;36m_send_request\u001b[0;34m(self, method, url, body, headers)\u001b[0m\n\u001b[1;32m   1149\u001b[0m             \u001b[0;31m# default charset of iso-8859-1.\u001b[0m\u001b[0;34m\u001b[0m\u001b[0;34m\u001b[0m\u001b[0m\n\u001b[1;32m   1150\u001b[0m             \u001b[0mbody\u001b[0m \u001b[0;34m=\u001b[0m \u001b[0m_encode\u001b[0m\u001b[0;34m(\u001b[0m\u001b[0mbody\u001b[0m\u001b[0;34m,\u001b[0m \u001b[0;34m'body'\u001b[0m\u001b[0;34m)\u001b[0m\u001b[0;34m\u001b[0m\u001b[0m\n\u001b[0;32m-> 1151\u001b[0;31m         \u001b[0mself\u001b[0m\u001b[0;34m.\u001b[0m\u001b[0mendheaders\u001b[0m\u001b[0;34m(\u001b[0m\u001b[0mbody\u001b[0m\u001b[0;34m)\u001b[0m\u001b[0;34m\u001b[0m\u001b[0m\n\u001b[0m\u001b[1;32m   1152\u001b[0m \u001b[0;34m\u001b[0m\u001b[0m\n\u001b[1;32m   1153\u001b[0m     \u001b[0;32mdef\u001b[0m \u001b[0mgetresponse\u001b[0m\u001b[0;34m(\u001b[0m\u001b[0mself\u001b[0m\u001b[0;34m)\u001b[0m\u001b[0;34m:\u001b[0m\u001b[0;34m\u001b[0m\u001b[0m\n",
      "\u001b[0;32m/Library/Frameworks/Python.framework/Versions/3.5/lib/python3.5/http/client.py\u001b[0m in \u001b[0;36mendheaders\u001b[0;34m(self, message_body)\u001b[0m\n\u001b[1;32m   1100\u001b[0m         \u001b[0;32melse\u001b[0m\u001b[0;34m:\u001b[0m\u001b[0;34m\u001b[0m\u001b[0m\n\u001b[1;32m   1101\u001b[0m             \u001b[0;32mraise\u001b[0m \u001b[0mCannotSendHeader\u001b[0m\u001b[0;34m(\u001b[0m\u001b[0;34m)\u001b[0m\u001b[0;34m\u001b[0m\u001b[0m\n\u001b[0;32m-> 1102\u001b[0;31m         \u001b[0mself\u001b[0m\u001b[0;34m.\u001b[0m\u001b[0m_send_output\u001b[0m\u001b[0;34m(\u001b[0m\u001b[0mmessage_body\u001b[0m\u001b[0;34m)\u001b[0m\u001b[0;34m\u001b[0m\u001b[0m\n\u001b[0m\u001b[1;32m   1103\u001b[0m \u001b[0;34m\u001b[0m\u001b[0m\n\u001b[1;32m   1104\u001b[0m     \u001b[0;32mdef\u001b[0m \u001b[0mrequest\u001b[0m\u001b[0;34m(\u001b[0m\u001b[0mself\u001b[0m\u001b[0;34m,\u001b[0m \u001b[0mmethod\u001b[0m\u001b[0;34m,\u001b[0m \u001b[0murl\u001b[0m\u001b[0;34m,\u001b[0m \u001b[0mbody\u001b[0m\u001b[0;34m=\u001b[0m\u001b[0;32mNone\u001b[0m\u001b[0;34m,\u001b[0m \u001b[0mheaders\u001b[0m\u001b[0;34m=\u001b[0m\u001b[0;34m{\u001b[0m\u001b[0;34m}\u001b[0m\u001b[0;34m)\u001b[0m\u001b[0;34m:\u001b[0m\u001b[0;34m\u001b[0m\u001b[0m\n",
      "\u001b[0;32m/Library/Frameworks/Python.framework/Versions/3.5/lib/python3.5/http/client.py\u001b[0m in \u001b[0;36m_send_output\u001b[0;34m(self, message_body)\u001b[0m\n\u001b[1;32m    932\u001b[0m         \u001b[0;32mdel\u001b[0m \u001b[0mself\u001b[0m\u001b[0;34m.\u001b[0m\u001b[0m_buffer\u001b[0m\u001b[0;34m[\u001b[0m\u001b[0;34m:\u001b[0m\u001b[0;34m]\u001b[0m\u001b[0;34m\u001b[0m\u001b[0m\n\u001b[1;32m    933\u001b[0m \u001b[0;34m\u001b[0m\u001b[0m\n\u001b[0;32m--> 934\u001b[0;31m         \u001b[0mself\u001b[0m\u001b[0;34m.\u001b[0m\u001b[0msend\u001b[0m\u001b[0;34m(\u001b[0m\u001b[0mmsg\u001b[0m\u001b[0;34m)\u001b[0m\u001b[0;34m\u001b[0m\u001b[0m\n\u001b[0m\u001b[1;32m    935\u001b[0m         \u001b[0;32mif\u001b[0m \u001b[0mmessage_body\u001b[0m \u001b[0;32mis\u001b[0m \u001b[0;32mnot\u001b[0m \u001b[0;32mNone\u001b[0m\u001b[0;34m:\u001b[0m\u001b[0;34m\u001b[0m\u001b[0m\n\u001b[1;32m    936\u001b[0m             \u001b[0mself\u001b[0m\u001b[0;34m.\u001b[0m\u001b[0msend\u001b[0m\u001b[0;34m(\u001b[0m\u001b[0mmessage_body\u001b[0m\u001b[0;34m)\u001b[0m\u001b[0;34m\u001b[0m\u001b[0m\n",
      "\u001b[0;32m/Library/Frameworks/Python.framework/Versions/3.5/lib/python3.5/http/client.py\u001b[0m in \u001b[0;36msend\u001b[0;34m(self, data)\u001b[0m\n\u001b[1;32m    875\u001b[0m         \u001b[0;32mif\u001b[0m \u001b[0mself\u001b[0m\u001b[0;34m.\u001b[0m\u001b[0msock\u001b[0m \u001b[0;32mis\u001b[0m \u001b[0;32mNone\u001b[0m\u001b[0;34m:\u001b[0m\u001b[0;34m\u001b[0m\u001b[0m\n\u001b[1;32m    876\u001b[0m             \u001b[0;32mif\u001b[0m \u001b[0mself\u001b[0m\u001b[0;34m.\u001b[0m\u001b[0mauto_open\u001b[0m\u001b[0;34m:\u001b[0m\u001b[0;34m\u001b[0m\u001b[0m\n\u001b[0;32m--> 877\u001b[0;31m                 \u001b[0mself\u001b[0m\u001b[0;34m.\u001b[0m\u001b[0mconnect\u001b[0m\u001b[0;34m(\u001b[0m\u001b[0;34m)\u001b[0m\u001b[0;34m\u001b[0m\u001b[0m\n\u001b[0m\u001b[1;32m    878\u001b[0m             \u001b[0;32melse\u001b[0m\u001b[0;34m:\u001b[0m\u001b[0;34m\u001b[0m\u001b[0m\n\u001b[1;32m    879\u001b[0m                 \u001b[0;32mraise\u001b[0m \u001b[0mNotConnected\u001b[0m\u001b[0;34m(\u001b[0m\u001b[0;34m)\u001b[0m\u001b[0;34m\u001b[0m\u001b[0m\n",
      "\u001b[0;32m/Library/Frameworks/Python.framework/Versions/3.5/lib/python3.5/http/client.py\u001b[0m in \u001b[0;36mconnect\u001b[0;34m(self)\u001b[0m\n\u001b[1;32m   1250\u001b[0m             \u001b[0;34m\"Connect to a host on a given (SSL) port.\"\u001b[0m\u001b[0;34m\u001b[0m\u001b[0m\n\u001b[1;32m   1251\u001b[0m \u001b[0;34m\u001b[0m\u001b[0m\n\u001b[0;32m-> 1252\u001b[0;31m             \u001b[0msuper\u001b[0m\u001b[0;34m(\u001b[0m\u001b[0;34m)\u001b[0m\u001b[0;34m.\u001b[0m\u001b[0mconnect\u001b[0m\u001b[0;34m(\u001b[0m\u001b[0;34m)\u001b[0m\u001b[0;34m\u001b[0m\u001b[0m\n\u001b[0m\u001b[1;32m   1253\u001b[0m \u001b[0;34m\u001b[0m\u001b[0m\n\u001b[1;32m   1254\u001b[0m             \u001b[0;32mif\u001b[0m \u001b[0mself\u001b[0m\u001b[0;34m.\u001b[0m\u001b[0m_tunnel_host\u001b[0m\u001b[0;34m:\u001b[0m\u001b[0;34m\u001b[0m\u001b[0m\n",
      "\u001b[0;32m/Library/Frameworks/Python.framework/Versions/3.5/lib/python3.5/http/client.py\u001b[0m in \u001b[0;36mconnect\u001b[0;34m(self)\u001b[0m\n\u001b[1;32m    847\u001b[0m         \u001b[0;34m\"\"\"Connect to the host and port specified in __init__.\"\"\"\u001b[0m\u001b[0;34m\u001b[0m\u001b[0m\n\u001b[1;32m    848\u001b[0m         self.sock = self._create_connection(\n\u001b[0;32m--> 849\u001b[0;31m             (self.host,self.port), self.timeout, self.source_address)\n\u001b[0m\u001b[1;32m    850\u001b[0m         \u001b[0mself\u001b[0m\u001b[0;34m.\u001b[0m\u001b[0msock\u001b[0m\u001b[0;34m.\u001b[0m\u001b[0msetsockopt\u001b[0m\u001b[0;34m(\u001b[0m\u001b[0msocket\u001b[0m\u001b[0;34m.\u001b[0m\u001b[0mIPPROTO_TCP\u001b[0m\u001b[0;34m,\u001b[0m \u001b[0msocket\u001b[0m\u001b[0;34m.\u001b[0m\u001b[0mTCP_NODELAY\u001b[0m\u001b[0;34m,\u001b[0m \u001b[0;36m1\u001b[0m\u001b[0;34m)\u001b[0m\u001b[0;34m\u001b[0m\u001b[0m\n\u001b[1;32m    851\u001b[0m \u001b[0;34m\u001b[0m\u001b[0m\n",
      "\u001b[0;32m/Library/Frameworks/Python.framework/Versions/3.5/lib/python3.5/socket.py\u001b[0m in \u001b[0;36mcreate_connection\u001b[0;34m(address, timeout, source_address)\u001b[0m\n\u001b[1;32m    700\u001b[0m             \u001b[0;32mif\u001b[0m \u001b[0msource_address\u001b[0m\u001b[0;34m:\u001b[0m\u001b[0;34m\u001b[0m\u001b[0m\n\u001b[1;32m    701\u001b[0m                 \u001b[0msock\u001b[0m\u001b[0;34m.\u001b[0m\u001b[0mbind\u001b[0m\u001b[0;34m(\u001b[0m\u001b[0msource_address\u001b[0m\u001b[0;34m)\u001b[0m\u001b[0;34m\u001b[0m\u001b[0m\n\u001b[0;32m--> 702\u001b[0;31m             \u001b[0msock\u001b[0m\u001b[0;34m.\u001b[0m\u001b[0mconnect\u001b[0m\u001b[0;34m(\u001b[0m\u001b[0msa\u001b[0m\u001b[0;34m)\u001b[0m\u001b[0;34m\u001b[0m\u001b[0m\n\u001b[0m\u001b[1;32m    703\u001b[0m             \u001b[0;32mreturn\u001b[0m \u001b[0msock\u001b[0m\u001b[0;34m\u001b[0m\u001b[0m\n\u001b[1;32m    704\u001b[0m \u001b[0;34m\u001b[0m\u001b[0m\n",
      "\u001b[0;31mKeyboardInterrupt\u001b[0m: "
     ]
    }
   ],
   "source": [
    "print('Repo created: {0}'.format(repo.created_at))\n",
    "print('Repo description: {0}'.format(repo.description))\n",
    "print('Repo owner: {0}'.format(repo.owner.name))\n",
    "print('############## GO DEEPER INTO OWNER ##############')\n",
    "print('Repo number of forks: {0}'.format(repo.forks_count))\n",
    "print('Repo full (semi-unique) name: {0}'.format(repo.full_name))\n",
    "print('Repo name: {0}'.format(repo.name))\n",
    "print('Repo homepage: {0}'.format(repo.homepage))\n",
    "print('Repo id: {0}'.format(repo.id))\n",
    "print('Repo language: {0}'.format(repo.language))\n",
    "print('Repo number of open issues: {0}'.format(repo.open_issues_count))\n",
    "print('Repo size: {0}'.format(repo.size))\n",
    "\n",
    "# stargazers\n",
    "print('Repo number of stargazers: {0}'.format(repo.stargazers_count))\n",
    "if repo.stargazers_count > 0:\n",
    "    stargazers = [f.name for f in repo.get_stargazers()]\n",
    "    stargazers = stargazers[:5]\n",
    "else:\n",
    "    stargazers = ''\n",
    "print('Repo stargazers: {0}'.format(stargazers))\n",
    "\n",
    "print('Repo number of subscribed watchers: {0}'.format('DOES NOT WORK'))\n",
    "print('Repo last pushed at (is this pull requests?): {0}'.format(repo.pushed_at))"
   ]
  },
  {
   "cell_type": "code",
   "execution_count": 132,
   "metadata": {
    "collapsed": false
   },
   "outputs": [
    {
     "name": "stdout",
     "output_type": "stream",
     "text": [
      "Repo number of stargazers: 1072\n",
      "Repo stargazers: [224, 1080, 1231, 1411, 2664]\n"
     ]
    }
   ],
   "source": [
    "# stargazers\n",
    "print('Repo number of stargazers: {0}'.format(repo.stargazers_count))\n",
    "if repo.stargazers_count > 0:\n",
    "    stargazers = [f.id for f in repo.get_stargazers()]\n",
    "    stargazers = stargazers[:5]\n",
    "else:\n",
    "    stargazers = ''\n",
    "print('Repo stargazers: {0}'.format(stargazers))"
   ]
  },
  {
   "cell_type": "markdown",
   "metadata": {},
   "source": [
    "# Repo Owner Info"
   ]
  },
  {
   "cell_type": "code",
   "execution_count": 107,
   "metadata": {
    "collapsed": false
   },
   "outputs": [
    {
     "name": "stdout",
     "output_type": "stream",
     "text": [
      "Repo owner name: Matthew A. Russell\n",
      "Repo owner id: 98668\n",
      "Repo owner html url: https://github.com/ptwobrussell\n",
      "Repo owner login: ptwobrussell\n",
      "Repo owner type: User\n",
      "Repo owner avatar url: https://avatars.githubusercontent.com/u/98668?v=3\n",
      "Repo owner bio: None\n",
      "Repo owner blog: http://twitter.com/ptwobrussell\n",
      "Repo owner company: None\n",
      "Repo owner email: None\n",
      "Repo owner number of followers: 621\n",
      "Repo owner (return list of followers): ['Sergey N. Poulikov', 'Alan Fachini', 'Nestor G Pestelos Jr', 'Floyd Morgan', 'Brad Davis', 'Jeff Hammerbacher', 'mick delaney', 'Markus Singer', 'Adolfo Builes', 'Yong-Yeol Ahn']\n",
      "Repo owner number following: 0\n",
      "Repo owner (return list of following): \n",
      "Repo owner orgs: \n"
     ]
    }
   ],
   "source": [
    "print('Repo owner name: {0}'.format(repo.owner.name))\n",
    "print('Repo owner id: {0}'.format(repo.owner.id))\n",
    "print('Repo owner html url: {0}'.format(repo.owner.html_url))\n",
    "print('Repo owner login: {0}'.format(repo.owner.login))\n",
    "print('Repo owner type: {0}'.format(repo.owner.type))\n",
    "print('Repo owner avatar url: {0}'.format(repo.owner.avatar_url))\n",
    "print('Repo owner bio: {0}'.format(repo.owner.bio))\n",
    "print('Repo owner blog: {0}'.format(repo.owner.blog))\n",
    "print('Repo owner company: {0}'.format(repo.owner.company))\n",
    "print('Repo owner email: {0}'.format(repo.owner.email))\n",
    "\n",
    "# followers\n",
    "print('Repo owner number of followers: {0}'.format(repo.owner.followers))\n",
    "if repo.owner.followers > 0:\n",
    "    followers = [f.name for f in repo.owner.get_followers()[:10]]\n",
    "else:\n",
    "    followers = ''\n",
    "print('Repo owner (return list of followers): {0}'.format(followers))\n",
    "\n",
    "# following\n",
    "print('Repo owner number following: {0}'.format(repo.owner.following))\n",
    "if repo.owner.following > 0:\n",
    "    following = [f.name for f in repo.owner.get_following()[:10]]\n",
    "else:\n",
    "    following = ''\n",
    "print('Repo owner (return list of following): {0}'.format(following))\n",
    "\n",
    "# orgs\n",
    "orgs = [f.name for f in repo.owner.get_orgs()]\n",
    "if len(orgs) > 0:\n",
    "    orgs = orgs[:10]\n",
    "else:\n",
    "    orgs = ''\n",
    "print('Repo owner orgs: {0}'.format(orgs))"
   ]
  },
  {
   "cell_type": "markdown",
   "metadata": {},
   "source": [
    "# Get Stargazers"
   ]
  },
  {
   "cell_type": "code",
   "execution_count": 28,
   "metadata": {
    "collapsed": false
   },
   "outputs": [
    {
     "data": {
      "text/plain": [
       "'Paul Brown'"
      ]
     },
     "execution_count": 28,
     "metadata": {},
     "output_type": "execute_result"
    }
   ],
   "source": [
    "stargazers = [ s for s in repo.get_stargazers() ]\n",
    "\n",
    "star = stargazers[2]\n",
    "star.name"
   ]
  },
  {
   "cell_type": "markdown",
   "metadata": {},
   "source": [
    "# Get Contributors"
   ]
  },
  {
   "cell_type": "code",
   "execution_count": 58,
   "metadata": {
    "collapsed": false
   },
   "outputs": [
    {
     "name": "stdout",
     "output_type": "stream",
     "text": [
      "Contributors name: Chris Birchall\n",
      "Contributors id: 106760\n",
      "Contributors etag: \"266076ceed369fa1c37f94b207700f67\"\n",
      "Contributors company: Guardian News & Media\n",
      "Contributors email: chris.birchall@gmail.com\n",
      "Contributors number of followers: 78\n"
     ]
    }
   ],
   "source": [
    "contributors = [c for c in repo.get_contributors()]\n",
    "\n",
    "contrib = contributors[2]\n",
    "print('Contributors name: {0}'.format(contrib.name))\n",
    "print('Contributors id: {0}'.format(contrib.id))\n",
    "print('Contributors etag: {0}'.format(contrib.etag))\n",
    "print('Contributors company: {0}'.format(contrib.company))\n",
    "print('Contributors email: {0}'.format(contrib.email))\n",
    "print('Contributors number of followers: {0}'.format(contrib.followers))"
   ]
  },
  {
   "cell_type": "code",
   "execution_count": 66,
   "metadata": {
    "collapsed": false
   },
   "outputs": [
    {
     "data": {
      "text/plain": [
       "{'archive_url': 'https://api.github.com/repos/taku910/crfpp/{archive_format}{/ref}',\n",
       " 'assignees_url': 'https://api.github.com/repos/taku910/crfpp/assignees{/user}',\n",
       " 'blobs_url': 'https://api.github.com/repos/taku910/crfpp/git/blobs{/sha}',\n",
       " 'branches_url': 'https://api.github.com/repos/taku910/crfpp/branches{/branch}',\n",
       " 'clone_url': 'https://github.com/taku910/crfpp.git',\n",
       " 'collaborators_url': 'https://api.github.com/repos/taku910/crfpp/collaborators{/collaborator}',\n",
       " 'comments_url': 'https://api.github.com/repos/taku910/crfpp/comments{/number}',\n",
       " 'commits_url': 'https://api.github.com/repos/taku910/crfpp/commits{/sha}',\n",
       " 'compare_url': 'https://api.github.com/repos/taku910/crfpp/compare/{base}...{head}',\n",
       " 'contents_url': 'https://api.github.com/repos/taku910/crfpp/contents/{+path}',\n",
       " 'contributors_url': 'https://api.github.com/repos/taku910/crfpp/contributors',\n",
       " 'created_at': '2015-03-14T05:51:04Z',\n",
       " 'default_branch': 'master',\n",
       " 'deployments_url': 'https://api.github.com/repos/taku910/crfpp/deployments',\n",
       " 'description': 'CRF++: Yet Another CRF toolkit',\n",
       " 'downloads_url': 'https://api.github.com/repos/taku910/crfpp/downloads',\n",
       " 'events_url': 'https://api.github.com/repos/taku910/crfpp/events',\n",
       " 'fork': False,\n",
       " 'forks': 38,\n",
       " 'forks_count': 38,\n",
       " 'forks_url': 'https://api.github.com/repos/taku910/crfpp/forks',\n",
       " 'full_name': 'taku910/crfpp',\n",
       " 'git_commits_url': 'https://api.github.com/repos/taku910/crfpp/git/commits{/sha}',\n",
       " 'git_refs_url': 'https://api.github.com/repos/taku910/crfpp/git/refs{/sha}',\n",
       " 'git_tags_url': 'https://api.github.com/repos/taku910/crfpp/git/tags{/sha}',\n",
       " 'git_url': 'git://github.com/taku910/crfpp.git',\n",
       " 'has_downloads': False,\n",
       " 'has_issues': True,\n",
       " 'has_pages': True,\n",
       " 'has_wiki': False,\n",
       " 'homepage': '',\n",
       " 'hooks_url': 'https://api.github.com/repos/taku910/crfpp/hooks',\n",
       " 'html_url': 'https://github.com/taku910/crfpp',\n",
       " 'id': 32197996,\n",
       " 'issue_comment_url': 'https://api.github.com/repos/taku910/crfpp/issues/comments{/number}',\n",
       " 'issue_events_url': 'https://api.github.com/repos/taku910/crfpp/issues/events{/number}',\n",
       " 'issues_url': 'https://api.github.com/repos/taku910/crfpp/issues{/number}',\n",
       " 'keys_url': 'https://api.github.com/repos/taku910/crfpp/keys{/key_id}',\n",
       " 'labels_url': 'https://api.github.com/repos/taku910/crfpp/labels{/name}',\n",
       " 'language': 'Shell',\n",
       " 'languages_url': 'https://api.github.com/repos/taku910/crfpp/languages',\n",
       " 'merges_url': 'https://api.github.com/repos/taku910/crfpp/merges',\n",
       " 'milestones_url': 'https://api.github.com/repos/taku910/crfpp/milestones{/number}',\n",
       " 'mirror_url': None,\n",
       " 'name': 'crfpp',\n",
       " 'network_count': 38,\n",
       " 'notifications_url': 'https://api.github.com/repos/taku910/crfpp/notifications{?since,all,participating}',\n",
       " 'open_issues': 32,\n",
       " 'open_issues_count': 32,\n",
       " 'owner': {'avatar_url': 'https://avatars.githubusercontent.com/u/11470708?v=3',\n",
       "  'events_url': 'https://api.github.com/users/taku910/events{/privacy}',\n",
       "  'followers_url': 'https://api.github.com/users/taku910/followers',\n",
       "  'following_url': 'https://api.github.com/users/taku910/following{/other_user}',\n",
       "  'gists_url': 'https://api.github.com/users/taku910/gists{/gist_id}',\n",
       "  'gravatar_id': '',\n",
       "  'html_url': 'https://github.com/taku910',\n",
       "  'id': 11470708,\n",
       "  'login': 'taku910',\n",
       "  'organizations_url': 'https://api.github.com/users/taku910/orgs',\n",
       "  'received_events_url': 'https://api.github.com/users/taku910/received_events',\n",
       "  'repos_url': 'https://api.github.com/users/taku910/repos',\n",
       "  'site_admin': False,\n",
       "  'starred_url': 'https://api.github.com/users/taku910/starred{/owner}{/repo}',\n",
       "  'subscriptions_url': 'https://api.github.com/users/taku910/subscriptions',\n",
       "  'type': 'User',\n",
       "  'url': 'https://api.github.com/users/taku910'},\n",
       " 'permissions': {'admin': False, 'pull': True, 'push': False},\n",
       " 'private': False,\n",
       " 'pulls_url': 'https://api.github.com/repos/taku910/crfpp/pulls{/number}',\n",
       " 'pushed_at': '2016-08-04T14:09:28Z',\n",
       " 'releases_url': 'https://api.github.com/repos/taku910/crfpp/releases{/id}',\n",
       " 'size': 1545,\n",
       " 'ssh_url': 'git@github.com:taku910/crfpp.git',\n",
       " 'stargazers_count': 83,\n",
       " 'stargazers_url': 'https://api.github.com/repos/taku910/crfpp/stargazers',\n",
       " 'statuses_url': 'https://api.github.com/repos/taku910/crfpp/statuses/{sha}',\n",
       " 'subscribers_count': 11,\n",
       " 'subscribers_url': 'https://api.github.com/repos/taku910/crfpp/subscribers',\n",
       " 'subscription_url': 'https://api.github.com/repos/taku910/crfpp/subscription',\n",
       " 'svn_url': 'https://github.com/taku910/crfpp',\n",
       " 'tags_url': 'https://api.github.com/repos/taku910/crfpp/tags',\n",
       " 'teams_url': 'https://api.github.com/repos/taku910/crfpp/teams',\n",
       " 'trees_url': 'https://api.github.com/repos/taku910/crfpp/git/trees{/sha}',\n",
       " 'updated_at': '2016-08-21T12:17:26Z',\n",
       " 'url': 'https://api.github.com/repos/taku910/crfpp',\n",
       " 'watchers': 83,\n",
       " 'watchers_count': 83}"
      ]
     },
     "execution_count": 66,
     "metadata": {},
     "output_type": "execute_result"
    }
   ],
   "source": [
    "watches = [w for w in contrib.get_watched()]\n",
    "watch = watches[1]\n",
    "watch.raw_data"
   ]
  },
  {
   "cell_type": "code",
   "execution_count": 59,
   "metadata": {
    "collapsed": false
   },
   "outputs": [
    {
     "data": {
      "text/plain": [
       "'The Guardian'"
      ]
     },
     "execution_count": 59,
     "metadata": {},
     "output_type": "execute_result"
    }
   ],
   "source": [
    "orgs = [o for o in contrib.get_orgs()]\n",
    "org = orgs[0] # May not have org\n",
    "org.name"
   ]
  },
  {
   "cell_type": "markdown",
   "metadata": {},
   "source": [
    "# Get Followers/Following"
   ]
  },
  {
   "cell_type": "code",
   "execution_count": 52,
   "metadata": {
    "collapsed": false
   },
   "outputs": [
    {
     "data": {
      "text/plain": [
       "'Sergey N. Poulikov'"
      ]
     },
     "execution_count": 52,
     "metadata": {},
     "output_type": "execute_result"
    }
   ],
   "source": [
    "who_i_follow = [f for f in contrib.get_followers()]\n",
    "a = who_i_follow[0]\n",
    "a.name"
   ]
  },
  {
   "cell_type": "markdown",
   "metadata": {},
   "source": [
    "# Convert Jupyter notebook to Python script file (NOT BEING USED)"
   ]
  },
  {
   "cell_type": "raw",
   "metadata": {
    "collapsed": false
   },
   "source": [
    "import nbconvert # for converting notebooks to scripts\n",
    "\n",
    "def ipynb_to_py(in_ipynb, out_py):\n",
    "    '''\n",
    "    In: jupyter notebook\n",
    "    Out: python script file with jupyter cell syntax removed\n",
    "    '''\n",
    "    script,_ = nbconvert.export_python(in_ipynb, output_extension='py')\n",
    "    \n",
    "    with open(out_py, 'w') as f:\n",
    "        # clean up jupyter syntax\n",
    "        script = re.sub(r'''(# coding: utf-8)''', '', script)\n",
    "        script = re.sub(r'''(# In\\[([0-9 ]+)\\]:)''', '', script)\n",
    "        script = script.strip()\n",
    "        f.write(script)"
   ]
  },
  {
   "cell_type": "markdown",
   "metadata": {},
   "source": [
    "# Download Python files"
   ]
  },
  {
   "cell_type": "code",
   "execution_count": 8,
   "metadata": {
    "collapsed": false
   },
   "outputs": [],
   "source": [
    "def directory_download(directory, location):\n",
    "    '''\n",
    "    Download all *.py files inside repo\n",
    "    '''\n",
    "    try:\n",
    "        # grab all contents in the main directory\n",
    "        dir_contents = directory.get_dir_contents('.')\n",
    "\n",
    "        for content in dir_contents:\n",
    "            \n",
    "            # if item grabbed is a directory then recursively navigate lower to get files inside\n",
    "            if content.type == 'dir':\n",
    "                directory_download(content, location)\n",
    "            \n",
    "            # if item grabbed is a python script, download\n",
    "            elif content.path[-2:] == 'py':\n",
    "                print('Processing - {0}'.format(content.name))\n",
    "                with open('{0}/{1}'.format(location, content.name), 'wb') as outfile:\n",
    "                    outfile.write(content.decoded_content)\n",
    "    except:\n",
    "        pass"
   ]
  },
  {
   "cell_type": "markdown",
   "metadata": {},
   "source": [
    "# Repo crawler"
   ]
  },
  {
   "cell_type": "code",
   "execution_count": 9,
   "metadata": {
    "collapsed": false
   },
   "outputs": [
    {
     "name": "stdout",
     "output_type": "stream",
     "text": [
      "Name: tjwei \t Username: tjwei \t Repo: tjw_ipynb\n",
      "Processing - VideoSlidesSyncWrite.py\n",
      "Processing - atitweak.py\n",
      "Processing - personal_info.example.py\n",
      "Name: Charl P. Botha \t Username: cpbotha \t Repo: django-shell-ipynb\n",
      "Processing - setup.py\n",
      "Name: Yiannis Gatsoulis \t Username: gatsoulis \t Repo: py2ipynb\n",
      "Processing - py2ipynb.py\n"
     ]
    }
   ],
   "source": [
    "for repo in g.search_repositories('*.ipynb')[5:15]:\n",
    "    # create folder to store repos python files\n",
    "    if not os.path.exists('files'):\n",
    "        os.makedirs('files')\n",
    "        \n",
    "    # ensure language is python\n",
    "    try:\n",
    "        # ensure its a python tagged dirctory\n",
    "        if repo.language.lower() == 'python':\n",
    "            username, dir_name = repo.full_name.split('/')\n",
    "            print('Name: {0} \\t Username: {1} \\t Repo: {2}'.format(repo.owner.name, username, dir_name))\n",
    "            \n",
    "            # make directory named after the repo name\n",
    "            folder = 'files/{0}__{1}'.format(username, dir_name)\n",
    "            \n",
    "            # create folder to store repos python files\n",
    "            if not os.path.exists(folder):\n",
    "                os.makedirs(folder)\n",
    "            \n",
    "            # download repo files\n",
    "            directory_download(repo, folder)\n",
    "            \n",
    "            # delete empty directories (did not have python files)\n",
    "            if not os.listdir(folder):\n",
    "                os.rmdir(folder)\n",
    "        \n",
    "        # don't get cut off\n",
    "        time.sleep(3)\n",
    "    except:\n",
    "        pass"
   ]
  },
  {
   "cell_type": "markdown",
   "metadata": {
    "collapsed": true
   },
   "source": [
    "# What data do I want from the repo\n",
    "* Python files\n",
    "* Owners name\n",
    "* Owners username\n",
    "* Number of stars\n",
    "* Number of watchers\n",
    "* Number of forks\n",
    "* "
   ]
  },
  {
   "cell_type": "markdown",
   "metadata": {},
   "source": [
    "# Experimental"
   ]
  },
  {
   "cell_type": "code",
   "execution_count": 10,
   "metadata": {
    "collapsed": false
   },
   "outputs": [
    {
     "name": "stdout",
     "output_type": "stream",
     "text": [
      "https://api.github.com/repos/geekcomputers/Python -- 1169\n",
      "1090\n",
      "https://api.github.com/repos/xxg1413/python -- 549\n",
      "540\n",
      "https://api.github.com/repos/poise/python -- 448\n",
      "684\n",
      "https://api.github.com/repos/Show-Me-the-Code/python -- 654\n",
      "950\n",
      "https://api.github.com/repos/docker-library/python -- 248\n",
      "120\n",
      "https://api.github.com/repos/python-git/python -- 485\n",
      "277\n",
      "https://api.github.com/repos/joe011/python -- 158\n",
      "176\n",
      "https://api.github.com/repos/TheAlgorithms/Python -- 337\n",
      "67\n",
      "https://api.github.com/repos/pubnub/python -- 61\n",
      "73\n",
      "https://api.github.com/repos/zhanghe06/python -- 87\n",
      "97\n",
      "https://api.github.com/repos/rippleblue/Python -- 78\n",
      "72\n",
      "https://api.github.com/repos/Tim9Liu9/python -- 143\n",
      "88\n",
      "https://api.github.com/repos/bigmlcom/python -- 222\n",
      "91\n",
      "https://api.github.com/repos/smilejay/python -- 30\n",
      "36\n",
      "https://api.github.com/repos/LightTable/Python -- 86\n",
      "59\n"
     ]
    }
   ],
   "source": [
    "for repo in g.search_repositories('python')[:15]:\n",
    "    print('{0} -- {1}'.format(repo.url, repo.stargazers_count))\n",
    "    \n",
    "    print(repo.network_count)"
   ]
  },
  {
   "cell_type": "code",
   "execution_count": 11,
   "metadata": {
    "collapsed": false
   },
   "outputs": [],
   "source": [
    "# access users github repos\n",
    "lst_repos = []\n",
    "for repo in g.get_user().get_repos():\n",
    "    lst_repos.append(repo)"
   ]
  },
  {
   "cell_type": "code",
   "execution_count": 12,
   "metadata": {
    "collapsed": false
   },
   "outputs": [
    {
     "name": "stdout",
     "output_type": "stream",
     "text": [
      "thisismetis/nyc16_ds8\n",
      "Metis\n",
      "thisismetis\n",
      "nyc16_ds8\n",
      "thisismetis/nyc16_ds8\n",
      "28\n",
      "None\n",
      "None\n",
      "0\n",
      "0\n",
      "6126166\n",
      "28\n"
     ]
    }
   ],
   "source": [
    "rep = lst_repos[-1]\n",
    "\n",
    "# username/repo name\n",
    "username, repo_name = rep.full_name.split('/')\n",
    "\n",
    "# owner/repo => base repo\n",
    "print(rep.full_name)\n",
    "\n",
    "# repo owner name\n",
    "print(rep.owner.name)\n",
    "\n",
    "print(username)\n",
    "print(repo_name)\n",
    "print(rep.full_name)\n",
    "print(rep.forks)\n",
    "print(rep.owner.collaborators)\n",
    "print(rep.owner.company)\n",
    "print(rep.owner.followers)\n",
    "print(rep.owner.following)\n",
    "print(rep.owner.id)\n",
    "print(rep.network_count) # number of contributors"
   ]
  },
  {
   "cell_type": "code",
   "execution_count": 14,
   "metadata": {
    "collapsed": false
   },
   "outputs": [
    {
     "data": {
      "text/plain": [
       "1"
      ]
     },
     "execution_count": 14,
     "metadata": {},
     "output_type": "execute_result"
    }
   ],
   "source": [
    "rep.stargazers_count"
   ]
  },
  {
   "cell_type": "code",
   "execution_count": 23,
   "metadata": {
    "collapsed": false
   },
   "outputs": [
    {
     "ename": "AttributeError",
     "evalue": "'Repository' object has no attribute 'stargazers'",
     "output_type": "error",
     "traceback": [
      "\u001b[0;31m---------------------------------------------------------------------------\u001b[0m",
      "\u001b[0;31mAttributeError\u001b[0m                            Traceback (most recent call last)",
      "\u001b[0;32m<ipython-input-23-df6332c5b307>\u001b[0m in \u001b[0;36m<module>\u001b[0;34m()\u001b[0m\n\u001b[0;32m----> 1\u001b[0;31m \u001b[0mrepo\u001b[0m\u001b[0;34m.\u001b[0m\u001b[0mstargazers\u001b[0m\u001b[0;34m\u001b[0m\u001b[0m\n\u001b[0m",
      "\u001b[0;31mAttributeError\u001b[0m: 'Repository' object has no attribute 'stargazers'"
     ]
    }
   ],
   "source": [
    "repo.stargazers"
   ]
  },
  {
   "cell_type": "code",
   "execution_count": null,
   "metadata": {
    "collapsed": true
   },
   "outputs": [],
   "source": []
  }
 ],
 "metadata": {
  "anaconda-cloud": {},
  "kernelspec": {
   "display_name": "Python 3",
   "language": "python",
   "name": "python3"
  },
  "language_info": {
   "codemirror_mode": {
    "name": "ipython",
    "version": 3
   },
   "file_extension": ".py",
   "mimetype": "text/x-python",
   "name": "python",
   "nbconvert_exporter": "python",
   "pygments_lexer": "ipython3",
   "version": "3.5.2"
  }
 },
 "nbformat": 4,
 "nbformat_minor": 1
}
