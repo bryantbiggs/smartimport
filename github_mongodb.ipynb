{
 "cells": [
  {
   "cell_type": "code",
   "execution_count": null,
   "metadata": {
    "collapsed": false
   },
   "outputs": [],
   "source": [
    "import os\n",
    "import sys\n",
    "import re\n",
    "import time\n",
    "from github import Github\n",
    "from random import randint\n",
    "from pprint import pprint"
   ]
  },
  {
   "cell_type": "markdown",
   "metadata": {},
   "source": [
    "# Credentials"
   ]
  },
  {
   "cell_type": "code",
   "execution_count": null,
   "metadata": {
    "collapsed": true
   },
   "outputs": [],
   "source": [
    "from pymongo import MongoClient\n",
    "pw_file = 'credentials/pw.txt'\n",
    "if os.path.exists(pw_file): \n",
    "    with open(pw_file, 'r') as f:\n",
    "        email, indeed_pw = f.readline().strip().split(', ')\n",
    "        username, pia_pw = f.readline().strip().split(', ')\n",
    "        pub_ip, mongo_usr, mongo_usr_pw = f.readline().strip().split(', ')"
   ]
  },
  {
   "cell_type": "markdown",
   "metadata": {},
   "source": [
    "# Connect to MongoDB"
   ]
  },
  {
   "cell_type": "code",
   "execution_count": null,
   "metadata": {
    "collapsed": false,
    "scrolled": true
   },
   "outputs": [],
   "source": [
    "# connect to ec2 mongo client\n",
    "client = MongoClient('{0}:27017'.format(pub_ip))\n",
    "\n",
    "# get reference to  resume_db\n",
    "db = client['github_db']\n",
    "\n",
    "# authenticate user for database\n",
    "db.authenticate(mongo_usr, mongo_usr_pw)"
   ]
  },
  {
   "cell_type": "markdown",
   "metadata": {},
   "source": [
    "# Create a MongoDB collection"
   ]
  },
  {
   "cell_type": "code",
   "execution_count": null,
   "metadata": {
    "collapsed": false
   },
   "outputs": [],
   "source": [
    "for name in db.collection_names():\n",
    "    #db.drop_collection(name)\n",
    "    print('Documents in \\\"{0}\\\" collection: {1}'.format(name, db[name].count()))"
   ]
  },
  {
   "cell_type": "code",
   "execution_count": null,
   "metadata": {
    "collapsed": true
   },
   "outputs": [],
   "source": [
    "# create a collection in the 'github_db' database\n",
    "lst_collections = ['git_users_meta', 'git_users_following', 'git_users_followers', 'git_users_starred', \n",
    "                   'git_repos_meta', 'git_repos_docs', 'git_repos_subscribers', 'git_repos_stargazers', \n",
    "                  'git_repos_contributors']\n",
    "\n",
    "for collection in lst_collections:\n",
    "    if collection not in db.collection_names():\n",
    "        db.create_collection(collection)"
   ]
  },
  {
   "cell_type": "code",
   "execution_count": null,
   "metadata": {
    "collapsed": false
   },
   "outputs": [],
   "source": [
    "for name in db.collection_names():\n",
    "    print('Documents in \\\"{0}\\\" collection: {1}'.format(name, db[name].count()))"
   ]
  },
  {
   "cell_type": "markdown",
   "metadata": {},
   "source": [
    "# Get authenticated access to Github for higher requests limit"
   ]
  },
  {
   "cell_type": "code",
   "execution_count": null,
   "metadata": {
    "collapsed": false
   },
   "outputs": [],
   "source": [
    "# import github private token\n",
    "with open('credentials/token.txt', 'r') as infile:\n",
    "    token = infile.readline().strip()\n",
    "    user = infile.readline().strip()\n",
    "\n",
    "git_client = Github(token)"
   ]
  },
  {
   "cell_type": "markdown",
   "metadata": {},
   "source": [
    "# Rate limits"
   ]
  },
  {
   "cell_type": "code",
   "execution_count": null,
   "metadata": {
    "collapsed": false
   },
   "outputs": [],
   "source": [
    "def get_remaining(_type ='core'):\n",
    "    '''\n",
    "    _type = 'core' or 'search'\n",
    "    Return: tuple of remaining rate limit quantity, and time till reset\n",
    "    '''\n",
    "    \n",
    "    rate_limit = git_client.get_rate_limit()\n",
    "    raw = dict(rate_limit.raw_data)\n",
    "    \n",
    "    remaining = int(raw['resources'][_type]['remaining'])\n",
    "    reset = int(raw['resources'][_type]['reset'])\n",
    "    \n",
    "    return (remaining, reset)"
   ]
  },
  {
   "cell_type": "code",
   "execution_count": null,
   "metadata": {
    "collapsed": false
   },
   "outputs": [],
   "source": [
    "print('Resource rate limit remaining: {0}'.format(get_remaining('core')))\n",
    "print('Search rate limit remaining: {0}'.format(get_remaining('search')))"
   ]
  },
  {
   "cell_type": "markdown",
   "metadata": {},
   "source": [
    "# Wait function"
   ]
  },
  {
   "cell_type": "code",
   "execution_count": null,
   "metadata": {
    "collapsed": false
   },
   "outputs": [],
   "source": [
    "def limit_wait(num_files=10):\n",
    "    # wait till rate limit is refreshed\n",
    "    rate, _ = get_remaining('core')\n",
    "    \n",
    "    ct = 0\n",
    "    while (rate < num_files):\n",
    "        print('Waiting.....{0}'.format(ct))\n",
    "        time.sleep(300)\n",
    "        rate, _ = get_remaining('core')\n",
    "        ct += 5"
   ]
  },
  {
   "cell_type": "markdown",
   "metadata": {},
   "source": [
    "# X X X X X X X X X X X X X X X X X X X X X X X X X X "
   ]
  },
  {
   "cell_type": "raw",
   "metadata": {
    "collapsed": false
   },
   "source": [
    "USER = 'ptwobrussell'\n",
    "REPO = 'Mining-the-Social-Web'\n",
    "\n",
    "# check for rate limit\n",
    "limit_wait()\n",
    "\n",
    "user = git_client.get_user(USER)\n",
    "repo = user.get_repo(REPO)"
   ]
  },
  {
   "cell_type": "markdown",
   "metadata": {},
   "source": [
    "# Repo Metadata"
   ]
  },
  {
   "cell_type": "code",
   "execution_count": null,
   "metadata": {
    "collapsed": false
   },
   "outputs": [],
   "source": [
    "def repo_metadata(repo):\n",
    "    repo_keys = ['owner', 'name', 'full_name', 'description', 'fork', 'html_url', 'homepage', \n",
    "             'language', 'forks_count', 'size', 'open_issues_count', 'has_issues', 'has_wiki', 'has_downloads', \n",
    "             'pushed_at', 'created_at', 'subscribers_count', 'stargazers_count']\n",
    "    \n",
    "    owner_keys = ['type', 'login', 'id', 'site_admin']\n",
    "    \n",
    "    # check for rate limit\n",
    "    limit_wait(num_files=10)\n",
    "    \n",
    "    # get returned payload raw data into dictionary\n",
    "    raw_dict = dict(repo.raw_data)\n",
    "    \n",
    "    # trim repo by keys listed above\n",
    "    repo_dict = {k: raw_dict[k] for k in repo_keys}\n",
    "    \n",
    "    # trim owner by keys listed above\n",
    "    owner_dict = {k: raw_dict['owner'][k] for k in owner_keys}\n",
    "    repo_dict['owner'] = owner_dict\n",
    "    repo_dict['_id'] = repo.id\n",
    "    \n",
    "    return repo_dict"
   ]
  },
  {
   "cell_type": "code",
   "execution_count": null,
   "metadata": {
    "collapsed": false
   },
   "outputs": [],
   "source": [
    "def repo_metadata_upsert(repo):\n",
    "    col = db['git_repos_meta']\n",
    "    \n",
    "    try:\n",
    "        col.update_one(\n",
    "            {'_id': repo.id}, \n",
    "            {'$set':{col.insert_one(repo_metadata(repo))}}, \n",
    "            upsert=True)\n",
    "    except:\n",
    "        pass\n",
    "    return None"
   ]
  },
  {
   "cell_type": "markdown",
   "metadata": {},
   "source": [
    "# Repo Subscribers"
   ]
  },
  {
   "cell_type": "code",
   "execution_count": null,
   "metadata": {
    "collapsed": true
   },
   "outputs": [],
   "source": [
    "def repo_subscribers(repo):\n",
    "    '''\n",
    "    IN: github repo object\n",
    "    RETURN: dictionary containing repo subscribers\n",
    "    '''\n",
    "    repo_dict = {}\n",
    "    \n",
    "    # check for rate limit\n",
    "    limit_wait(num_files=10)\n",
    "    \n",
    "    repo_dict['_id'] = repo.id\n",
    "    repo_dict['full_name'] = repo.full_name\n",
    "    \n",
    "    try:\n",
    "        repo_dict['repo_subscribers'] = [f.login for f in repo.get_subscribers()]\n",
    "    except:\n",
    "        repo_dict['repo_subscribers'] = []\n",
    "        \n",
    "    return repo_dict"
   ]
  },
  {
   "cell_type": "code",
   "execution_count": null,
   "metadata": {
    "collapsed": false
   },
   "outputs": [],
   "source": [
    "def repo_subscribers_upsert(repo):\n",
    "    col = db['git_repos_subscribers']\n",
    "    \n",
    "    try:\n",
    "        col.update_one(\n",
    "            {'_id': repo.id}, \n",
    "            {'$set': {col.insert_one(repo_subscribers(repo))}\n",
    "            }, upsert=True)\n",
    "    except:\n",
    "        pass\n",
    "    return None"
   ]
  },
  {
   "cell_type": "markdown",
   "metadata": {},
   "source": [
    "# Repo Stargazers"
   ]
  },
  {
   "cell_type": "code",
   "execution_count": null,
   "metadata": {
    "collapsed": true
   },
   "outputs": [],
   "source": [
    "def repo_stargazers(repo):\n",
    "    '''\n",
    "    IN: github repo object\n",
    "    RETURN: dictionary containing list of stargazers\n",
    "    '''\n",
    "    repo_dict = {}\n",
    "    \n",
    "    # check for rate limit\n",
    "    limit_wait(num_files=10)\n",
    "\n",
    "    repo_dict['_id'] = repo.id\n",
    "    repo_dict['full_name'] = repo.full_name\n",
    "    \n",
    "    try:\n",
    "        repo_dict['repo_stargazers'] = [f.login for f in repo.get_stargazers()]\n",
    "    except:\n",
    "        repo_dict['repo_stargazers'] = []\n",
    "\n",
    "    return repo_dict"
   ]
  },
  {
   "cell_type": "code",
   "execution_count": null,
   "metadata": {
    "collapsed": false
   },
   "outputs": [],
   "source": [
    "def repo_stargazers_upsert(repo):\n",
    "    col = db['git_repos_stargazers']\n",
    "    \n",
    "    try:\n",
    "        col.update_one(\n",
    "            {'_id': repo.id}, \n",
    "            {'$set': {col.insert_one(repo_stargazers(repo))}\n",
    "            }, upsert=True)\n",
    "    except:\n",
    "        pass\n",
    "    return None"
   ]
  },
  {
   "cell_type": "markdown",
   "metadata": {},
   "source": [
    "# Repo Contributors"
   ]
  },
  {
   "cell_type": "code",
   "execution_count": null,
   "metadata": {
    "collapsed": true
   },
   "outputs": [],
   "source": [
    "def repo_contributors(repo):\n",
    "    '''\n",
    "    IN: github repo object\n",
    "    RETURN: dictionary of contributors keyed by repo full_name\n",
    "    '''\n",
    "    repo_dict = {}\n",
    "    \n",
    "    # check for rate limit\n",
    "    limit_wait(num_files=10)\n",
    "    \n",
    "    repo_dict['_id'] = repo.id\n",
    "    repo_dict['full_name'] = repo.full_name\n",
    "    \n",
    "    try:        \n",
    "        repo_dict['repo_contributors'] = [f.login for f in repo.get_contributors()]\n",
    "    except:\n",
    "        repo_dict['repo_contributors'] = ''\n",
    "        \n",
    "    return repo_dict"
   ]
  },
  {
   "cell_type": "code",
   "execution_count": null,
   "metadata": {
    "collapsed": false
   },
   "outputs": [],
   "source": [
    "def repo_contributors_upsert(repo):\n",
    "    col = db['git_repos_contributors']\n",
    "    \n",
    "    try:\n",
    "        col.update_one(\n",
    "            {'_id': repo.id}, \n",
    "            {'$set': {col.insert_one(repo_contributors(repo))}\n",
    "            }, upsert=True)\n",
    "    except:\n",
    "        pass\n",
    "    return None"
   ]
  },
  {
   "cell_type": "markdown",
   "metadata": {},
   "source": [
    "# User Metadata"
   ]
  },
  {
   "cell_type": "code",
   "execution_count": null,
   "metadata": {
    "collapsed": false
   },
   "outputs": [],
   "source": [
    "def user_metadata(user):\n",
    "    user_keys = ['email', 'followers', 'hireable', 'login', 'bio', 'avatar_url', 'company', \n",
    "                 'updated_at', 'type', 'created_at', 'name', 'location', 'html_url', 'public_repos', \n",
    "                 'blog', 'public_gists', 'following']\n",
    "    # check for rate limit\n",
    "    limit_wait(num_files=10)\n",
    "        \n",
    "    # get returned payload raw data into dictionary\n",
    "    raw_dict = dict(user.raw_data)\n",
    "    \n",
    "    # trim user by keys listed above\n",
    "    user_dict = {k: raw_dict[k] for k in user_keys}\n",
    "    user_dict['_id'] = user.id\n",
    "    \n",
    "    return user_dict"
   ]
  },
  {
   "cell_type": "code",
   "execution_count": null,
   "metadata": {
    "collapsed": false
   },
   "outputs": [],
   "source": [
    "def user_metadata_upsert(user):\n",
    "    col = db['git_users_meta']\n",
    "    \n",
    "    try:\n",
    "        col.update_one(\n",
    "            {'_id': user.id}, \n",
    "            {'$set':{col.insert_one(user_metadata(user))}}, \n",
    "            upsert=True)\n",
    "    except:\n",
    "        pass\n",
    "    return None"
   ]
  },
  {
   "cell_type": "markdown",
   "metadata": {},
   "source": [
    "# User Following"
   ]
  },
  {
   "cell_type": "code",
   "execution_count": null,
   "metadata": {
    "collapsed": false
   },
   "outputs": [],
   "source": [
    "def user_following(user):\n",
    "    '''\n",
    "    IN: github user object\n",
    "    RETURN: dictionary of users (login name) followed by user (passed) \n",
    "            keyed by passed user's login\n",
    "    '''\n",
    "    user_dict = {}\n",
    "    \n",
    "    # check for rate limit\n",
    "    limit_wait(num_files=10)\n",
    "\n",
    "    user_dict['_id'] = user.id\n",
    "    user_dict['login'] = user.login\n",
    "        \n",
    "    try:\n",
    "        user_dict['user_following'] = [f.name for f in user.get_following()]\n",
    "    except:\n",
    "        user_dict['user_following'] = []\n",
    "        \n",
    "    return user_dict"
   ]
  },
  {
   "cell_type": "code",
   "execution_count": null,
   "metadata": {
    "collapsed": false
   },
   "outputs": [],
   "source": [
    "def user_following_upsert(user):\n",
    "    col = db['git_users_following']\n",
    "    \n",
    "    try:\n",
    "        col.update_one(\n",
    "            {'_id': user.id}, \n",
    "            {'$set': {col.insert_one(user_following(user))}\n",
    "            }, upsert=True)\n",
    "    except:\n",
    "        pass\n",
    "    return None"
   ]
  },
  {
   "cell_type": "markdown",
   "metadata": {},
   "source": [
    "# User Followers"
   ]
  },
  {
   "cell_type": "code",
   "execution_count": null,
   "metadata": {
    "collapsed": false
   },
   "outputs": [],
   "source": [
    "def user_followers(user):\n",
    "    '''\n",
    "    IN: github user object\n",
    "    RETURN: dictionary of users (login name) who follow user (passed)\n",
    "            keyed by passed user's login\n",
    "    '''\n",
    "    user_dict = {}\n",
    "    \n",
    "    # check for rate limit\n",
    "    limit_wait(num_files=10)\n",
    "    \n",
    "    user_dict['_id'] = user.id\n",
    "    user_dict['login'] = user.login\n",
    "        \n",
    "    try:\n",
    "        user_dict['user_followers'] = [f.login for f in user.get_followers()]\n",
    "    except:\n",
    "        user_dict['user_followers'] = []\n",
    "    \n",
    "    return user_dict"
   ]
  },
  {
   "cell_type": "code",
   "execution_count": null,
   "metadata": {
    "collapsed": false
   },
   "outputs": [],
   "source": [
    "def user_followers_upsert(user):\n",
    "    col = db['git_users_followers']\n",
    "    \n",
    "    try:\n",
    "        col.update_one(\n",
    "            {'_id': user.id}, \n",
    "            {'$set': {col.insert_one(user_followers(user))}\n",
    "            }, upsert=True)\n",
    "    except:\n",
    "        pass\n",
    "    return None"
   ]
  },
  {
   "cell_type": "markdown",
   "metadata": {},
   "source": [
    "# Users Starred"
   ]
  },
  {
   "cell_type": "code",
   "execution_count": null,
   "metadata": {
    "collapsed": false
   },
   "outputs": [],
   "source": [
    "def user_starred(user):\n",
    "    '''\n",
    "    IN: github user object\n",
    "    RETURN: dictionary of repos (full_name) starred by user (passed)\n",
    "            keyed by passed user's login\n",
    "    '''\n",
    "    user_dict = {}\n",
    "    \n",
    "    # check for rate limit\n",
    "    limit_wait(num_files=10)\n",
    "    \n",
    "    user_dict['_id'] = user.id\n",
    "    user_dict['login'] = user.login\n",
    "    \n",
    "    try:\n",
    "        user_dict['starred_repos'] = [f.full_name for f in user.get_starred()]\n",
    "    except:\n",
    "        user_dict['starred_repos'] = []\n",
    "        \n",
    "    return user_dict"
   ]
  },
  {
   "cell_type": "code",
   "execution_count": null,
   "metadata": {
    "collapsed": false
   },
   "outputs": [],
   "source": [
    "def user_starred_upsert(user):\n",
    "    col = db['git_users_starred']\n",
    "    \n",
    "    try:\n",
    "        col.update_one(\n",
    "            {'_id': user.id}, \n",
    "            {'$set': {col.insert_one(user_starred(user))}\n",
    "            }, upsert=True)\n",
    "    except:\n",
    "        pass\n",
    "    return None"
   ]
  },
  {
   "cell_type": "markdown",
   "metadata": {},
   "source": [
    "# Repo Files"
   ]
  },
  {
   "cell_type": "code",
   "execution_count": null,
   "metadata": {
    "collapsed": false
   },
   "outputs": [],
   "source": [
    "def repo_scripts_upsert(repo, file_name, raw_file_cont, file_ext, doc_name):\n",
    "    '''\n",
    "    '''\n",
    "    # strip newline and tab chars from raw file content\n",
    "    col = db['git_repos_docs']\n",
    "    doc_name = '{0}_{1}'.format(repo.id, doc_name)\n",
    "    strip_file_cont = raw_file_cont.replace('\\n', ' ')\n",
    "    strip_file_cont = strip_file_cont.replace('\\t', ' ')\n",
    "\n",
    "    try:\n",
    "        col.update_one(\n",
    "            {'document' : doc_name}, \n",
    "            {'$set':{\n",
    "                    'file_name': file_name,\n",
    "                    'raw_file': raw_file_cont,\n",
    "                    'strip_file': strip_file_cont,\n",
    "                    'extension': file_ext,\n",
    "                    'full_name' : repo.full_name,\n",
    "                    'document' : doc_name}\n",
    "                }, \n",
    "            upsert=True)\n",
    "    except:\n",
    "        pass\n",
    "    return None"
   ]
  },
  {
   "cell_type": "code",
   "execution_count": null,
   "metadata": {
    "collapsed": false
   },
   "outputs": [],
   "source": [
    "def repo_scripts(repo, doc_ct=0, _path='.'):\n",
    "    '''\n",
    "    IN: github repo object and path to folder\n",
    "    RETRUN: all files from repo except those in the exclusion list\n",
    "    '''\n",
    "    # only files with these extensions\n",
    "    extensions = ['py', 'md']\n",
    "    \n",
    "    # grab all contents in the main directory\n",
    "    dir_contents = repo.get_dir_contents(_path)\n",
    "    num_files = len(dir_contents)\n",
    "    repo_fullname = repo.full_name\n",
    "\n",
    "    # check for rate limit\n",
    "    limit_wait(num_files=num_files)\n",
    "    \n",
    "    for content in dir_contents:\n",
    "        # if item is a directory then recursively navigate lower to get files inside\n",
    "        if content.type == 'dir':\n",
    "            repo_scripts(repo, doc_ct, _path=content.path)\n",
    "\n",
    "        else:\n",
    "            doc_ct += 1\n",
    "            # get file extension\n",
    "            file_ext = content.name.split('.')[-1]\n",
    "\n",
    "            if file_ext in extensions:\n",
    "                # try to decode, but return blank if fail\n",
    "                try:\n",
    "                    raw_file_content = content.decoded_content.decode(errors='replace')\n",
    "                except:\n",
    "                    raw_file_content = ''\n",
    "                    \n",
    "                # actual file name, mongodb doc stored name\n",
    "                file_name = content.name\n",
    "                doc_name = 'doc_{0}'.format(doc_ct)\n",
    "                \n",
    "                # add to collection if under limit (>16mb)\n",
    "                file_size = sys.getsizeof(raw_file_content)\n",
    "                if file_size < 16000000:\n",
    "                    repo_scripts_upsert(repo, file_name, raw_file_content, file_ext, doc_name)\n",
    "                else:\n",
    "                    print('FILE SIZE LIMIT: {0} -- {1}'.format(file_name, file_size))\n",
    "    return None"
   ]
  },
  {
   "cell_type": "markdown",
   "metadata": {},
   "source": [
    "# Search Github for 'Python' repositories"
   ]
  },
  {
   "cell_type": "code",
   "execution_count": null,
   "metadata": {
    "collapsed": false
   },
   "outputs": [],
   "source": [
    "ct = 0\n",
    "for repo in git_client.search_repositories('python', sort='stars', order='desc'):\n",
    "    ct+=1\n",
    "\n",
    "    try:\n",
    "        # ensure its a python tagged dirctory\n",
    "        if len(repo.language.lower()) >1 and repo.language.lower() == 'python':\n",
    "\n",
    "            #############################\n",
    "            # INSERT FURTHER CALLS HERE #\n",
    "\n",
    "            if db['git_repos_meta'].find({'_id': repo.id}).count() == 0:\n",
    "                print('Starting.....#{0} - {1}'.format(ct, repo.full_name))\n",
    "                repo_scripts(repo)\n",
    "\n",
    "                # insert metadata\n",
    "                repo_metadata_upsert(repo)\n",
    "                repo_stargazers_upsert(repo)\n",
    "                repo_subscribers_upsert(repo)\n",
    "                repo_contributors_upsert(repo)\n",
    "\n",
    "            user = repo.owner\n",
    "            if db['git_users_meta'].find({'_id': user.id}).count() == 0:\n",
    "                user_metadata_upsert(user)\n",
    "                user_following_upsert(user)\n",
    "                user_followers_upsert(user)\n",
    "                user_starred_upsert(user)\n",
    "            #############################\n",
    "\n",
    "        # don't get cut off\n",
    "        time.sleep(randint(2,9))\n",
    "    \n",
    "    except:\n",
    "        pass\n",
    "\n",
    "    \n",
    "print('DONE')"
   ]
  },
  {
   "cell_type": "code",
   "execution_count": null,
   "metadata": {
    "collapsed": false
   },
   "outputs": [],
   "source": [
    "print('Resource rate limit remaining: {0}'.format(get_remaining('core')))\n",
    "print('Search rate limit remaining: {0}'.format(get_remaining('search')))\n",
    "print()\n",
    "for name in sorted(db.collection_names()):\n",
    "    print('Number of documents in \\\"{0}\\\" collection: {1}'.format(name, db[name].count()))"
   ]
  },
  {
   "cell_type": "code",
   "execution_count": null,
   "metadata": {
    "collapsed": false
   },
   "outputs": [],
   "source": [
    "for cursor in db['git_users_meta'].find():\n",
    "    pprint(cursor)"
   ]
  },
  {
   "cell_type": "code",
   "execution_count": null,
   "metadata": {
    "collapsed": false
   },
   "outputs": [],
   "source": [
    "\n"
   ]
  },
  {
   "cell_type": "code",
   "execution_count": null,
   "metadata": {
    "collapsed": true
   },
   "outputs": [],
   "source": []
  }
 ],
 "metadata": {
  "anaconda-cloud": {},
  "kernelspec": {
   "display_name": "Python 3",
   "language": "python",
   "name": "python3"
  },
  "language_info": {
   "codemirror_mode": {
    "name": "ipython",
    "version": 3
   },
   "file_extension": ".py",
   "mimetype": "text/x-python",
   "name": "python",
   "nbconvert_exporter": "python",
   "pygments_lexer": "ipython3",
   "version": "3.5.2"
  }
 },
 "nbformat": 4,
 "nbformat_minor": 1
}
