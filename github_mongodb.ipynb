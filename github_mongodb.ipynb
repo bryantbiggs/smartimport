{
 "cells": [
  {
   "cell_type": "code",
   "execution_count": 2,
   "metadata": {
    "collapsed": false
   },
   "outputs": [],
   "source": [
    "import os\n",
    "import sys\n",
    "import re\n",
    "import time\n",
    "from pymongo import MongoClient\n",
    "from github import Github\n",
    "from random import randint\n",
    "from pprint import pprint"
   ]
  },
  {
   "cell_type": "markdown",
   "metadata": {},
   "source": [
    "# Credentials"
   ]
  },
  {
   "cell_type": "code",
   "execution_count": 3,
   "metadata": {
    "collapsed": true
   },
   "outputs": [],
   "source": [
    "pw_file = 'credentials/pw.txt'\n",
    "if os.path.exists(pw_file): \n",
    "    with open(pw_file, 'r') as f:\n",
    "        email, indeed_pw = f.readline().strip().split(', ')\n",
    "        username, pia_pw = f.readline().strip().split(', ')\n",
    "        pub_ip, mongo_usr, mongo_usr_pw = f.readline().strip().split(', ')"
   ]
  },
  {
   "cell_type": "markdown",
   "metadata": {},
   "source": [
    "# Connect to MongoDB"
   ]
  },
  {
   "cell_type": "code",
   "execution_count": 4,
   "metadata": {
    "collapsed": false,
    "scrolled": true
   },
   "outputs": [
    {
     "data": {
      "text/plain": [
       "True"
      ]
     },
     "execution_count": 4,
     "metadata": {},
     "output_type": "execute_result"
    }
   ],
   "source": [
    "# connect to ec2 mongo client\n",
    "client = MongoClient('{0}:27017'.format(pub_ip))\n",
    "\n",
    "# get reference to  resume_db\n",
    "db = client['github_db']\n",
    "\n",
    "# authenticate user for database\n",
    "db.authenticate(mongo_usr, mongo_usr_pw)"
   ]
  },
  {
   "cell_type": "markdown",
   "metadata": {},
   "source": [
    "# Create a MongoDB collection"
   ]
  },
  {
   "cell_type": "code",
   "execution_count": 6,
   "metadata": {
    "collapsed": true
   },
   "outputs": [],
   "source": [
    "# create a collection in the 'github_db' database\n",
    "lst_collections = ['git_users_meta', 'git_users_following', 'git_users_followers', 'git_users_starred', \n",
    "                   'git_repos_meta', 'git_repos_docs', 'git_repos_subscribers', 'git_repos_stargazers', \n",
    "                  'git_repos_contributors']\n",
    "\n",
    "for collection in lst_collections:\n",
    "    if collection not in db.collection_names():\n",
    "        db.create_collection(collection)"
   ]
  },
  {
   "cell_type": "code",
   "execution_count": 94,
   "metadata": {
    "collapsed": false
   },
   "outputs": [],
   "source": [
    "def show_collections():\n",
    "    '''\n",
    "    IN: None\n",
    "    RETURN: Printed output of collections and collection counts\n",
    "    '''\n",
    "    for name in sorted(db.collection_names()):\n",
    "        print('Documents in \\\"{0}\\\" collection: {1}'.format(name, db[name].count()))"
   ]
  },
  {
   "cell_type": "code",
   "execution_count": 95,
   "metadata": {
    "collapsed": false
   },
   "outputs": [
    {
     "name": "stdout",
     "output_type": "stream",
     "text": [
      "Documents in \"git_repos_contributors\" collection: 801\n",
      "Documents in \"git_repos_docs\" collection: 27367\n",
      "Documents in \"git_repos_meta\" collection: 801\n",
      "Documents in \"git_repos_stargazers\" collection: 0\n",
      "Documents in \"git_repos_subscribers\" collection: 801\n",
      "Documents in \"git_users_followers\" collection: 698\n",
      "Documents in \"git_users_following\" collection: 698\n",
      "Documents in \"git_users_meta\" collection: 698\n",
      "Documents in \"git_users_starred\" collection: 0\n"
     ]
    }
   ],
   "source": [
    "show_collections()"
   ]
  },
  {
   "cell_type": "markdown",
   "metadata": {},
   "source": [
    "# Get authenticated access to Github for higher requests limit"
   ]
  },
  {
   "cell_type": "code",
   "execution_count": 8,
   "metadata": {
    "collapsed": false
   },
   "outputs": [],
   "source": [
    "# import github private token\n",
    "with open('credentials/token.txt', 'r') as infile:\n",
    "    token = infile.readline().strip()\n",
    "    user = infile.readline().strip()\n",
    "\n",
    "git_client = Github(token)"
   ]
  },
  {
   "cell_type": "markdown",
   "metadata": {},
   "source": [
    "# Rate limits"
   ]
  },
  {
   "cell_type": "code",
   "execution_count": 96,
   "metadata": {
    "collapsed": false
   },
   "outputs": [],
   "source": [
    "def get_remaining(_type ='core'):\n",
    "    '''\n",
    "    IN: term to determine if rate limit for requests (core) or searching (search) is to be returned\n",
    "        _type => 'core' or 'search'\n",
    "    \n",
    "    RETURN: tuple of remaining rate limit quantity, and time till reset\n",
    "    '''\n",
    "    rate_limit = git_client.get_rate_limit()\n",
    "    raw = dict(rate_limit.raw_data)\n",
    "    remaining = int(raw['resources'][_type]['remaining'])\n",
    "    \n",
    "    return remaining"
   ]
  },
  {
   "cell_type": "code",
   "execution_count": 97,
   "metadata": {
    "collapsed": false
   },
   "outputs": [
    {
     "name": "stdout",
     "output_type": "stream",
     "text": [
      "Resource rate limit remaining: 5000\n",
      "Search rate limit remaining: 30\n"
     ]
    }
   ],
   "source": [
    "print('Resource rate limit remaining: {0}'.format(get_remaining('core')))\n",
    "print('Search rate limit remaining: {0}'.format(get_remaining('search')))"
   ]
  },
  {
   "cell_type": "markdown",
   "metadata": {},
   "source": [
    "# Wait function"
   ]
  },
  {
   "cell_type": "code",
   "execution_count": 11,
   "metadata": {
    "collapsed": false
   },
   "outputs": [],
   "source": [
    "def limit_wait(location, ct=0):\n",
    "    '''\n",
    "    IN: \n",
    "        location => function name (input text) where program paused till rate is reset\n",
    "        ct => counter to show length of pause in 5 minute intervals\n",
    "    RETURN: \n",
    "        None - program will halt here if limit is below buffer threshold and continue while it is above/reset\n",
    "    '''\n",
    "    # wait till rate limit is refreshed\n",
    "    rate, _ = get_remaining('core')\n",
    "    \n",
    "    if rate < 150: #buffer\n",
    "        print('Stopped @ {0}'.format(location))\n",
    "    while (rate < 150):\n",
    "        print('Rate: {0} ===> Waiting...{1}'.format(rate, ct))\n",
    "        time.sleep(300)\n",
    "        rate, _ = get_remaining('core')\n",
    "        ct += 5"
   ]
  },
  {
   "cell_type": "markdown",
   "metadata": {},
   "source": [
    "# Repo Metadata"
   ]
  },
  {
   "cell_type": "code",
   "execution_count": 12,
   "metadata": {
    "collapsed": false
   },
   "outputs": [],
   "source": [
    "def repo_metadata(repo):\n",
    "    '''\n",
    "    IN: github repository object\n",
    "    RETURN: dictionary with only relevant/desired repo metadata to be uploaded into mongodb\n",
    "    '''\n",
    "    repo_keys = ['owner', 'name', 'full_name', 'description', 'fork', 'html_url', 'homepage', 'language', \n",
    "                 'forks_count', 'size', 'open_issues_count', 'has_issues', 'has_wiki', 'has_downloads', \n",
    "                 'pushed_at', 'created_at', 'subscribers_count', 'stargazers_count']\n",
    "    \n",
    "    owner_keys = ['type', 'login', 'id', 'site_admin']\n",
    "    \n",
    "    # check for rate limit\n",
    "    limit_wait('repo_metadata')\n",
    "    \n",
    "    # get returned payload raw data into dictionary\n",
    "    raw_dict = dict(repo.raw_data)\n",
    "    \n",
    "    # trim repo by keys listed above\n",
    "    repo_dict = {k: raw_dict[k] for k in repo_keys}\n",
    "    \n",
    "    # trim owner by keys listed above\n",
    "    owner_dict = {k: raw_dict['owner'][k] for k in owner_keys}\n",
    "    repo_dict['owner'] = owner_dict\n",
    "    repo_dict['_id'] = repo.id\n",
    "    \n",
    "    return repo_dict"
   ]
  },
  {
   "cell_type": "code",
   "execution_count": 13,
   "metadata": {
    "collapsed": false
   },
   "outputs": [],
   "source": [
    "def repo_metadata_upsert(repo):\n",
    "    '''\n",
    "    IN: github repository object\n",
    "    RETURN: None - data returned from repo_metadata function is inserted into mongodb\n",
    "    '''\n",
    "    try:\n",
    "        db['git_repos_meta'].update_one(\n",
    "            {'_id': repo.id}, \n",
    "            {'$set':{col.insert_one(repo_metadata(repo))}}, \n",
    "            upsert=True)\n",
    "    except:\n",
    "        pass\n",
    "    return None"
   ]
  },
  {
   "cell_type": "markdown",
   "metadata": {},
   "source": [
    "# Repo Subscribers"
   ]
  },
  {
   "cell_type": "code",
   "execution_count": 14,
   "metadata": {
    "collapsed": true
   },
   "outputs": [],
   "source": [
    "def repo_subscribers(repo):\n",
    "    '''\n",
    "    IN: github repository object\n",
    "    RETURN: dictionary containing repo subscribers to be uploaded into mongodb\n",
    "    '''\n",
    "    # check for rate limit\n",
    "    limit_wait('repo_subscribers')\n",
    "    \n",
    "    repo_dict = {}\n",
    "    repo_dict['_id'] = repo.id\n",
    "    repo_dict['full_name'] = repo.full_name\n",
    "    \n",
    "    try:\n",
    "        repo_dict['repo_subscribers'] = [f.login for f in repo.get_subscribers()]\n",
    "        \n",
    "    except:\n",
    "        repo_dict['repo_subscribers'] = []\n",
    "        \n",
    "    return repo_dict"
   ]
  },
  {
   "cell_type": "code",
   "execution_count": 15,
   "metadata": {
    "collapsed": false
   },
   "outputs": [],
   "source": [
    "def repo_subscribers_upsert(repo):\n",
    "    '''\n",
    "    IN: github repository object\n",
    "    RETURN: None - data returned from repo_subscribers function is inserted into mongodb\n",
    "    '''\n",
    "    try:\n",
    "        db['git_repos_subscribers'].update_one(\n",
    "            {'_id': repo.id}, \n",
    "            {'$set': {col.insert_one(repo_subscribers(repo))}\n",
    "            }, upsert=True)\n",
    "    except:\n",
    "        pass\n",
    "    return None"
   ]
  },
  {
   "cell_type": "markdown",
   "metadata": {},
   "source": [
    "# Repo Contributors"
   ]
  },
  {
   "cell_type": "code",
   "execution_count": 18,
   "metadata": {
    "collapsed": false
   },
   "outputs": [],
   "source": [
    "def repo_contributors(repo):\n",
    "    '''\n",
    "    IN: github repository object\n",
    "    RETURN: dictionary containing contributors (login names) keyed by repo full_name to be uploaed into mongodb\n",
    "    '''\n",
    "    # check for rate limit\n",
    "    limit_wait('repo_contributors')\n",
    "    \n",
    "    repo_dict = {}\n",
    "    repo_dict['_id'] = repo.id\n",
    "    repo_dict['full_name'] = repo.full_name\n",
    "    \n",
    "    try:\n",
    "        repo_dict['repo_contributors'] = [f.login for f in repo.get_contributors()]\n",
    "        \n",
    "    except:\n",
    "        repo_dict['repo_contributors'] = ''\n",
    "        \n",
    "    return repo_dict"
   ]
  },
  {
   "cell_type": "code",
   "execution_count": 19,
   "metadata": {
    "collapsed": false
   },
   "outputs": [],
   "source": [
    "def repo_contributors_upsert(repo):\n",
    "    '''\n",
    "    IN: github repository object\n",
    "    RETURN: None - data returned from repo_contributors function is inserted into mongodb\n",
    "    '''\n",
    "    try:\n",
    "        db['git_repos_contributors'].update_one(\n",
    "            {'_id': repo.id}, \n",
    "            {'$set': {col.insert_one(repo_contributors(repo))}\n",
    "            }, upsert=True)\n",
    "    except:\n",
    "        pass\n",
    "    return None"
   ]
  },
  {
   "cell_type": "markdown",
   "metadata": {},
   "source": [
    "# User Metadata"
   ]
  },
  {
   "cell_type": "code",
   "execution_count": 20,
   "metadata": {
    "collapsed": false
   },
   "outputs": [],
   "source": [
    "def user_metadata(user):\n",
    "    '''\n",
    "    IN: github NamedUser object\n",
    "    RETURN: dictionary with only relevant/desired user metadata to be uploaded into mongodb\n",
    "    '''\n",
    "    user_keys = ['email', 'followers', 'hireable', 'login', 'bio', 'avatar_url', 'company', \n",
    "                 'updated_at', 'type', 'created_at', 'name', 'location', 'html_url', 'public_repos', \n",
    "                 'blog', 'public_gists', 'following']\n",
    "    \n",
    "    # check for rate limit\n",
    "    limit_wait('user_metadata')\n",
    "        \n",
    "    # get returned payload raw data into dictionary\n",
    "    raw_dict = dict(user.raw_data)\n",
    "    \n",
    "    # trim user by keys listed above\n",
    "    user_dict = {k: raw_dict[k] for k in user_keys}\n",
    "    user_dict['_id'] = user.id\n",
    "    \n",
    "    return user_dict"
   ]
  },
  {
   "cell_type": "code",
   "execution_count": 21,
   "metadata": {
    "collapsed": false
   },
   "outputs": [],
   "source": [
    "def user_metadata_upsert(user):\n",
    "    '''\n",
    "    IN: github NamedUser object\n",
    "    RETURN: None - data returned from user_metadata function is inserted into mongodb\n",
    "    '''\n",
    "    try:\n",
    "        db['git_users_meta'].update_one(\n",
    "            {'_id': user.id}, \n",
    "            {'$set':{col.insert_one(user_metadata(user))}}, \n",
    "            upsert=True)\n",
    "    except:\n",
    "        pass\n",
    "    return None"
   ]
  },
  {
   "cell_type": "markdown",
   "metadata": {},
   "source": [
    "# User Following"
   ]
  },
  {
   "cell_type": "code",
   "execution_count": 22,
   "metadata": {
    "collapsed": false
   },
   "outputs": [],
   "source": [
    "def user_following(user):\n",
    "    '''\n",
    "    IN: github NamedUser object\n",
    "    RETURN: dictionary containing users (login names) followed by user (passed) to be uploaed into mongodb\n",
    "    '''\n",
    "    # check for rate limit\n",
    "    limit_wait('user_following') \n",
    "    \n",
    "    user_dict = {}\n",
    "    user_dict['_id'] = user.id\n",
    "    user_dict['login'] = user.login\n",
    "        \n",
    "    try:\n",
    "        user_dict['user_following'] = [f.login for f in repo.get_following()]\n",
    "        \n",
    "    except:\n",
    "        user_dict['user_following'] = []\n",
    "        \n",
    "    return user_dict"
   ]
  },
  {
   "cell_type": "code",
   "execution_count": 23,
   "metadata": {
    "collapsed": false
   },
   "outputs": [],
   "source": [
    "def user_following_upsert(user):\n",
    "    '''\n",
    "    IN: github NamedUser object\n",
    "    RETURN: None - data returned from user_following function is inserted into mongodb\n",
    "    '''\n",
    "    try:\n",
    "        db['git_users_following'].update_one(\n",
    "            {'_id': user.id}, \n",
    "            {'$set': {col.insert_one(user_following(user))}\n",
    "            }, upsert=True)\n",
    "    except:\n",
    "        pass\n",
    "    return None"
   ]
  },
  {
   "cell_type": "markdown",
   "metadata": {},
   "source": [
    "# User Followers"
   ]
  },
  {
   "cell_type": "code",
   "execution_count": 24,
   "metadata": {
    "collapsed": false
   },
   "outputs": [],
   "source": [
    "def user_followers(user):\n",
    "    '''\n",
    "    IN: github NamedUser object\n",
    "    RETURN: dictionary containing users (login names) who follow user (passed) to be uploaed into mongodb\n",
    "    '''\n",
    "    # check for rate limit\n",
    "    limit_wait('user_followers')\n",
    "    \n",
    "    user_dict = {}\n",
    "    user_dict['_id'] = user.id\n",
    "    user_dict['login'] = user.login\n",
    "        \n",
    "    try:\n",
    "        user_dict['user_followers'] = [f.login for f in repo.get_followers()]\n",
    "        \n",
    "    except:\n",
    "        user_dict['user_followers'] = []\n",
    "    \n",
    "    return user_dict"
   ]
  },
  {
   "cell_type": "code",
   "execution_count": 25,
   "metadata": {
    "collapsed": false
   },
   "outputs": [],
   "source": [
    "def user_followers_upsert(user):\n",
    "    '''\n",
    "    IN: github NamedUser object\n",
    "    RETURN: None - data returned from user_followers function is inserted into mongodb\n",
    "    '''\n",
    "    try:\n",
    "        db['git_users_followers'].update_one(\n",
    "            {'_id': user.id}, \n",
    "            {'$set': {col.insert_one(user_followers(user))}\n",
    "            }, upsert=True)\n",
    "    except:\n",
    "        pass\n",
    "    return None"
   ]
  },
  {
   "cell_type": "markdown",
   "metadata": {},
   "source": [
    "# Repo Files"
   ]
  },
  {
   "cell_type": "code",
   "execution_count": 28,
   "metadata": {
    "collapsed": false
   },
   "outputs": [],
   "source": [
    "def repo_scripts_upsert(repo, file_name, raw_file_cont, file_ext, doc_name):\n",
    "    '''\n",
    "    IN: \n",
    "        repo ==> github repository object\n",
    "        file_name ==> file name pulled from github repo\n",
    "        raw_file_contnet ==> raw file contents of file_name\n",
    "        file_ext ==> file extension of file_name\n",
    "        doc_name ==> generic, sequentially numbered 'clean' name for storing documents in mongodb\n",
    "    RETURN: \n",
    "        None - file details/information uploaded into mongodb\n",
    "    '''\n",
    "    # strip newline and tab chars from raw file content\n",
    "    col = db['git_repos_docs']\n",
    "    doc_name = '{0}_{1}'.format(repo.id, doc_name)\n",
    "    strip_file_cont = raw_file_cont.replace('\\n', ' ')\n",
    "    strip_file_cont = strip_file_cont.replace('\\t', ' ')\n",
    "\n",
    "    try:\n",
    "        col.update_one(\n",
    "            {'document' : doc_name}, \n",
    "            {'$set':{\n",
    "                    'file_name': file_name,\n",
    "                    'raw_file': raw_file_cont,\n",
    "                    'strip_file': strip_file_cont,\n",
    "                    'extension': file_ext,\n",
    "                    'full_name' : repo.full_name,\n",
    "                    'document' : doc_name}\n",
    "                }, \n",
    "            upsert=True)\n",
    "    except:\n",
    "        pass\n",
    "    return None"
   ]
  },
  {
   "cell_type": "code",
   "execution_count": 29,
   "metadata": {
    "collapsed": false
   },
   "outputs": [],
   "source": [
    "def repo_scripts(repo, doc_ct=0, _path='.'):\n",
    "    '''\n",
    "    IN: \n",
    "        repo ==> github repository object\n",
    "        doc_ct ==> sequential number for 'clean' file names inserted into mongodb\n",
    "        _path ==> path to folder to extract repository files; '.' is top level repository folder\n",
    "    RETRUN: \n",
    "        None - all files from repo except those in the exclusion list will be inserted into mongob\n",
    "    '''\n",
    "    # only files with these extensions\n",
    "    extensions = ['py', 'md']\n",
    "    \n",
    "    # grab all contents in the main directory\n",
    "    dir_contents = repo.get_dir_contents(_path)\n",
    "    num_files = len(dir_contents)\n",
    "    repo_fullname = repo.full_name\n",
    "\n",
    "    # check for rate limit\n",
    "    limit_wait('repo_scripts')\n",
    "    \n",
    "    for content in dir_contents:\n",
    "        # if item is a directory then recursively navigate lower to get files inside\n",
    "        if content.type == 'dir':\n",
    "            repo_scripts(repo, doc_ct, _path=content.path)\n",
    "\n",
    "        else:\n",
    "            doc_ct += 1\n",
    "            # get file extension\n",
    "            file_ext = content.name.split('.')[-1]\n",
    "\n",
    "            if file_ext in extensions:\n",
    "                # try to decode, but return blank if fail\n",
    "                try:\n",
    "                    raw_file_content = content.decoded_content.decode(errors='replace')\n",
    "                except:\n",
    "                    raw_file_content = ''\n",
    "                    \n",
    "                # actual file name, mongodb doc stored name\n",
    "                file_name = content.name\n",
    "                doc_name = 'doc_{0}'.format(doc_ct)\n",
    "                \n",
    "                # add to collection if under limit (>16mb)\n",
    "                file_size = sys.getsizeof(raw_file_content)\n",
    "                if file_size < 16000000:\n",
    "                    repo_scripts_upsert(repo, file_name, raw_file_content, file_ext, doc_name)\n",
    "                else:\n",
    "                    print('FILE SIZE LIMIT: {0} -- {1}'.format(file_name, file_size))\n",
    "    return None"
   ]
  },
  {
   "cell_type": "markdown",
   "metadata": {},
   "source": [
    "# Search Github for 'Python' repositories"
   ]
  },
  {
   "cell_type": "code",
   "execution_count": 76,
   "metadata": {
    "collapsed": true
   },
   "outputs": [],
   "source": [
    "def get_repo(repo):\n",
    "    '''\n",
    "    IN: github repository object\n",
    "    RETURN: None - all desired repository data uploaded to mongodb\n",
    "    '''\n",
    "    if db['git_repos_meta'].find({'full_name': repo.full_name}).count() == 0:\n",
    "        print('Getting.....#{0} - {1}'.format(ct, repo.full_name))\n",
    "        repo_scripts(repo)\n",
    "        repo_metadata_upsert(repo)\n",
    "        repo_subscribers_upsert(repo)\n",
    "        repo_contributors_upsert(repo)\n",
    "    return None"
   ]
  },
  {
   "cell_type": "code",
   "execution_count": 77,
   "metadata": {
    "collapsed": true
   },
   "outputs": [],
   "source": [
    "def get_repo_owner(repo):\n",
    "    '''\n",
    "    IN: github repository object\n",
    "    RETURN: None - all desired data pertaining to repository owner uploaded to mongodb\n",
    "    '''\n",
    "    user = repo.owner\n",
    "    if db['git_users_meta'].find({'_id': user.id}).count() == 0:\n",
    "        print('Getting.....#{0} - {1}'.format(ct, user.login))\n",
    "        user_metadata_upsert(user)\n",
    "        user_following_upsert(user)\n",
    "        user_followers_upsert(user)"
   ]
  },
  {
   "cell_type": "code",
   "execution_count": 79,
   "metadata": {
    "collapsed": true
   },
   "outputs": [],
   "source": [
    "def python_top_repos(ct=0):\n",
    "    '''\n",
    "    IN: counter initializer for number of repositories traversed\n",
    "    RETURN: None (print when finished traversing)\n",
    "    '''\n",
    "    for repo in git_client.search_repositories('python', sort='stars', order='desc'):\n",
    "        try:\n",
    "            # ensure its a python tagged dirctory\n",
    "            if repo.language.lower() == 'python':\n",
    "                ct+=1\n",
    "                get_repo(repo)\n",
    "                get_repo(owner)\n",
    "\n",
    "            # don't get cut off\n",
    "            time.sleep(randint(2,9))\n",
    "        except:\n",
    "            pass\n",
    "    return print('DONE')"
   ]
  },
  {
   "cell_type": "markdown",
   "metadata": {},
   "source": [
    "### 804 Repos Pulled - 09/05/16"
   ]
  },
  {
   "cell_type": "markdown",
   "metadata": {},
   "source": [
    "# Get repos under top level user/organization"
   ]
  },
  {
   "cell_type": "code",
   "execution_count": 86,
   "metadata": {
    "collapsed": false
   },
   "outputs": [
    {
     "name": "stdout",
     "output_type": "stream",
     "text": [
      "scrapy/cssselect\n",
      "scrapy/dirbot\n",
      "scrapy/gsoc2014-integration-tests\n",
      "scrapy/loginform\n",
      "scrapy/parsel\n",
      "scrapy/queuelib\n",
      "scrapy/scrapely\n",
      "scrapy/scrapy\n",
      "scrapy/scrapy-itemloader\n",
      "scrapy/scrapy.org\n",
      "scrapy/scrapyd\n",
      "scrapy/scrapyd-client\n",
      "scrapy/slybot\n",
      "scrapy/w3lib\n"
     ]
    }
   ],
   "source": [
    "for user_meta in db['git_users_meta'].find()[2:3]:\n",
    "    USER = user_meta['login']\n",
    "    _user = git_client.get_user(USER)\n",
    "    for repo in _user.get_repos():\n",
    "        print(repo.full_name)"
   ]
  },
  {
   "cell_type": "code",
   "execution_count": 80,
   "metadata": {
    "collapsed": false
   },
   "outputs": [],
   "source": [
    "def repos_of_top_repos(ct=0):\n",
    "    for user_meta in db['git_users_meta'].find()[2:3]:\n",
    "        git_user = user_meta['login']\n",
    "        _user = git_client.get_user(git_user)\n",
    "\n",
    "        for repo in _user.get_repos():\n",
    "            try:\n",
    "                ct+=1\n",
    "                get_repo(repo)\n",
    "                #get_repo_owner(repo) - do not need, already pulled from top_repos\n",
    "\n",
    "                # don't get cut off\n",
    "                time.sleep(randint(2,9))\n",
    "            except:\n",
    "                pass\n",
    "    return print('DONE')"
   ]
  },
  {
   "cell_type": "code",
   "execution_count": null,
   "metadata": {
    "collapsed": true
   },
   "outputs": [],
   "source": [
    "repos_of_top_repos()"
   ]
  },
  {
   "cell_type": "code",
   "execution_count": 68,
   "metadata": {
    "collapsed": false
   },
   "outputs": [
    {
     "name": "stdout",
     "output_type": "stream",
     "text": [
      "{'_id': 843222,\n",
      " 'created_at': '2010-08-17T09:43:38Z',\n",
      " 'description': 'scikit-learn: machine learning in Python',\n",
      " 'fork': False,\n",
      " 'forks_count': 7596,\n",
      " 'full_name': 'scikit-learn/scikit-learn',\n",
      " 'has_downloads': True,\n",
      " 'has_issues': True,\n",
      " 'has_wiki': True,\n",
      " 'homepage': 'http://scikit-learn.org',\n",
      " 'html_url': 'https://github.com/scikit-learn/scikit-learn',\n",
      " 'language': 'Python',\n",
      " 'name': 'scikit-learn',\n",
      " 'open_issues_count': 1280,\n",
      " 'owner': {'id': 365630,\n",
      "           'login': 'scikit-learn',\n",
      "           'site_admin': False,\n",
      "           'type': 'Organization'},\n",
      " 'pushed_at': '2016-09-04T13:07:11Z',\n",
      " 'size': 122720,\n",
      " 'stargazers_count': 13136,\n",
      " 'subscribers_count': 1358}\n",
      "{'_id': 1402233,\n",
      " 'created_at': '2011-02-23T13:12:44Z',\n",
      " 'description': 'Benchmarks for various machine learning packages',\n",
      " 'fork': False,\n",
      " 'forks_count': 28,\n",
      " 'full_name': 'scikit-learn/ml-benchmarks',\n",
      " 'has_downloads': True,\n",
      " 'has_issues': True,\n",
      " 'has_wiki': True,\n",
      " 'homepage': 'http://scikit-learn.github.com/ml-benchmarks/',\n",
      " 'html_url': 'https://github.com/scikit-learn/ml-benchmarks',\n",
      " 'language': 'Python',\n",
      " 'name': 'ml-benchmarks',\n",
      " 'open_issues_count': 3,\n",
      " 'owner': {'id': 365630,\n",
      "           'login': 'scikit-learn',\n",
      "           'site_admin': False,\n",
      "           'type': 'Organization'},\n",
      " 'pushed_at': '2014-07-04T09:34:52Z',\n",
      " 'size': 4908,\n",
      " 'stargazers_count': 52,\n",
      " 'subscribers_count': 33}\n",
      "{'_id': 4309388,\n",
      " 'created_at': '2012-05-12T20:13:20Z',\n",
      " 'description': 'Continuous benchmark suite for the scikit-learn project.',\n",
      " 'fork': False,\n",
      " 'forks_count': 10,\n",
      " 'full_name': 'scikit-learn/scikit-learn-speed',\n",
      " 'has_downloads': True,\n",
      " 'has_issues': True,\n",
      " 'has_wiki': True,\n",
      " 'homepage': None,\n",
      " 'html_url': 'https://github.com/scikit-learn/scikit-learn-speed',\n",
      " 'language': 'Python',\n",
      " 'name': 'scikit-learn-speed',\n",
      " 'open_issues_count': 2,\n",
      " 'owner': {'id': 365630,\n",
      "           'login': 'scikit-learn',\n",
      "           'site_admin': False,\n",
      "           'type': 'Organization'},\n",
      " 'pushed_at': '2013-09-03T01:28:37Z',\n",
      " 'size': 608,\n",
      " 'stargazers_count': 12,\n",
      " 'subscribers_count': 7}\n",
      "{'_id': 13470224,\n",
      " 'created_at': '2013-10-10T12:10:29Z',\n",
      " 'description': 'Script to configure a cloud server to build the documentation '\n",
      "                'and plots and update the sklearn website',\n",
      " 'fork': False,\n",
      " 'forks_count': 5,\n",
      " 'full_name': 'scikit-learn/sklearn-docbuilder',\n",
      " 'has_downloads': True,\n",
      " 'has_issues': True,\n",
      " 'has_wiki': True,\n",
      " 'homepage': None,\n",
      " 'html_url': 'https://github.com/scikit-learn/sklearn-docbuilder',\n",
      " 'language': 'Python',\n",
      " 'name': 'sklearn-docbuilder',\n",
      " 'open_issues_count': 2,\n",
      " 'owner': {'id': 365630,\n",
      "           'login': 'scikit-learn',\n",
      "           'site_admin': False,\n",
      "           'type': 'Organization'},\n",
      " 'pushed_at': '2016-03-30T20:33:59Z',\n",
      " 'size': 34,\n",
      " 'stargazers_count': 5,\n",
      " 'subscribers_count': 24}\n",
      "{'_id': 4133213,\n",
      " 'created_at': '2012-04-25T05:31:31Z',\n",
      " 'description': 'Project management related documents for scikit-learn',\n",
      " 'fork': False,\n",
      " 'forks_count': 5,\n",
      " 'full_name': 'scikit-learn/administrative',\n",
      " 'has_downloads': True,\n",
      " 'has_issues': True,\n",
      " 'has_wiki': False,\n",
      " 'homepage': '',\n",
      " 'html_url': 'https://github.com/scikit-learn/administrative',\n",
      " 'language': None,\n",
      " 'name': 'administrative',\n",
      " 'open_issues_count': 2,\n",
      " 'owner': {'id': 365630,\n",
      "           'login': 'scikit-learn',\n",
      "           'site_admin': False,\n",
      "           'type': 'Organization'},\n",
      " 'pushed_at': '2015-11-23T06:18:06Z',\n",
      " 'size': 7125,\n",
      " 'stargazers_count': 4,\n",
      " 'subscribers_count': 2}\n",
      "{'_id': 44739348,\n",
      " 'created_at': '2015-10-22T10:49:07Z',\n",
      " 'description': 'Enhancement proposals for scikit-learn: structured '\n",
      "                'discussions and rational for large additions and '\n",
      "                'modifications',\n",
      " 'fork': False,\n",
      " 'forks_count': 1,\n",
      " 'full_name': 'scikit-learn/enhancement_proposals',\n",
      " 'has_downloads': True,\n",
      " 'has_issues': True,\n",
      " 'has_wiki': True,\n",
      " 'homepage': None,\n",
      " 'html_url': 'https://github.com/scikit-learn/enhancement_proposals',\n",
      " 'language': None,\n",
      " 'name': 'enhancement_proposals',\n",
      " 'open_issues_count': 2,\n",
      " 'owner': {'id': 365630,\n",
      "           'login': 'scikit-learn',\n",
      "           'site_admin': False,\n",
      "           'type': 'Organization'},\n",
      " 'pushed_at': '2015-10-23T16:15:09Z',\n",
      " 'size': 343,\n",
      " 'stargazers_count': 0,\n",
      " 'subscribers_count': 27}\n",
      "{'_id': 39253863,\n",
      " 'created_at': '2015-07-17T12:49:37Z',\n",
      " 'description': 'Scikit-learn website hosted by github',\n",
      " 'fork': False,\n",
      " 'forks_count': 13,\n",
      " 'full_name': 'scikit-learn/scikit-learn.github.io',\n",
      " 'has_downloads': True,\n",
      " 'has_issues': False,\n",
      " 'has_wiki': True,\n",
      " 'homepage': 'http://scikit-learn.org',\n",
      " 'html_url': 'https://github.com/scikit-learn/scikit-learn.github.io',\n",
      " 'language': 'HTML',\n",
      " 'name': 'scikit-learn.github.io',\n",
      " 'open_issues_count': 0,\n",
      " 'owner': {'id': 365630,\n",
      "           'login': 'scikit-learn',\n",
      "           'site_admin': False,\n",
      "           'type': 'Organization'},\n",
      " 'pushed_at': '2016-09-05T13:18:29Z',\n",
      " 'size': 2949417,\n",
      " 'stargazers_count': 7,\n",
      " 'subscribers_count': 29}\n"
     ]
    }
   ],
   "source": [
    "#cursor = db['git_repos_meta'].find({'owner.login':'scikit-learn'})\n",
    "#for i in cursor:\n",
    "#    pprint(i)"
   ]
  },
  {
   "cell_type": "code",
   "execution_count": null,
   "metadata": {
    "collapsed": true
   },
   "outputs": [],
   "source": []
  }
 ],
 "metadata": {
  "anaconda-cloud": {},
  "kernelspec": {
   "display_name": "Python 3",
   "language": "python",
   "name": "python3"
  },
  "language_info": {
   "codemirror_mode": {
    "name": "ipython",
    "version": 3
   },
   "file_extension": ".py",
   "mimetype": "text/x-python",
   "name": "python",
   "nbconvert_exporter": "python",
   "pygments_lexer": "ipython3",
   "version": "3.5.2"
  }
 },
 "nbformat": 4,
 "nbformat_minor": 1
}
