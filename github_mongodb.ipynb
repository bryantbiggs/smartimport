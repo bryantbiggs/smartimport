{
 "cells": [
  {
   "cell_type": "code",
   "execution_count": 1,
   "metadata": {
    "collapsed": false
   },
   "outputs": [],
   "source": [
    "import os\n",
    "import sys\n",
    "import re\n",
    "import time\n",
    "from github import Github\n",
    "from random import randint\n",
    "from pprint import pprint"
   ]
  },
  {
   "cell_type": "markdown",
   "metadata": {},
   "source": [
    "# Credentials"
   ]
  },
  {
   "cell_type": "code",
   "execution_count": 2,
   "metadata": {
    "collapsed": true
   },
   "outputs": [],
   "source": [
    "from pymongo import MongoClient\n",
    "pw_file = 'credentials/pw.txt'\n",
    "if os.path.exists(pw_file): \n",
    "    with open(pw_file, 'r') as f:\n",
    "        email, indeed_pw = f.readline().strip().split(', ')\n",
    "        username, pia_pw = f.readline().strip().split(', ')\n",
    "        pub_ip, mongo_usr, mongo_usr_pw = f.readline().strip().split(', ')"
   ]
  },
  {
   "cell_type": "markdown",
   "metadata": {},
   "source": [
    "# Connect to MongoDB"
   ]
  },
  {
   "cell_type": "code",
   "execution_count": 3,
   "metadata": {
    "collapsed": false,
    "scrolled": true
   },
   "outputs": [
    {
     "data": {
      "text/plain": [
       "True"
      ]
     },
     "execution_count": 3,
     "metadata": {},
     "output_type": "execute_result"
    }
   ],
   "source": [
    "# connect to ec2 mongo client\n",
    "client = MongoClient('{0}:27017'.format(pub_ip))\n",
    "\n",
    "# get reference to  resume_db\n",
    "db = client['github_db']\n",
    "\n",
    "# authenticate user for database\n",
    "db.authenticate(mongo_usr, mongo_usr_pw)"
   ]
  },
  {
   "cell_type": "markdown",
   "metadata": {},
   "source": [
    "# Create a MongoDB collection"
   ]
  },
  {
   "cell_type": "code",
   "execution_count": 4,
   "metadata": {
    "collapsed": false
   },
   "outputs": [],
   "source": [
    "for name in db.collection_names():\n",
    "    #db.drop_collection(name)\n",
    "    print('Documents in \\\"{0}\\\" collection: {1}'.format(name, db[name].count()))"
   ]
  },
  {
   "cell_type": "code",
   "execution_count": 5,
   "metadata": {
    "collapsed": true
   },
   "outputs": [],
   "source": [
    "# create a collection in the 'github_db' database\n",
    "lst_collections = ['git_users_meta', 'git_users_following', 'git_users_followers', 'git_users_starred', \n",
    "                   'git_repos_meta', 'git_repos_docs', 'git_repos_subscribers', 'git_repos_stargazers', \n",
    "                  'git_repos_contributors']\n",
    "\n",
    "for collection in lst_collections:\n",
    "    if collection not in db.collection_names():\n",
    "        db.create_collection(collection)"
   ]
  },
  {
   "cell_type": "code",
   "execution_count": 6,
   "metadata": {
    "collapsed": false
   },
   "outputs": [
    {
     "name": "stdout",
     "output_type": "stream",
     "text": [
      "Documents in \"git_repos_stargazers\" collection: 0\n",
      "Documents in \"git_users_starred\" collection: 0\n",
      "Documents in \"git_repos_meta\" collection: 0\n",
      "Documents in \"git_users_followers\" collection: 0\n",
      "Documents in \"git_repos_contributors\" collection: 0\n",
      "Documents in \"git_repos_subscribers\" collection: 0\n",
      "Documents in \"git_users_meta\" collection: 0\n",
      "Documents in \"git_users_following\" collection: 0\n",
      "Documents in \"git_repos_docs\" collection: 0\n"
     ]
    }
   ],
   "source": [
    "for name in db.collection_names():\n",
    "    print('Documents in \\\"{0}\\\" collection: {1}'.format(name, db[name].count()))"
   ]
  },
  {
   "cell_type": "markdown",
   "metadata": {},
   "source": [
    "# Get authenticated access to Github for higher requests limit"
   ]
  },
  {
   "cell_type": "code",
   "execution_count": 7,
   "metadata": {
    "collapsed": false
   },
   "outputs": [],
   "source": [
    "# import github private token\n",
    "with open('credentials/token.txt', 'r') as infile:\n",
    "    token = infile.readline().strip()\n",
    "    user = infile.readline().strip()\n",
    "\n",
    "git_client = Github(token)"
   ]
  },
  {
   "cell_type": "markdown",
   "metadata": {},
   "source": [
    "# Rate limits"
   ]
  },
  {
   "cell_type": "code",
   "execution_count": 8,
   "metadata": {
    "collapsed": false
   },
   "outputs": [],
   "source": [
    "def get_remaining(_type ='core'):\n",
    "    '''\n",
    "    _type = 'core' or 'search'\n",
    "    Return: tuple of remaining rate limit quantity, and time till reset\n",
    "    '''\n",
    "    \n",
    "    rate_limit = git_client.get_rate_limit()\n",
    "    raw = dict(rate_limit.raw_data)\n",
    "    \n",
    "    remaining = int(raw['resources'][_type]['remaining'])\n",
    "    reset = int(raw['resources'][_type]['reset'])\n",
    "    \n",
    "    return (remaining, reset)"
   ]
  },
  {
   "cell_type": "code",
   "execution_count": 9,
   "metadata": {
    "collapsed": false
   },
   "outputs": [
    {
     "name": "stdout",
     "output_type": "stream",
     "text": [
      "Resource rate limit remaining: (4611, 1472854009)\n",
      "Search rate limit remaining: (30, 1472852919)\n"
     ]
    }
   ],
   "source": [
    "print('Resource rate limit remaining: {0}'.format(get_remaining('core')))\n",
    "print('Search rate limit remaining: {0}'.format(get_remaining('search')))"
   ]
  },
  {
   "cell_type": "markdown",
   "metadata": {},
   "source": [
    "# Wait function"
   ]
  },
  {
   "cell_type": "code",
   "execution_count": 10,
   "metadata": {
    "collapsed": false
   },
   "outputs": [],
   "source": [
    "def limit_wait():\n",
    "    # wait till rate limit is refreshed\n",
    "    rate, _ = get_remaining('core')\n",
    "    while (rate < 10):\n",
    "        time.sleep(300)"
   ]
  },
  {
   "cell_type": "markdown",
   "metadata": {},
   "source": [
    "# X X X X X X X X X X X X X X X X X X X X X X X X X X "
   ]
  },
  {
   "cell_type": "code",
   "execution_count": 11,
   "metadata": {
    "collapsed": false
   },
   "outputs": [],
   "source": [
    "USER = 'ptwobrussell'\n",
    "REPO = 'Mining-the-Social-Web'\n",
    "\n",
    "# check for rate limit\n",
    "limit_wait()\n",
    "\n",
    "user = git_client.get_user(USER)\n",
    "repo = user.get_repo(REPO)"
   ]
  },
  {
   "cell_type": "markdown",
   "metadata": {},
   "source": [
    "# Repo Metadata"
   ]
  },
  {
   "cell_type": "code",
   "execution_count": 12,
   "metadata": {
    "collapsed": false
   },
   "outputs": [],
   "source": [
    "def repo_metadata(repo):\n",
    "    repo_keys = ['owner', 'name', 'full_name', 'description', 'fork', 'html_url', 'homepage', \n",
    "             'language', 'forks_count', 'size', 'open_issues_count', 'has_issues', 'has_wiki', 'has_downloads', \n",
    "             'pushed_at', 'created_at', 'subscribers_count', 'stargazers_count']\n",
    "    \n",
    "    owner_keys = ['type', 'login', 'id', 'site_admin']\n",
    "    \n",
    "    # check for rate limit\n",
    "    limit_wait()\n",
    "    \n",
    "    # get returned payload raw data into dictionary\n",
    "    raw_dict = dict(repo.raw_data)\n",
    "    \n",
    "    # trim repo by keys listed above\n",
    "    repo_dict = {k: raw_dict[k] for k in repo_keys}\n",
    "    \n",
    "    # trim owner by keys listed above\n",
    "    owner_dict = {k: raw_dict['owner'][k] for k in owner_keys}\n",
    "    repo_dict['owner'] = owner_dict\n",
    "    repo_dict['_id'] = repo.id\n",
    "    \n",
    "    return repo_dict"
   ]
  },
  {
   "cell_type": "code",
   "execution_count": 13,
   "metadata": {
    "collapsed": false
   },
   "outputs": [],
   "source": [
    "def repo_metadata_upsert(repo):\n",
    "    col = db['git_repos_meta']\n",
    "    \n",
    "    try:\n",
    "        col.update_one(\n",
    "            {'_id': repo.id}, \n",
    "            {'$set':{col.insert_one(repo_metadata(repo))}}, \n",
    "            upsert=True)\n",
    "    except:\n",
    "        pass\n",
    "    return None"
   ]
  },
  {
   "cell_type": "code",
   "execution_count": 14,
   "metadata": {
    "collapsed": false
   },
   "outputs": [],
   "source": [
    "_ = db.drop_collection('git_repos_meta')\n",
    "_ = db.create_collection('git_repos_meta')"
   ]
  },
  {
   "cell_type": "code",
   "execution_count": 15,
   "metadata": {
    "collapsed": false
   },
   "outputs": [
    {
     "name": "stdout",
     "output_type": "stream",
     "text": [
      "1\n"
     ]
    }
   ],
   "source": [
    "_ = repo_metadata_upsert(repo)\n",
    "print(db.git_repos_meta.count())"
   ]
  },
  {
   "cell_type": "raw",
   "metadata": {
    "collapsed": false,
    "scrolled": false
   },
   "source": [
    "for i in db.git_repos_meta.find():\n",
    "    pprint(i)"
   ]
  },
  {
   "cell_type": "markdown",
   "metadata": {},
   "source": [
    "# Repo Subscribers"
   ]
  },
  {
   "cell_type": "code",
   "execution_count": 16,
   "metadata": {
    "collapsed": true
   },
   "outputs": [],
   "source": [
    "def repo_subscribers(repo):\n",
    "    '''\n",
    "    IN: github repo object\n",
    "    RETURN: dictionary containing repo subscribers\n",
    "    '''\n",
    "    repo_dict = {}\n",
    "    \n",
    "    # check for rate limit\n",
    "    limit_wait()\n",
    "    \n",
    "    repo_dict['_id'] = repo.id\n",
    "    repo_dict['full_name'] = repo.full_name\n",
    "    \n",
    "    try:\n",
    "        repo_dict['repo_subscribers'] = [f.login for f in repo.get_subscribers()]\n",
    "    except:\n",
    "        repo_dict['repo_subscribers'] = []\n",
    "        \n",
    "    return repo_dict"
   ]
  },
  {
   "cell_type": "code",
   "execution_count": 17,
   "metadata": {
    "collapsed": false
   },
   "outputs": [],
   "source": [
    "def repo_subscribers_upsert(repo):\n",
    "    col = db['git_repos_subscribers']\n",
    "    \n",
    "    try:\n",
    "        col.update_one(\n",
    "            {'_id': repo.id}, \n",
    "            {'$set': {col.insert_one(repo_subscribers(repo))}\n",
    "            }, upsert=True)\n",
    "    except:\n",
    "        pass\n",
    "    return None"
   ]
  },
  {
   "cell_type": "code",
   "execution_count": 18,
   "metadata": {
    "collapsed": false
   },
   "outputs": [],
   "source": [
    "_ = db.drop_collection('git_repos_subscribers')\n",
    "_ = db.create_collection('git_repos_subscribers')"
   ]
  },
  {
   "cell_type": "code",
   "execution_count": 19,
   "metadata": {
    "collapsed": false
   },
   "outputs": [
    {
     "name": "stdout",
     "output_type": "stream",
     "text": [
      "1\n"
     ]
    }
   ],
   "source": [
    "_ = repo_subscribers_upsert(repo)\n",
    "print(db.git_repos_subscribers.count())"
   ]
  },
  {
   "cell_type": "code",
   "execution_count": 20,
   "metadata": {
    "collapsed": false
   },
   "outputs": [
    {
     "name": "stdout",
     "output_type": "stream",
     "text": [
      "172\n"
     ]
    }
   ],
   "source": [
    "ct = db.git_repos_subscribers.find()\n",
    "ct = ct[0]\n",
    "print(len(ct['repo_subscribers']))"
   ]
  },
  {
   "cell_type": "raw",
   "metadata": {
    "collapsed": false
   },
   "source": [
    "for i in db.git_repos_subscribers.find():\n",
    "    pprint(i)"
   ]
  },
  {
   "cell_type": "markdown",
   "metadata": {},
   "source": [
    "# Repo Stargazers"
   ]
  },
  {
   "cell_type": "code",
   "execution_count": 21,
   "metadata": {
    "collapsed": true
   },
   "outputs": [],
   "source": [
    "def repo_stargazers(repo):\n",
    "    '''\n",
    "    IN: github repo object\n",
    "    RETURN: dictionary containing list of stargazers\n",
    "    '''\n",
    "    repo_dict = {}\n",
    "    \n",
    "    # check for rate limit\n",
    "    limit_wait()\n",
    "\n",
    "    repo_dict['_id'] = repo.id\n",
    "    repo_dict['full_name'] = repo.full_name\n",
    "    \n",
    "    try:\n",
    "        repo_dict['repo_stargazers'] = [f.login for f in repo.get_stargazers()]\n",
    "    except:\n",
    "        repo_dict['repo_stargazers'] = []\n",
    "\n",
    "    return repo_dict"
   ]
  },
  {
   "cell_type": "code",
   "execution_count": 22,
   "metadata": {
    "collapsed": false
   },
   "outputs": [],
   "source": [
    "def repo_stargazers_upsert(repo):\n",
    "    col = db['git_repos_stargazers']\n",
    "    \n",
    "    try:\n",
    "        col.update_one(\n",
    "            {'_id': repo.id}, \n",
    "            {'$set': {col.insert_one(repo_stargazers(repo))}\n",
    "            }, upsert=True)\n",
    "    except:\n",
    "        pass\n",
    "    return None"
   ]
  },
  {
   "cell_type": "code",
   "execution_count": 23,
   "metadata": {
    "collapsed": false
   },
   "outputs": [],
   "source": [
    "_ = db.drop_collection('git_repos_stargazers')\n",
    "_ = db.create_collection('git_repos_stargazers')"
   ]
  },
  {
   "cell_type": "code",
   "execution_count": 24,
   "metadata": {
    "collapsed": false,
    "scrolled": true
   },
   "outputs": [
    {
     "name": "stdout",
     "output_type": "stream",
     "text": [
      "1\n"
     ]
    }
   ],
   "source": [
    "_ = repo_stargazers_upsert(repo)\n",
    "print(db.git_repos_stargazers.count())"
   ]
  },
  {
   "cell_type": "code",
   "execution_count": 25,
   "metadata": {
    "collapsed": false
   },
   "outputs": [
    {
     "name": "stdout",
     "output_type": "stream",
     "text": [
      "1074\n"
     ]
    }
   ],
   "source": [
    "ct = db.git_repos_stargazers.find()\n",
    "ct = ct[0]\n",
    "print(len(ct['repo_stargazers']))"
   ]
  },
  {
   "cell_type": "raw",
   "metadata": {
    "collapsed": false
   },
   "source": [
    "for i in db.git_repos_stargazers.find():\n",
    "    pprint(i)"
   ]
  },
  {
   "cell_type": "markdown",
   "metadata": {},
   "source": [
    "# Repo Contributors"
   ]
  },
  {
   "cell_type": "code",
   "execution_count": 26,
   "metadata": {
    "collapsed": true
   },
   "outputs": [],
   "source": [
    "def repo_contributors(repo):\n",
    "    '''\n",
    "    IN: github repo object\n",
    "    RETURN: dictionary of contributors keyed by repo full_name\n",
    "    '''\n",
    "    repo_dict = {}\n",
    "    \n",
    "    # check for rate limit\n",
    "    limit_wait()\n",
    "    \n",
    "    repo_dict['_id'] = repo.id\n",
    "    repo_dict['full_name'] = repo.full_name\n",
    "    \n",
    "    try:        \n",
    "        repo_dict['repo_contributors'] = [f.login for f in repo.get_contributors()]\n",
    "    except:\n",
    "        repo_dict['repo_contributors'] = ''\n",
    "        \n",
    "    return repo_dict"
   ]
  },
  {
   "cell_type": "code",
   "execution_count": 27,
   "metadata": {
    "collapsed": false
   },
   "outputs": [],
   "source": [
    "def repo_contributors_upsert(repo):\n",
    "    col = db['git_repos_contributors']\n",
    "    \n",
    "    try:\n",
    "        col.update_one(\n",
    "            {'_id': repo.id}, \n",
    "            {'$set': {col.insert_one(repo_contributors(repo))}\n",
    "            }, upsert=True)\n",
    "    except:\n",
    "        pass\n",
    "    return None"
   ]
  },
  {
   "cell_type": "code",
   "execution_count": 28,
   "metadata": {
    "collapsed": false
   },
   "outputs": [],
   "source": [
    "_ = db.drop_collection('git_repos_contributors')\n",
    "_ = db.create_collection('git_repos_contributors')"
   ]
  },
  {
   "cell_type": "code",
   "execution_count": 29,
   "metadata": {
    "collapsed": false
   },
   "outputs": [
    {
     "name": "stdout",
     "output_type": "stream",
     "text": [
      "1\n"
     ]
    }
   ],
   "source": [
    "_ = repo_contributors_upsert(repo)\n",
    "print(db.git_repos_contributors.count())"
   ]
  },
  {
   "cell_type": "code",
   "execution_count": 30,
   "metadata": {
    "collapsed": false
   },
   "outputs": [
    {
     "name": "stdout",
     "output_type": "stream",
     "text": [
      "7\n"
     ]
    }
   ],
   "source": [
    "ct = db.git_repos_contributors.find()\n",
    "ct = ct[0]\n",
    "print(len(ct['repo_contributors']))"
   ]
  },
  {
   "cell_type": "code",
   "execution_count": 31,
   "metadata": {
    "collapsed": false,
    "scrolled": true
   },
   "outputs": [
    {
     "name": "stdout",
     "output_type": "stream",
     "text": [
      "{'_id': 1040700,\n",
      " 'full_name': 'ptwobrussell/Mining-the-Social-Web',\n",
      " 'repo_contributors': ['ptwobrussell',\n",
      "                       'sammyrulez',\n",
      "                       'cb372',\n",
      "                       'vkrest',\n",
      "                       'gar',\n",
      "                       'jeffhoek',\n",
      "                       'megansquire']}\n"
     ]
    }
   ],
   "source": [
    "for i in db.git_repos_contributors.find():\n",
    "    pprint(i)"
   ]
  },
  {
   "cell_type": "markdown",
   "metadata": {},
   "source": [
    "# User Metadata"
   ]
  },
  {
   "cell_type": "code",
   "execution_count": 32,
   "metadata": {
    "collapsed": false
   },
   "outputs": [],
   "source": [
    "def user_metadata(user):\n",
    "    user_keys = ['email', 'followers', 'hireable', 'login', 'bio', 'avatar_url', 'company', \n",
    "                 'updated_at', 'type', 'created_at', 'name', 'location', 'html_url', 'public_repos', \n",
    "                 'blog', 'public_gists', 'following']\n",
    "    # check for rate limit\n",
    "    limit_wait()\n",
    "        \n",
    "    # get returned payload raw data into dictionary\n",
    "    raw_dict = dict(user.raw_data)\n",
    "    \n",
    "    # trim user by keys listed above\n",
    "    user_dict = {k: raw_dict[k] for k in user_keys}\n",
    "    user_dict['_id'] = user.id\n",
    "    \n",
    "    return user_dict"
   ]
  },
  {
   "cell_type": "code",
   "execution_count": 33,
   "metadata": {
    "collapsed": false
   },
   "outputs": [],
   "source": [
    "def user_metadata_upsert(user):\n",
    "    col = db['git_users_meta']\n",
    "    \n",
    "    try:\n",
    "        col.update_one(\n",
    "            {'_id': user.id}, \n",
    "            {'$set':{col.insert_one(user_metadata(user))}}, \n",
    "            upsert=True)\n",
    "    except:\n",
    "        pass\n",
    "    return None"
   ]
  },
  {
   "cell_type": "code",
   "execution_count": 34,
   "metadata": {
    "collapsed": false
   },
   "outputs": [],
   "source": [
    "_ = db.drop_collection('git_users_meta')\n",
    "_ = db.create_collection('git_users_meta')"
   ]
  },
  {
   "cell_type": "code",
   "execution_count": 35,
   "metadata": {
    "collapsed": false
   },
   "outputs": [
    {
     "name": "stdout",
     "output_type": "stream",
     "text": [
      "1\n"
     ]
    }
   ],
   "source": [
    "_ = user_metadata_upsert(user)\n",
    "print(db.git_users_meta.count())"
   ]
  },
  {
   "cell_type": "code",
   "execution_count": 36,
   "metadata": {
    "collapsed": false
   },
   "outputs": [
    {
     "name": "stdout",
     "output_type": "stream",
     "text": [
      "{'_id': 98668,\n",
      " 'avatar_url': 'https://avatars.githubusercontent.com/u/98668?v=3',\n",
      " 'bio': None,\n",
      " 'blog': 'http://twitter.com/ptwobrussell',\n",
      " 'company': None,\n",
      " 'created_at': '2009-06-25T00:56:57Z',\n",
      " 'email': None,\n",
      " 'followers': 622,\n",
      " 'following': 0,\n",
      " 'hireable': None,\n",
      " 'html_url': 'https://github.com/ptwobrussell',\n",
      " 'location': 'Franklin, TN',\n",
      " 'login': 'ptwobrussell',\n",
      " 'name': 'Matthew A. Russell',\n",
      " 'public_gists': 12,\n",
      " 'public_repos': 20,\n",
      " 'type': 'User',\n",
      " 'updated_at': '2016-08-27T18:00:41Z'}\n"
     ]
    }
   ],
   "source": [
    "for i in db.git_users_meta.find():\n",
    "    pprint(i)"
   ]
  },
  {
   "cell_type": "markdown",
   "metadata": {},
   "source": [
    "# User Following"
   ]
  },
  {
   "cell_type": "code",
   "execution_count": 37,
   "metadata": {
    "collapsed": false
   },
   "outputs": [],
   "source": [
    "def user_following(user):\n",
    "    '''\n",
    "    IN: github user object\n",
    "    RETURN: dictionary of users (login name) followed by user (passed) \n",
    "            keyed by passed user's login\n",
    "    '''\n",
    "    user_dict = {}\n",
    "    \n",
    "    # check for rate limit\n",
    "    limit_wait()\n",
    "\n",
    "    user_dict['_id'] = user.id\n",
    "    user_dict['login'] = user.login\n",
    "        \n",
    "    try:\n",
    "        user_dict['user_following'] = [f.name for f in user.get_following()]\n",
    "    except:\n",
    "        user_dict['user_following'] = []\n",
    "        \n",
    "    return user_dict"
   ]
  },
  {
   "cell_type": "code",
   "execution_count": 38,
   "metadata": {
    "collapsed": false
   },
   "outputs": [],
   "source": [
    "def user_following_upsert(user):\n",
    "    col = db['git_users_following']\n",
    "    \n",
    "    try:\n",
    "        col.update_one(\n",
    "            {'_id': user.id}, \n",
    "            {'$set': {col.insert_one(user_following(user))}\n",
    "            }, upsert=True)\n",
    "    except:\n",
    "        pass\n",
    "    return None"
   ]
  },
  {
   "cell_type": "code",
   "execution_count": 39,
   "metadata": {
    "collapsed": false
   },
   "outputs": [],
   "source": [
    "_ = db.drop_collection('git_users_following')\n",
    "_ = db.create_collection('git_users_following')"
   ]
  },
  {
   "cell_type": "code",
   "execution_count": 40,
   "metadata": {
    "collapsed": false
   },
   "outputs": [
    {
     "name": "stdout",
     "output_type": "stream",
     "text": [
      "1\n"
     ]
    }
   ],
   "source": [
    "_ = user_following_upsert(user)\n",
    "print(db.git_users_following.count())"
   ]
  },
  {
   "cell_type": "code",
   "execution_count": 41,
   "metadata": {
    "collapsed": false
   },
   "outputs": [
    {
     "name": "stdout",
     "output_type": "stream",
     "text": [
      "0\n"
     ]
    }
   ],
   "source": [
    "ct = db.git_users_following.find()\n",
    "ct = ct[0]\n",
    "print(len(ct['user_following']))"
   ]
  },
  {
   "cell_type": "code",
   "execution_count": 42,
   "metadata": {
    "collapsed": false,
    "scrolled": false
   },
   "outputs": [
    {
     "name": "stdout",
     "output_type": "stream",
     "text": [
      "{'_id': 98668, 'login': 'ptwobrussell', 'user_following': []}\n"
     ]
    }
   ],
   "source": [
    "for i in db.git_users_following.find():\n",
    "    pprint(i)"
   ]
  },
  {
   "cell_type": "markdown",
   "metadata": {},
   "source": [
    "# User Followers"
   ]
  },
  {
   "cell_type": "code",
   "execution_count": 43,
   "metadata": {
    "collapsed": false
   },
   "outputs": [],
   "source": [
    "def user_followers(user):\n",
    "    '''\n",
    "    IN: github user object\n",
    "    RETURN: dictionary of users (login name) who follow user (passed)\n",
    "            keyed by passed user's login\n",
    "    '''\n",
    "    user_dict = {}\n",
    "    \n",
    "    # check for rate limit\n",
    "    limit_wait()\n",
    "    \n",
    "    user_dict['_id'] = user.id\n",
    "    user_dict['login'] = user.login\n",
    "        \n",
    "    try:\n",
    "        user_dict['user_followers'] = [f.login for f in user.get_followers()]\n",
    "    except:\n",
    "        user_dict['user_followers'] = []\n",
    "    \n",
    "    return user_dict"
   ]
  },
  {
   "cell_type": "code",
   "execution_count": 44,
   "metadata": {
    "collapsed": false
   },
   "outputs": [],
   "source": [
    "def user_followers_upsert(user):\n",
    "    col = db['git_users_followers']\n",
    "    \n",
    "    try:\n",
    "        col.update_one(\n",
    "            {'_id': user.id}, \n",
    "            {'$set': {col.insert_one(user_followers(user))}\n",
    "            }, upsert=True)\n",
    "    except:\n",
    "        pass\n",
    "    return None"
   ]
  },
  {
   "cell_type": "code",
   "execution_count": 45,
   "metadata": {
    "collapsed": false
   },
   "outputs": [],
   "source": [
    "_ = db.drop_collection('git_users_followers')\n",
    "_ = db.create_collection('git_users_followers')"
   ]
  },
  {
   "cell_type": "code",
   "execution_count": 46,
   "metadata": {
    "collapsed": false
   },
   "outputs": [
    {
     "name": "stdout",
     "output_type": "stream",
     "text": [
      "1\n"
     ]
    }
   ],
   "source": [
    "_ = user_followers_upsert(user)\n",
    "print(db.git_users_followers.count())"
   ]
  },
  {
   "cell_type": "code",
   "execution_count": 47,
   "metadata": {
    "collapsed": false
   },
   "outputs": [
    {
     "name": "stdout",
     "output_type": "stream",
     "text": [
      "622\n"
     ]
    }
   ],
   "source": [
    "ct = db.git_users_followers.find()\n",
    "ct = ct[0]\n",
    "print(len(ct['user_followers']))"
   ]
  },
  {
   "cell_type": "raw",
   "metadata": {
    "collapsed": false,
    "scrolled": false
   },
   "source": [
    "for i in db.git_users_followers.find():\n",
    "    pprint(i)"
   ]
  },
  {
   "cell_type": "markdown",
   "metadata": {},
   "source": [
    "# Users Starred"
   ]
  },
  {
   "cell_type": "code",
   "execution_count": 48,
   "metadata": {
    "collapsed": false
   },
   "outputs": [],
   "source": [
    "def user_starred(user):\n",
    "    '''\n",
    "    IN: github user object\n",
    "    RETURN: dictionary of repos (full_name) starred by user (passed)\n",
    "            keyed by passed user's login\n",
    "    '''\n",
    "    user_dict = {}\n",
    "    \n",
    "    # check for rate limit\n",
    "    limit_wait()\n",
    "    \n",
    "    user_dict['_id'] = user.id\n",
    "    user_dict['login'] = user.login\n",
    "    \n",
    "    try:\n",
    "        user_dict['starred_repos'] = [f.full_name for f in user.get_starred()]\n",
    "    except:\n",
    "        user_dict['starred_repos'] = []\n",
    "        \n",
    "    return user_dict"
   ]
  },
  {
   "cell_type": "code",
   "execution_count": 49,
   "metadata": {
    "collapsed": false
   },
   "outputs": [],
   "source": [
    "def user_starred_upsert(user):\n",
    "    col = db['git_users_starred']\n",
    "    \n",
    "    try:\n",
    "        col.update_one(\n",
    "            {'_id': user.id}, \n",
    "            {'$set': {col.insert_one(user_starred(user))}\n",
    "            }, upsert=True)\n",
    "    except:\n",
    "        pass\n",
    "    return None"
   ]
  },
  {
   "cell_type": "code",
   "execution_count": 50,
   "metadata": {
    "collapsed": false
   },
   "outputs": [],
   "source": [
    "_ = db.drop_collection('git_users_starred')\n",
    "_ = db.create_collection('git_users_starred')"
   ]
  },
  {
   "cell_type": "code",
   "execution_count": 51,
   "metadata": {
    "collapsed": false
   },
   "outputs": [
    {
     "name": "stdout",
     "output_type": "stream",
     "text": [
      "1\n"
     ]
    }
   ],
   "source": [
    "_ = user_starred_upsert(user)\n",
    "print(db.git_users_starred.count())"
   ]
  },
  {
   "cell_type": "code",
   "execution_count": 52,
   "metadata": {
    "collapsed": false,
    "scrolled": true
   },
   "outputs": [
    {
     "name": "stdout",
     "output_type": "stream",
     "text": [
      "131\n"
     ]
    }
   ],
   "source": [
    "ct = db.git_users_starred.find()\n",
    "ct = ct[0]\n",
    "print(len(ct['starred_repos']))"
   ]
  },
  {
   "cell_type": "raw",
   "metadata": {
    "collapsed": false,
    "scrolled": false
   },
   "source": [
    "for i in db.git_users_starred.find():\n",
    "    pprint(i)"
   ]
  },
  {
   "cell_type": "markdown",
   "metadata": {},
   "source": [
    "# Repo Files"
   ]
  },
  {
   "cell_type": "code",
   "execution_count": 53,
   "metadata": {
    "collapsed": false
   },
   "outputs": [],
   "source": [
    "def repo_scripts_upsert(repo, file_name, raw_file_cont, file_ext, doc_name):\n",
    "    '''\n",
    "    '''\n",
    "    # strip newline and tab chars from raw file content\n",
    "    col = db['git_repos_docs']\n",
    "    doc_name = '{0}_{1}'.format(repo.id, doc_name)\n",
    "    strip_file_cont = raw_file_cont.replace('\\n', ' ')\n",
    "    strip_file_cont = strip_file_cont.replace('\\t', ' ')\n",
    "\n",
    "    try:\n",
    "        col.update_one(\n",
    "            {'document' : doc_name}, \n",
    "            {'$set':{\n",
    "                    'file_name': file_name,\n",
    "                    #'raw_file': raw_file_cont,\n",
    "                    #'strip_file': strip_file_cont,\n",
    "                    'extension': file_ext,\n",
    "                    'full_name' : repo.full_name,\n",
    "                    'document' : doc_name}\n",
    "                }, \n",
    "            upsert=True)\n",
    "    except:\n",
    "        pass\n",
    "    return None"
   ]
  },
  {
   "cell_type": "code",
   "execution_count": 54,
   "metadata": {
    "collapsed": false
   },
   "outputs": [],
   "source": [
    "def repo_scripts(repo, doc_ct=0, _path='.'):\n",
    "    '''\n",
    "    IN: github repo object and path to folder\n",
    "    RETRUN: all files from repo except those in the exclusion list\n",
    "    '''\n",
    "    # only files with these extensions\n",
    "    extensions = ['py', 'md']\n",
    "\n",
    "    # check for rate limit\n",
    "    limit_wait()\n",
    "    \n",
    "    # grab all contents in the main directory\n",
    "    dir_contents = repo.get_dir_contents(_path)\n",
    "    repo_fullname = repo.full_name\n",
    "\n",
    "    for content in dir_contents:\n",
    "        # if item is a directory then recursively navigate lower to get files inside\n",
    "        if content.type == 'dir':\n",
    "            repo_scripts(repo, doc_ct, _path=content.path)\n",
    "\n",
    "        else:\n",
    "            doc_ct += 1\n",
    "            # get file extension\n",
    "            file_ext = content.name.split('.')[-1]\n",
    "            #file_ext = file_split[-1]\n",
    "\n",
    "            if file_ext in extensions:\n",
    "                # try to decode, but return blank if fail\n",
    "                try:\n",
    "                    raw_file_content = content.decoded_content.decode(errors='replace')\n",
    "                except:\n",
    "                    raw_file_content = ''\n",
    "                    \n",
    "                # actual file name, mongodb doc stored name\n",
    "                file_name = content.name\n",
    "                doc_name = 'doc_{0}'.format(doc_ct)\n",
    "                \n",
    "                # add to collection if under limit (>16mb)\n",
    "                file_size = sys.getsizeof(raw_file_content)\n",
    "                if file_size < 16000000:\n",
    "                    repo_scripts_upsert(repo, file_name, raw_file_content, file_ext, doc_name)\n",
    "                else:\n",
    "                    print('FILE SIZE LIMIT: {0} -- {1}'.format(file_name, file_size))\n",
    "    return None"
   ]
  },
  {
   "cell_type": "code",
   "execution_count": 55,
   "metadata": {
    "collapsed": false
   },
   "outputs": [],
   "source": [
    "_ = db.drop_collection('git_repos_docs')\n",
    "_ = db.create_collection('git_repos_docs')"
   ]
  },
  {
   "cell_type": "code",
   "execution_count": 56,
   "metadata": {
    "collapsed": false
   },
   "outputs": [
    {
     "name": "stdout",
     "output_type": "stream",
     "text": [
      "85\n"
     ]
    }
   ],
   "source": [
    "_ = repo_scripts(repo)\n",
    "print(db.git_repos_docs.count())"
   ]
  },
  {
   "cell_type": "code",
   "execution_count": 57,
   "metadata": {
    "collapsed": false
   },
   "outputs": [
    {
     "name": "stdout",
     "output_type": "stream",
     "text": [
      "Documents in \"git_repos_stargazers\" collection: 1\n",
      "Documents in \"git_users_starred\" collection: 1\n",
      "Documents in \"git_repos_meta\" collection: 1\n",
      "Documents in \"git_users_followers\" collection: 1\n",
      "Documents in \"git_repos_contributors\" collection: 1\n",
      "Documents in \"git_repos_subscribers\" collection: 1\n",
      "Documents in \"git_users_meta\" collection: 1\n",
      "Documents in \"git_users_following\" collection: 1\n",
      "Documents in \"git_repos_docs\" collection: 85\n"
     ]
    }
   ],
   "source": [
    "for name in db.collection_names():\n",
    "    #db.drop_collection(name)\n",
    "    print('Documents in \\\"{0}\\\" collection: {1}'.format(name, db[name].count()))"
   ]
  },
  {
   "cell_type": "markdown",
   "metadata": {},
   "source": [
    "# Search Github for 'Python' repositories"
   ]
  },
  {
   "cell_type": "code",
   "execution_count": 58,
   "metadata": {
    "collapsed": false
   },
   "outputs": [
    {
     "name": "stdout",
     "output_type": "stream",
     "text": [
      "Working on joe011/python\n",
      "DONE\n"
     ]
    }
   ],
   "source": [
    "for repo in git_client.search_repositories('python')[5:6]:\n",
    "    doc_ct = 0\n",
    "    \n",
    "    # ensure its a python tagged dirctory\n",
    "    if repo.language.lower() == 'python':\n",
    "        \n",
    "        #############################\n",
    "        # INSERT FURTHER CALLS HERE #\n",
    "        \n",
    "        print('Working on {0}'.format(repo.full_name))\n",
    "        repo_scripts(repo, doc_ct)\n",
    "\n",
    "        # insert metadata\n",
    "        repo_metadata_upsert(repo)\n",
    "        repo_stargazers_upsert(repo)\n",
    "        repo_subscribers_upsert(repo)\n",
    "        repo_contributors_upsert(repo)\n",
    "        \n",
    "        user_metadata_upsert(user)\n",
    "        user_following_upsert(user)\n",
    "        user_followers_upsert(user)\n",
    "        user_starred_upsert(user)\n",
    "        #############################\n",
    "        \n",
    "    # don't get cut off\n",
    "    time.sleep(randint(2,9))\n",
    "    \n",
    "print('DONE')"
   ]
  },
  {
   "cell_type": "code",
   "execution_count": 59,
   "metadata": {
    "collapsed": false
   },
   "outputs": [
    {
     "name": "stdout",
     "output_type": "stream",
     "text": [
      "Number of documents in \"git_repos_stargazers\" collection: 2\n",
      "Number of documents in \"git_users_starred\" collection: 1\n",
      "Number of documents in \"git_repos_meta\" collection: 2\n",
      "Number of documents in \"git_users_followers\" collection: 1\n",
      "Number of documents in \"git_repos_contributors\" collection: 2\n",
      "Number of documents in \"git_repos_subscribers\" collection: 2\n",
      "Number of documents in \"git_users_meta\" collection: 1\n",
      "Number of documents in \"git_users_following\" collection: 1\n",
      "Number of documents in \"git_repos_docs\" collection: 90\n"
     ]
    }
   ],
   "source": [
    "for name in db.collection_names():\n",
    "    print('Number of documents in \\\"{0}\\\" collection: {1}'.format(name, db[name].count()))"
   ]
  },
  {
   "cell_type": "code",
   "execution_count": null,
   "metadata": {
    "collapsed": false
   },
   "outputs": [],
   "source": [
    "#for cursor in db['github_repos'].find():\n",
    "#    pprint(cursor)"
   ]
  },
  {
   "cell_type": "code",
   "execution_count": null,
   "metadata": {
    "collapsed": false
   },
   "outputs": [],
   "source": [
    "\n"
   ]
  },
  {
   "cell_type": "code",
   "execution_count": null,
   "metadata": {
    "collapsed": true
   },
   "outputs": [],
   "source": []
  }
 ],
 "metadata": {
  "anaconda-cloud": {},
  "kernelspec": {
   "display_name": "Python 3",
   "language": "python",
   "name": "python3"
  },
  "language_info": {
   "codemirror_mode": {
    "name": "ipython",
    "version": 3
   },
   "file_extension": ".py",
   "mimetype": "text/x-python",
   "name": "python",
   "nbconvert_exporter": "python",
   "pygments_lexer": "ipython3",
   "version": "3.5.2"
  }
 },
 "nbformat": 4,
 "nbformat_minor": 1
}
