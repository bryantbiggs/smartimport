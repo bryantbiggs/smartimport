{
 "cells": [
  {
   "cell_type": "code",
   "execution_count": 1,
   "metadata": {
    "collapsed": false
   },
   "outputs": [],
   "source": [
    "import os\n",
    "import re\n",
    "import time\n",
    "from github import Github"
   ]
  },
  {
   "cell_type": "markdown",
   "metadata": {},
   "source": [
    "# Credentials"
   ]
  },
  {
   "cell_type": "code",
   "execution_count": 2,
   "metadata": {
    "collapsed": true
   },
   "outputs": [],
   "source": [
    "from pymongo import MongoClient\n",
    "pw_file = 'credentials/pw.txt'\n",
    "if os.path.exists(pw_file): \n",
    "    with open(pw_file, 'r') as f:\n",
    "        email, indeed_pw = f.readline().strip().split(', ')\n",
    "        username, pia_pw = f.readline().strip().split(', ')\n",
    "        pub_ip, mongo_usr, mongo_usr_pw = f.readline().strip().split(', ')"
   ]
  },
  {
   "cell_type": "markdown",
   "metadata": {},
   "source": [
    "# Connect to MongoDB"
   ]
  },
  {
   "cell_type": "code",
   "execution_count": 3,
   "metadata": {
    "collapsed": false
   },
   "outputs": [
    {
     "data": {
      "text/plain": [
       "True"
      ]
     },
     "execution_count": 3,
     "metadata": {},
     "output_type": "execute_result"
    }
   ],
   "source": [
    "# connect to ec2 mongo client\n",
    "client = MongoClient('{0}:27017'.format(pub_ip))\n",
    "\n",
    "# get reference to  resume_db\n",
    "db = client['github_db']\n",
    "\n",
    "# authenticate user for database\n",
    "db.authenticate(mongo_usr, mongo_usr_pw)"
   ]
  },
  {
   "cell_type": "markdown",
   "metadata": {},
   "source": [
    "# Create a MongoDB collection"
   ]
  },
  {
   "cell_type": "code",
   "execution_count": 4,
   "metadata": {
    "collapsed": true
   },
   "outputs": [],
   "source": [
    "# create a collection in the 'github_db' database\n",
    "if 'github_users' not in db.collection_names():\n",
    "    db.create_collection('github_users')"
   ]
  },
  {
   "cell_type": "code",
   "execution_count": 5,
   "metadata": {
    "collapsed": false
   },
   "outputs": [
    {
     "name": "stdout",
     "output_type": "stream",
     "text": [
      "Collections in database: ['github_users']\n",
      "Number of items in ['github_users'] collection: 0\n"
     ]
    }
   ],
   "source": [
    "print('Collections in database: {0}'.format(db.collection_names()))\n",
    "print('Number of items in {0} collection: {1}'.format(db.collection_names(), db['github_users'].count()))"
   ]
  },
  {
   "cell_type": "markdown",
   "metadata": {},
   "source": [
    "# Upsert MongoDB document (insert/update)"
   ]
  },
  {
   "cell_type": "code",
   "execution_count": 6,
   "metadata": {
    "collapsed": true
   },
   "outputs": [],
   "source": [
    "def upsert_doc(collection, link_id, term, res_txt):\n",
    "    '''\n",
    "    collection: mongodb collection data will be upserted into\n",
    "    link_id: unique id for users resume online\n",
    "    term: term searched when resume was found\n",
    "    res_text: text only from resume\n",
    "    '''\n",
    "    db[collection].update_one({\n",
    "        'link_id': link_id,\n",
    "    }, \n",
    "    {\n",
    "        '$set':{\n",
    "            'search_term': term,\n",
    "            'resume_text': res_txt,\n",
    "        }\n",
    "    }, upsert=True\n",
    "    )\n",
    "\n",
    "    return None"
   ]
  },
  {
   "cell_type": "markdown",
   "metadata": {},
   "source": [
    "# Get authenticated access to Github for higher requests limit"
   ]
  },
  {
   "cell_type": "code",
   "execution_count": 7,
   "metadata": {
    "collapsed": false
   },
   "outputs": [],
   "source": [
    "# import github private token\n",
    "with open('credentials/token.txt', 'r') as infile:\n",
    "    token = infile.readline().strip()\n",
    "    user = infile.readline().strip()\n",
    "\n",
    "git_client = Github(token)"
   ]
  },
  {
   "cell_type": "markdown",
   "metadata": {},
   "source": [
    "# Rate limits"
   ]
  },
  {
   "cell_type": "code",
   "execution_count": 32,
   "metadata": {
    "collapsed": false
   },
   "outputs": [],
   "source": [
    "def get_remaining(_type ='core'):\n",
    "    '''\n",
    "    _type = 'core' or 'search'\n",
    "    Return: tuple of remaining rate limit quantity, and time till reset\n",
    "    '''\n",
    "    \n",
    "    rate_limit = git_client.get_rate_limit()\n",
    "    raw = dict(rate_limit.raw_data)\n",
    "    \n",
    "    remaining = int(raw['resources'][_type]['remaining'])\n",
    "    reset = int(raw['resources'][_type]['reset'])\n",
    "    \n",
    "    return (remaining, reset)"
   ]
  },
  {
   "cell_type": "code",
   "execution_count": 116,
   "metadata": {
    "collapsed": false
   },
   "outputs": [
    {
     "name": "stdout",
     "output_type": "stream",
     "text": [
      "Resource rate limit remaining: (4886, 1472674512)\n",
      "Search rate limit remaining: (30, 1472672989)\n"
     ]
    }
   ],
   "source": [
    "print('Resource rate limit remaining: {0}'.format(get_remaining('core')))\n",
    "print('Search rate limit remaining: {0}'.format(get_remaining('search')))"
   ]
  },
  {
   "cell_type": "markdown",
   "metadata": {},
   "source": [
    "# REMOVE ME - ONLY FOR DEV"
   ]
  },
  {
   "cell_type": "code",
   "execution_count": 8,
   "metadata": {
    "collapsed": false
   },
   "outputs": [],
   "source": [
    "USER = 'ptwobrussell'\n",
    "REPO = 'Mining-the-Social-Web'\n",
    "\n",
    "user = git_client.get_user(USER)\n",
    "repo = user.get_repo(REPO)"
   ]
  },
  {
   "cell_type": "code",
   "execution_count": 89,
   "metadata": {
    "collapsed": false
   },
   "outputs": [],
   "source": [
    "def repo_data(repo):\n",
    "    repo_keys = ['id', 'owner', 'name', 'full_name', 'description', 'private', 'fork', 'html_url', 'homepage', \n",
    "             'language', 'forks_count', 'size', 'open_issues_count', 'has_issues', 'has_wiki', 'has_downloads', \n",
    "             'pushed_at', 'created_at', 'subscribers_count', 'stargazers_count']\n",
    "    owner_keys = ['gravatar_id', 'type', 'login', 'id', 'site_admin', 'url', 'avatar_url', 'html_url']\n",
    "    \n",
    "    # get returned payload raw data into dictionary\n",
    "    raw_dict = dict(repo.raw_data)\n",
    "    \n",
    "    # trim repo by keys listed above\n",
    "    repo_dict = {k: raw_dict[k] for k in repo_keys}\n",
    "    \n",
    "    # trim owner by keys listed above\n",
    "    owner_dict = {k: raw_dict['owner'][k] for k in owner_keys}\n",
    "    \n",
    "    repo_dict['owner'] = owner_dict\n",
    "    \n",
    "    return repo_dict"
   ]
  },
  {
   "cell_type": "code",
   "execution_count": 117,
   "metadata": {
    "collapsed": false
   },
   "outputs": [],
   "source": [
    "# repo_data(repo)"
   ]
  },
  {
   "cell_type": "markdown",
   "metadata": {},
   "source": [
    "# User Data"
   ]
  },
  {
   "cell_type": "code",
   "execution_count": 99,
   "metadata": {
    "collapsed": false
   },
   "outputs": [],
   "source": [
    "def list_following(user):\n",
    "    '''\n",
    "    IN: github user object\n",
    "    RETURN: list of users by their login name followed by user (passed) \n",
    "    '''\n",
    "    if user.following > 0:\n",
    "        following = [f.name for f in user.get_following()]\n",
    "    else:\n",
    "        following = ''\n",
    "        \n",
    "    return following"
   ]
  },
  {
   "cell_type": "code",
   "execution_count": 100,
   "metadata": {
    "collapsed": false
   },
   "outputs": [],
   "source": [
    "def list_followers(user):\n",
    "    '''\n",
    "    IN: github user object\n",
    "    RETURN: list of followers of the user by their login name\n",
    "    '''\n",
    "    if user.followers > 0:\n",
    "        followers = [f.login for f in user.get_followers()]\n",
    "    else:\n",
    "        followers = ''\n",
    "    \n",
    "    return followers"
   ]
  },
  {
   "cell_type": "code",
   "execution_count": 113,
   "metadata": {
    "collapsed": false
   },
   "outputs": [],
   "source": [
    "def list_starred(user):\n",
    "    '''\n",
    "    IN: github user object\n",
    "    RETURN: list of starred repos by their full name starred by user (passed)\n",
    "    '''\n",
    "    try:\n",
    "        starred = [f.full_name for f in user.get_starred()]\n",
    "    except:\n",
    "        starred = ''\n",
    "        \n",
    "    return starred"
   ]
  },
  {
   "cell_type": "code",
   "execution_count": 114,
   "metadata": {
    "collapsed": false
   },
   "outputs": [],
   "source": [
    "def user_data(user):\n",
    "    user_keys = ['email', 'followers', 'hireable', 'login', 'id', 'bio', 'avatar_url', 'company', \n",
    "                 'updated_at', 'type', 'created_at', 'name', 'location', 'html_url', 'public_repos', \n",
    "                 'blog', 'public_gists', 'following']\n",
    "\n",
    "    # get returned payload raw data into dictionary\n",
    "    raw_dict = dict(user.raw_data)\n",
    "    \n",
    "    # trim user by keys listed above\n",
    "    user_dict = {k: raw_dict[k] for k in user_keys}\n",
    "    \n",
    "    # add in list of followers by login name\n",
    "    user_dict['list_followers'] = list_followers(user)\n",
    "    \n",
    "    # add in list of following by login name\n",
    "    user_dict['list_following'] = list_following(user)\n",
    "    \n",
    "    # add in list of starred repos by full name\n",
    "    user_dict['list_starred'] = list_starred(user)\n",
    "    \n",
    "    return user_dict"
   ]
  },
  {
   "cell_type": "markdown",
   "metadata": {},
   "source": [
    "# Repo Owner Following"
   ]
  },
  {
   "cell_type": "code",
   "execution_count": null,
   "metadata": {
    "collapsed": false
   },
   "outputs": [],
   "source": [
    "# following\n",
    "print('Repo owner number following: {0}'.format(repo.owner.following))\n",
    "if repo.owner.following > 0:\n",
    "    following = [f.name for f in repo.owner.get_following()[:10]]\n",
    "else:\n",
    "    following = ''\n",
    "print('Repo owner (return list of following): {0}'.format(following))"
   ]
  },
  {
   "cell_type": "markdown",
   "metadata": {},
   "source": [
    "# Repo Owner Followers"
   ]
  },
  {
   "cell_type": "code",
   "execution_count": null,
   "metadata": {
    "collapsed": false
   },
   "outputs": [],
   "source": [
    "# followers\n",
    "print('Repo owner number of followers: {0}'.format(repo.owner.followers))\n",
    "if repo.owner.followers > 0:\n",
    "    followers = [f.id for f in repo.owner.get_followers()[:5]]\n",
    "else:\n",
    "    followers = ''\n",
    "print('Repo owner (return list of followers): {0}'.format(followers))"
   ]
  },
  {
   "cell_type": "markdown",
   "metadata": {},
   "source": [
    "# Repo Owner Orgs"
   ]
  },
  {
   "cell_type": "code",
   "execution_count": null,
   "metadata": {
    "collapsed": false
   },
   "outputs": [],
   "source": [
    "# orgs\n",
    "orgs = [f.name for f in repo.owner.get_orgs()]\n",
    "if len(orgs) > 0:\n",
    "    orgs = orgs[:10]\n",
    "else:\n",
    "    orgs = ''\n",
    "print('Repo owner orgs: {0}'.format(orgs))"
   ]
  },
  {
   "cell_type": "code",
   "execution_count": null,
   "metadata": {
    "collapsed": false
   },
   "outputs": [],
   "source": [
    "# public events\n",
    "events = [f.name for f in repo.owner.get_public_events()]\n",
    "if len(events) > 0:\n",
    "    events = events[:5]\n",
    "else:\n",
    "    events = ''\n",
    "print('Repo owner public events: {0}'.format(events))"
   ]
  },
  {
   "cell_type": "markdown",
   "metadata": {},
   "source": [
    "# Repo Contributors"
   ]
  },
  {
   "cell_type": "code",
   "execution_count": null,
   "metadata": {
    "collapsed": false
   },
   "outputs": [],
   "source": [
    "contributors = [c for c in repo.get_contributors()]\n",
    "\n",
    "contrib = contributors[2]\n",
    "print('Contributors name: {0}'.format(contrib.name))\n",
    "print('Contributors id: {0}'.format(contrib.id))\n",
    "print('Contributors etag: {0}'.format(contrib.etag))\n",
    "print('Contributors company: {0}'.format(contrib.company))\n",
    "print('Contributors email: {0}'.format(contrib.email))\n",
    "print('Contributors number of followers: {0}'.format(contrib.followers))"
   ]
  },
  {
   "cell_type": "code",
   "execution_count": null,
   "metadata": {
    "collapsed": false
   },
   "outputs": [],
   "source": [
    "watches = [w for w in contrib.get_watched()]\n",
    "watch = watches[1]\n",
    "watch.raw_data"
   ]
  },
  {
   "cell_type": "code",
   "execution_count": null,
   "metadata": {
    "collapsed": false
   },
   "outputs": [],
   "source": [
    "orgs = [o for o in contrib.get_orgs()]\n",
    "org = orgs[0] # May not have org\n",
    "org.name"
   ]
  },
  {
   "cell_type": "code",
   "execution_count": null,
   "metadata": {
    "collapsed": false
   },
   "outputs": [],
   "source": [
    "who_i_follow = [f for f in contrib.get_followers()]\n",
    "a = who_i_follow[0]\n",
    "a.name"
   ]
  },
  {
   "cell_type": "markdown",
   "metadata": {},
   "source": [
    "# Convert Jupyter notebook to Python script file (NOT BEING USED)"
   ]
  },
  {
   "cell_type": "raw",
   "metadata": {
    "collapsed": false
   },
   "source": [
    "import nbconvert # for converting notebooks to scripts\n",
    "\n",
    "def ipynb_to_py(in_ipynb, out_py):\n",
    "    '''\n",
    "    In: jupyter notebook\n",
    "    Out: python script file with jupyter cell syntax removed\n",
    "    '''\n",
    "    script,_ = nbconvert.export_python(in_ipynb, output_extension='py')\n",
    "    \n",
    "    with open(out_py, 'w') as f:\n",
    "        # clean up jupyter syntax\n",
    "        script = re.sub(r'''(# coding: utf-8)''', '', script)\n",
    "        script = re.sub(r'''(# In\\[([0-9 ]+)\\]:)''', '', script)\n",
    "        script = script.strip()\n",
    "        f.write(script)"
   ]
  },
  {
   "cell_type": "markdown",
   "metadata": {},
   "source": [
    "# Download Python files"
   ]
  },
  {
   "cell_type": "code",
   "execution_count": null,
   "metadata": {
    "collapsed": false
   },
   "outputs": [],
   "source": [
    "def directory_download(directory, location):\n",
    "    '''\n",
    "    Download all *.py files inside repo\n",
    "    '''\n",
    "    try:\n",
    "        # grab all contents in the main directory\n",
    "        dir_contents = directory.get_dir_contents('.')\n",
    "\n",
    "        for content in dir_contents:\n",
    "            \n",
    "            # if item grabbed is a directory then recursively navigate lower to get files inside\n",
    "            if content.type == 'dir':\n",
    "                directory_download(content, location)\n",
    "            \n",
    "            # if item grabbed is a python script, download\n",
    "            elif content.path[-2:] == 'py':\n",
    "                print('Processing - {0}'.format(content.name))\n",
    "                with open('{0}/{1}'.format(location, content.name), 'wb') as outfile:\n",
    "                    outfile.write(content.decoded_content)\n",
    "    except:\n",
    "        pass"
   ]
  },
  {
   "cell_type": "markdown",
   "metadata": {},
   "source": [
    "# Repo crawler"
   ]
  },
  {
   "cell_type": "code",
   "execution_count": null,
   "metadata": {
    "collapsed": false
   },
   "outputs": [],
   "source": [
    "for repo in g.search_repositories('*.ipynb')[5:15]:\n",
    "    # create folder to store repos python files\n",
    "    if not os.path.exists('files'):\n",
    "        os.makedirs('files')\n",
    "        \n",
    "    # ensure language is python\n",
    "    try:\n",
    "        # ensure its a python tagged dirctory\n",
    "        if repo.language.lower() == 'python':\n",
    "            username, dir_name = repo.full_name.split('/')\n",
    "            print('Name: {0} \\t Username: {1} \\t Repo: {2}'.format(repo.owner.name, username, dir_name))\n",
    "            \n",
    "            # make directory named after the repo name\n",
    "            folder = 'files/{0}__{1}'.format(username, dir_name)\n",
    "            \n",
    "            # create folder to store repos python files\n",
    "            if not os.path.exists(folder):\n",
    "                os.makedirs(folder)\n",
    "            \n",
    "            # download repo files\n",
    "            directory_download(repo, folder)\n",
    "            \n",
    "            # delete empty directories (did not have python files)\n",
    "            if not os.listdir(folder):\n",
    "                os.rmdir(folder)\n",
    "        \n",
    "        # don't get cut off\n",
    "        time.sleep(3)\n",
    "    except:\n",
    "        pass"
   ]
  },
  {
   "cell_type": "markdown",
   "metadata": {
    "collapsed": true
   },
   "source": [
    "# What data do I want from the repo\n",
    "* Python files\n",
    "* Owners name\n",
    "* Owners username\n",
    "* Number of stars\n",
    "* Number of watchers\n",
    "* Number of forks\n",
    "* "
   ]
  },
  {
   "cell_type": "markdown",
   "metadata": {},
   "source": [
    "# Experimental"
   ]
  },
  {
   "cell_type": "code",
   "execution_count": null,
   "metadata": {
    "collapsed": false
   },
   "outputs": [],
   "source": [
    "for repo in g.search_repositories('python')[:15]:\n",
    "    print('{0} -- {1}'.format(repo.url, repo.stargazers_count))\n",
    "    \n",
    "    print(repo.network_count)"
   ]
  },
  {
   "cell_type": "code",
   "execution_count": null,
   "metadata": {
    "collapsed": false
   },
   "outputs": [],
   "source": [
    "# access users github repos\n",
    "lst_repos = []\n",
    "for repo in g.get_user().get_repos():\n",
    "    lst_repos.append(repo)"
   ]
  },
  {
   "cell_type": "code",
   "execution_count": null,
   "metadata": {
    "collapsed": false
   },
   "outputs": [],
   "source": [
    "rep = lst_repos[-1]\n",
    "\n",
    "# username/repo name\n",
    "username, repo_name = rep.full_name.split('/')\n",
    "\n",
    "# owner/repo => base repo\n",
    "print(rep.full_name)\n",
    "\n",
    "# repo owner name\n",
    "print(rep.owner.name)\n",
    "\n",
    "print(username)\n",
    "print(repo_name)\n",
    "print(rep.full_name)\n",
    "print(rep.forks)\n",
    "print(rep.owner.collaborators)\n",
    "print(rep.owner.company)\n",
    "print(rep.owner.followers)\n",
    "print(rep.owner.following)\n",
    "print(rep.owner.id)\n",
    "print(rep.network_count) # number of contributors"
   ]
  },
  {
   "cell_type": "code",
   "execution_count": null,
   "metadata": {
    "collapsed": false
   },
   "outputs": [],
   "source": [
    "rep.stargazers_count"
   ]
  },
  {
   "cell_type": "code",
   "execution_count": null,
   "metadata": {
    "collapsed": false
   },
   "outputs": [],
   "source": [
    "repo.stargazers"
   ]
  },
  {
   "cell_type": "code",
   "execution_count": null,
   "metadata": {
    "collapsed": true
   },
   "outputs": [],
   "source": []
  }
 ],
 "metadata": {
  "anaconda-cloud": {},
  "kernelspec": {
   "display_name": "Python 3",
   "language": "python",
   "name": "python3"
  },
  "language_info": {
   "codemirror_mode": {
    "name": "ipython",
    "version": 3
   },
   "file_extension": ".py",
   "mimetype": "text/x-python",
   "name": "python",
   "nbconvert_exporter": "python",
   "pygments_lexer": "ipython3",
   "version": "3.5.2"
  }
 },
 "nbformat": 4,
 "nbformat_minor": 1
}
