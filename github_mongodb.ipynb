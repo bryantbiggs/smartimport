{
 "cells": [
  {
   "cell_type": "code",
   "execution_count": 1,
   "metadata": {
    "collapsed": false
   },
   "outputs": [],
   "source": [
    "import os\n",
    "import sys\n",
    "import re\n",
    "import time\n",
    "from github import Github\n",
    "from random import randint\n",
    "from pprint import pprint"
   ]
  },
  {
   "cell_type": "markdown",
   "metadata": {},
   "source": [
    "# Credentials"
   ]
  },
  {
   "cell_type": "code",
   "execution_count": 2,
   "metadata": {
    "collapsed": true
   },
   "outputs": [],
   "source": [
    "from pymongo import MongoClient\n",
    "pw_file = 'credentials/pw.txt'\n",
    "if os.path.exists(pw_file): \n",
    "    with open(pw_file, 'r') as f:\n",
    "        email, indeed_pw = f.readline().strip().split(', ')\n",
    "        username, pia_pw = f.readline().strip().split(', ')\n",
    "        pub_ip, mongo_usr, mongo_usr_pw = f.readline().strip().split(', ')"
   ]
  },
  {
   "cell_type": "markdown",
   "metadata": {},
   "source": [
    "# Connect to MongoDB"
   ]
  },
  {
   "cell_type": "code",
   "execution_count": 3,
   "metadata": {
    "collapsed": false,
    "scrolled": true
   },
   "outputs": [
    {
     "data": {
      "text/plain": [
       "True"
      ]
     },
     "execution_count": 3,
     "metadata": {},
     "output_type": "execute_result"
    }
   ],
   "source": [
    "# connect to ec2 mongo client\n",
    "client = MongoClient('{0}:27017'.format(pub_ip))\n",
    "\n",
    "# get reference to  resume_db\n",
    "db = client['github_db']\n",
    "\n",
    "# authenticate user for database\n",
    "db.authenticate(mongo_usr, mongo_usr_pw)"
   ]
  },
  {
   "cell_type": "markdown",
   "metadata": {},
   "source": [
    "# Create a MongoDB collection"
   ]
  },
  {
   "cell_type": "code",
   "execution_count": 34,
   "metadata": {
    "collapsed": true
   },
   "outputs": [],
   "source": [
    "db.drop_collection('github_repos')"
   ]
  },
  {
   "cell_type": "code",
   "execution_count": 35,
   "metadata": {
    "collapsed": false
   },
   "outputs": [
    {
     "name": "stdout",
     "output_type": "stream",
     "text": [
      "Collections in database: ['github_users']\n",
      "Number of items in \"github_users\" collection: 0\n"
     ]
    }
   ],
   "source": [
    "print('Collections in database: {0}'.format(db.collection_names()))\n",
    "for name in db.collection_names():\n",
    "    print('Number of items in \\\"{0}\\\" collection: {1}'.format(name, db[name].count()))"
   ]
  },
  {
   "cell_type": "code",
   "execution_count": 36,
   "metadata": {
    "collapsed": true
   },
   "outputs": [],
   "source": [
    "# create a collection in the 'github_db' database\n",
    "lst_collections = ['github_users', 'github_repos']\n",
    "\n",
    "for collection in lst_collections:\n",
    "    if collection not in db.collection_names():\n",
    "        db.create_collection(collection)"
   ]
  },
  {
   "cell_type": "code",
   "execution_count": 37,
   "metadata": {
    "collapsed": false
   },
   "outputs": [
    {
     "name": "stdout",
     "output_type": "stream",
     "text": [
      "Collections in database: ['github_users', 'github_repos']\n",
      "Number of items in \"github_users\" collection: 0\n",
      "Number of items in \"github_repos\" collection: 0\n"
     ]
    }
   ],
   "source": [
    "print('Collections in database: {0}'.format(db.collection_names()))\n",
    "for name in db.collection_names():\n",
    "    print('Number of items in \\\"{0}\\\" collection: {1}'.format(name, db[name].count()))"
   ]
  },
  {
   "cell_type": "markdown",
   "metadata": {},
   "source": [
    "# Get authenticated access to Github for higher requests limit"
   ]
  },
  {
   "cell_type": "code",
   "execution_count": 10,
   "metadata": {
    "collapsed": false
   },
   "outputs": [],
   "source": [
    "# import github private token\n",
    "with open('credentials/token.txt', 'r') as infile:\n",
    "    token = infile.readline().strip()\n",
    "    user = infile.readline().strip()\n",
    "\n",
    "git_client = Github(token)"
   ]
  },
  {
   "cell_type": "markdown",
   "metadata": {},
   "source": [
    "# Rate limits"
   ]
  },
  {
   "cell_type": "code",
   "execution_count": 11,
   "metadata": {
    "collapsed": false
   },
   "outputs": [],
   "source": [
    "def get_remaining(_type ='core'):\n",
    "    '''\n",
    "    _type = 'core' or 'search'\n",
    "    Return: tuple of remaining rate limit quantity, and time till reset\n",
    "    '''\n",
    "    \n",
    "    rate_limit = git_client.get_rate_limit()\n",
    "    raw = dict(rate_limit.raw_data)\n",
    "    \n",
    "    remaining = int(raw['resources'][_type]['remaining'])\n",
    "    reset = int(raw['resources'][_type]['reset'])\n",
    "    \n",
    "    return (remaining, reset)"
   ]
  },
  {
   "cell_type": "code",
   "execution_count": 12,
   "metadata": {
    "collapsed": false
   },
   "outputs": [
    {
     "name": "stdout",
     "output_type": "stream",
     "text": [
      "Resource rate limit remaining: (3495, 1472763563)\n",
      "Search rate limit remaining: (30, 1472762713)\n"
     ]
    }
   ],
   "source": [
    "print('Resource rate limit remaining: {0}'.format(get_remaining('core')))\n",
    "print('Search rate limit remaining: {0}'.format(get_remaining('search')))"
   ]
  },
  {
   "cell_type": "markdown",
   "metadata": {},
   "source": [
    "# REMOVE ME - ONLY FOR DEV"
   ]
  },
  {
   "cell_type": "raw",
   "metadata": {
    "collapsed": false
   },
   "source": [
    "USER = 'ptwobrussell'\n",
    "REPO = 'Mining-the-Social-Web'\n",
    "\n",
    "user = git_client.get_user(USER)\n",
    "repo = user.get_repo(REPO)"
   ]
  },
  {
   "cell_type": "code",
   "execution_count": 13,
   "metadata": {
    "collapsed": true
   },
   "outputs": [],
   "source": [
    "def list_subscribers(repo):\n",
    "    '''\n",
    "    IN: github repo object\n",
    "    RETURN: list of repo subscribers by their name for repo (passed)\n",
    "    '''\n",
    "    try:\n",
    "        subscribers = [f.login for f in repo.get_subscribers()]\n",
    "    except:\n",
    "        subscribers = ''\n",
    "        \n",
    "    return subscribers"
   ]
  },
  {
   "cell_type": "code",
   "execution_count": 14,
   "metadata": {
    "collapsed": true
   },
   "outputs": [],
   "source": [
    "def list_stargazers(repo):\n",
    "    '''\n",
    "    IN: github repo object\n",
    "    RETURN: list of repo stargazers by their name for repo (passed)\n",
    "    '''\n",
    "    try:\n",
    "        stargazers = [f.login for f in repo.get_stargazers()]\n",
    "    except:\n",
    "        stargazers = ''\n",
    "        \n",
    "    return stargazers"
   ]
  },
  {
   "cell_type": "code",
   "execution_count": 15,
   "metadata": {
    "collapsed": true
   },
   "outputs": [],
   "source": [
    "def list_contributors(repo):\n",
    "    '''\n",
    "    IN: github repo object\n",
    "    RETURN: list of repo contributors by their name for repo (passed)\n",
    "    '''\n",
    "    try:\n",
    "        contributors = [f.login for f in repo.get_contributors()]\n",
    "    except:\n",
    "        contributors = ''\n",
    "        \n",
    "    return contributors"
   ]
  },
  {
   "cell_type": "code",
   "execution_count": 16,
   "metadata": {
    "collapsed": false
   },
   "outputs": [],
   "source": [
    "def repo_data(repo):\n",
    "    repo_keys = ['id', 'owner', 'name', 'full_name', 'description', 'private', 'fork', 'html_url', 'homepage', \n",
    "             'language', 'forks_count', 'size', 'open_issues_count', 'has_issues', 'has_wiki', 'has_downloads', \n",
    "             'pushed_at', 'created_at', 'subscribers_count', 'stargazers_count']\n",
    "    \n",
    "    owner_keys = ['gravatar_id', 'type', 'login', 'id', 'site_admin', 'url', 'avatar_url', 'html_url']\n",
    "    \n",
    "    # get returned payload raw data into dictionary\n",
    "    raw_dict = dict(repo.raw_data)\n",
    "    \n",
    "    # trim repo by keys listed above\n",
    "    repo_dict = {k: raw_dict[k] for k in repo_keys}\n",
    "    \n",
    "    # trim owner by keys listed above\n",
    "    owner_dict = {k: raw_dict['owner'][k] for k in owner_keys}\n",
    "    repo_dict['owner'] = owner_dict\n",
    "    \n",
    "    # add in list of subscirbers by login name\n",
    "    repo_dict['list_subscribers'] = list_subscribers(repo)\n",
    "    \n",
    "    # add in list of stargazers by login name\n",
    "    repo_dict['list_stargazers'] = list_stargazers(repo)\n",
    "    \n",
    "    # add in list of contributors by login name\n",
    "    repo_dict['list_contributors'] = list_contributors(repo)\n",
    "    \n",
    "    return repo_dict"
   ]
  },
  {
   "cell_type": "code",
   "execution_count": 17,
   "metadata": {
    "collapsed": false
   },
   "outputs": [],
   "source": [
    "# a = repo_data(repo)"
   ]
  },
  {
   "cell_type": "markdown",
   "metadata": {},
   "source": [
    "# User data support functions"
   ]
  },
  {
   "cell_type": "code",
   "execution_count": 18,
   "metadata": {
    "collapsed": false
   },
   "outputs": [],
   "source": [
    "def list_following(user):\n",
    "    '''\n",
    "    IN: github user object\n",
    "    RETURN: list of users by their login name followed by user (passed) \n",
    "    '''\n",
    "    if user.following > 0:\n",
    "        following = [f.name for f in user.get_following()]\n",
    "    else:\n",
    "        following = ''\n",
    "        \n",
    "    return following"
   ]
  },
  {
   "cell_type": "code",
   "execution_count": 19,
   "metadata": {
    "collapsed": false
   },
   "outputs": [],
   "source": [
    "def list_followers(user):\n",
    "    '''\n",
    "    IN: github user object\n",
    "    RETURN: list of followers of the user by their login name\n",
    "    '''\n",
    "    if user.followers > 0:\n",
    "        followers = [f.login for f in user.get_followers()]\n",
    "    else:\n",
    "        followers = ''\n",
    "    \n",
    "    return followers"
   ]
  },
  {
   "cell_type": "code",
   "execution_count": 20,
   "metadata": {
    "collapsed": false
   },
   "outputs": [],
   "source": [
    "def list_starred(user):\n",
    "    '''\n",
    "    IN: github user object\n",
    "    RETURN: list of starred repos by their full name starred by user (passed)\n",
    "    '''\n",
    "    try:\n",
    "        starred = [f.full_name for f in user.get_starred()]\n",
    "    except:\n",
    "        starred = ''\n",
    "        \n",
    "    return starred"
   ]
  },
  {
   "cell_type": "markdown",
   "metadata": {},
   "source": [
    "# User data"
   ]
  },
  {
   "cell_type": "code",
   "execution_count": 21,
   "metadata": {
    "collapsed": false
   },
   "outputs": [],
   "source": [
    "def user_data(user):\n",
    "    user_keys = ['email', 'followers', 'hireable', 'login', 'id', 'bio', 'avatar_url', 'company', \n",
    "                 'updated_at', 'type', 'created_at', 'name', 'location', 'html_url', 'public_repos', \n",
    "                 'blog', 'public_gists', 'following']\n",
    "\n",
    "    # get returned payload raw data into dictionary\n",
    "    raw_dict = dict(user.raw_data)\n",
    "    \n",
    "    # trim user by keys listed above\n",
    "    user_dict = {k: raw_dict[k] for k in user_keys}\n",
    "    \n",
    "    # add in list of followers by login name\n",
    "    user_dict['list_followers'] = list_followers(user)\n",
    "    \n",
    "    # add in list of following by login name\n",
    "    user_dict['list_following'] = list_following(user)\n",
    "    \n",
    "    # add in list of starred repos by full name\n",
    "    user_dict['list_starred'] = list_starred(user)\n",
    "    \n",
    "    return user_dict"
   ]
  },
  {
   "cell_type": "markdown",
   "metadata": {},
   "source": [
    "# Upsert MongoDB document (insert/update)"
   ]
  },
  {
   "cell_type": "code",
   "execution_count": 149,
   "metadata": {
    "collapsed": false
   },
   "outputs": [],
   "source": [
    "def files_upsert_doc(repo_fullname, file_name, raw_file_contents, file_extension, doc_num):\n",
    "    '''\n",
    "    '''\n",
    "    # strip newline and tab chars from raw file content\n",
    "    stripped_file_contents = raw_file_contents.replace('\\n', ' ')\n",
    "    stripped_file_contents = stripped_file_contents.replace('\\t', ' ')\n",
    "    \n",
    "    repo_chk = db['github_repos'].find({repo_fullname: {\"$exists\": True}})\n",
    "    \n",
    "    if not repo_chk:\n",
    "        db['github_repos'].insert_one({'_id':repo_fullname})\n",
    "        \n",
    "    try:\n",
    "        db['github_repos'].update_one({'_id' : repo_fullname}, \n",
    "        {\n",
    "            '$set':{\n",
    "                doc_num: {\n",
    "                        'file_name': file_name,\n",
    "                        #'raw_file': raw_file_contents,\n",
    "                        'stripped_file': stripped_file_contents,\n",
    "                        'extension': file_extension,\n",
    "                        }\n",
    "            }\n",
    "        }, upsert=True\n",
    "        )\n",
    "    except:\n",
    "        pass\n",
    "    return None"
   ]
  },
  {
   "cell_type": "code",
   "execution_count": 157,
   "metadata": {
    "collapsed": false
   },
   "outputs": [],
   "source": [
    "def upload_files(repo, doc_ct, _path='.'):\n",
    "    '''\n",
    "    IN: github repo object and path to folder\n",
    "    RETRUN: all files from repo except those in the exclusion list\n",
    "    '''\n",
    "    # exclude files with these extensions\n",
    "    exclude = ['png', 'jpg', 'gif', 'tif']\n",
    "\n",
    "    # grab all contents in the main directory\n",
    "    dir_contents = repo.get_dir_contents(_path)\n",
    "    repo_fullname = repo.full_name\n",
    "\n",
    "    for content in dir_contents:\n",
    "        # if item is a directory then recursively navigate lower to get files inside\n",
    "        if content.type == 'dir':\n",
    "            upload_files(repo, doc_ct, _path=content.path)\n",
    "\n",
    "        else:\n",
    "            doc_ct += 1\n",
    "            \n",
    "            # get file extension\n",
    "            file_split = content.name.split('.')\n",
    "            file_ext = file_split[-1]\n",
    "\n",
    "            if file_ext not in exclude:\n",
    "                # try to decode, but return blank if fail\n",
    "                try:\n",
    "                    raw_file_content = content.decoded_content.decode(errors='replace') # decode githubs compression\n",
    "                except:\n",
    "                    raw_file_content = ''\n",
    "                    \n",
    "                # file and mongod doc names\n",
    "                file_name = content.name\n",
    "                doc_name = 'doc_{0}'.format(doc_ct)\n",
    "                \n",
    "                # if file is not too large (>16mb), add to collection\n",
    "                file_size = sys.getsizeof(raw_file_content)\n",
    "                if file_size < 16000000:\n",
    "                    files_upsert_doc(repo_fullname, file_name, raw_file_content, file_ext, doc_name)\n",
    "                else:\n",
    "                    print('FILE SIZE LIMIT: {0} -- {1}'.format(file_name, file_size))\n",
    "    return None"
   ]
  },
  {
   "cell_type": "markdown",
   "metadata": {},
   "source": [
    "# Search Github for 'Python' repositories"
   ]
  },
  {
   "cell_type": "code",
   "execution_count": 159,
   "metadata": {
    "collapsed": false
   },
   "outputs": [
    {
     "name": "stdout",
     "output_type": "stream",
     "text": [
      "Working on joe011/python\n",
      "DONE\n"
     ]
    }
   ],
   "source": [
    "import time\n",
    "\n",
    "for repo in git_client.search_repositories('python')[5:6]:\n",
    "    doc_ct = 0\n",
    "    \n",
    "    # ensure its a python tagged dirctory\n",
    "    if repo.language.lower() == 'python':\n",
    "        \n",
    "        #############################\n",
    "        # INSERT FURTHER CALLS HERE #\n",
    "        \n",
    "        rate, _ = get_remaining('core')\n",
    "        \n",
    "        if (rate > 10):\n",
    "            print('Working on {0}'.format(repo.full_name))\n",
    "            upload_files(repo, doc_ct)\n",
    "        \n",
    "        else:\n",
    "            print('Waiting to continue...')\n",
    "            time.sleep(1800)\n",
    "            \n",
    "            if (rate > 10):\n",
    "                print('Retrying {0}'.format(repo.full_name))\n",
    "                upload_files(repo, doc_ct)\n",
    "            else:\n",
    "                print('Waiting to continue...')\n",
    "                time.sleep(1800)\n",
    "            \n",
    "                if (rate > 10):\n",
    "                    print('Final retry {0}'.format(repo.full_name))\n",
    "                    upload_files(repo, doc_ct)\n",
    "                else:\n",
    "                    print('Waiting to continue...')\n",
    "                    time.sleep(900)\n",
    "            \n",
    "        #############################\n",
    "        \n",
    "    # don't get cut off\n",
    "    time.sleep(randint(2,9))\n",
    "    \n",
    "print('DONE')"
   ]
  },
  {
   "cell_type": "code",
   "execution_count": 160,
   "metadata": {
    "collapsed": false
   },
   "outputs": [
    {
     "name": "stdout",
     "output_type": "stream",
     "text": [
      "{'_id': 'joe011/python',\n",
      " 'doc_1': {'extension': 'md',\n",
      "           'file_name': 'README.md',\n",
      "           'stripped_file': '==========   ##本项目为日常工作中的使用的python脚本   ###1.  '\n",
      "                            'ssh_thread.py  '\n",
      "                            '是一个批量执行命令的脚本，支持直接执行ssh命令及文件传输，支持多线程    '\n",
      "                            '使用说明如下：     -h,-H,--help         帮助页面          '\n",
      "                            '-C, --cmd            执行命令模式          -M, '\n",
      "                            '--command        执行命令模式          -S, '\n",
      "                            '--sendfile       传输文件模式          -L, '\n",
      "                            '--localpath      本地文件路径          -R, '\n",
      "                            '--remotepath     远程服务器路径        IP列表格式:          '\n",
      "                            'IP地址  用户名     密码     端口      192.168.1.1        '\n",
      "                            'root   123456    22         e.g.               '\n",
      "                            '批量执行命令格式： -C \"IP列表\" -M \\'执行的命令\\'               '\n",
      "                            '批量传送文件：     -S \"IP列表\" -L \"本地文件路径\" -R '\n",
      "                            '\"远程文件路径\"      错误日志文件：$PWD/ssh_errors.log  ###2. '\n",
      "                            'check_ping.py  多进程检测ping，并取值     '\n",
      "                            '默认开启4个进程，需要将hosts.txt '\n",
      "                            'IP列表文件放入同一目录下，IP列表每行一个，支持域名、IP   ###3. '\n",
      "                            'check_ip138.py 通过ip138检测IP（域名）归属地    使用方法: python '\n",
      "                            'check_ip138.py  192.168.1.1         ###4. '\n",
      "                            'vps_baidu.py  使用baidupan备份VPS    pip install '\n",
      "                            'baidupan   参考：http://solos.github.io/baidupan/'},\n",
      " 'doc_2': {'extension': 'py',\n",
      "           'file_name': 'check_ip138.py',\n",
      "           'stripped_file': '#!/usr/bin/python #coding:utf-8 import urllib '\n",
      "                            'import re import sys    def ISIP(s):     return '\n",
      "                            \"len([i for i in s.split('.') if (0<= int(i)<= \"\n",
      "                            '255)])== 4  def URL(ip):  '\n",
      "                            \"uip=urllib.urlopen('http://wap.ip138.com/ip.asp?ip=%s'%ip)  \"\n",
      "                            'fip=uip.read()  '\n",
      "                            'rip=re.compile(r\"<br/><b>查询结果：(.*)</b><br/>\")  '\n",
      "                            'result=rip.findall(fip)  print \"%s\\\\t %s\" '\n",
      "                            '%(ip,result[0])  def DO(domain):         '\n",
      "                            \"url=urllib.urlopen('http://wap.ip138.com/ip.asp?ip=%s'%domain)         \"\n",
      "                            \"f=url.read()         r=re.compile(r'&gt; \"\n",
      "                            \"(.*)<br/><b>查询结果：(.*)</b><br/>')         \"\n",
      "                            'result=r.findall(f)  #print type(result)  for i '\n",
      "                            'in result:          print \"%s\\\\t %s\\\\t %s\\\\t\" '\n",
      "                            '%(domain,i[0],i[1])  if __name__ == \"__main__\":  '\n",
      "                            'if len(sys.argv) < 2:   print \"请输入IP地址或者域名 '\n",
      "                            '(例如:192.168.1.1 / www.baidu.com)\"   sys.exit()  '\n",
      "                            'INPUT=sys.argv[1]  if not '\n",
      "                            \"re.findall('(\\\\d{1,3}\\\\.){3}\\\\d{1,3}',INPUT):          \"\n",
      "                            'if '\n",
      "                            \"re.findall(r'(\\\\w+\\\\.)?(\\\\w+)(\\\\.\\\\D+){1,2}',INPUT) \"\n",
      "                            ':                  DOMAIN=INPUT    '\n",
      "                            'DO(DOMAIN)          else:                  print '\n",
      "                            '\"输入的IP地址和域名格式不对！\"  else:          if ISIP(INPUT)  '\n",
      "                            ':                  IPADDRESS=INPUT    '\n",
      "                            'URL(IPADDRESS)          else:                  '\n",
      "                            'print \"IP 地址不合法，请重新输入！\"  '},\n",
      " 'doc_3': {'extension': 'py',\n",
      "           'file_name': 'check_ping.py',\n",
      "           'stripped_file': '#!/usr/bin/python  #coding:utf-8 import '\n",
      "                            'multiprocessing import re  import sys,os import '\n",
      "                            'commands import datetime def  pinger(ip):  '\n",
      "                            \"cmd='ping -c 2 %s' % (ip.strip())  ret = \"\n",
      "                            'commands.getoutput(cmd)  '\n",
      "                            'loss_re=re.compile(r\"received, (.*) packet '\n",
      "                            'loss\")  packet_loss=loss_re.findall(ret)[0]  '\n",
      "                            'rtt_re=re.compile(r\"rtt min/avg/max/mdev = (.*) '\n",
      "                            '\")  rtts=rtt_re.findall(ret)  #rtt.split([\"/\"])  '\n",
      "                            \"rtt=rtts[0].split('/')  rtt_min=rtt[0]  \"\n",
      "                            'rtt_avg=rtt[1]  rtt_max=rtt[2]  print '\n",
      "                            '\"%s\\\\t\\\\t%s\\\\t\\\\t%s\\\\t\\\\t%s\\\\t\\\\t%s\"%(ip,packet_loss,rtt_min,rtt_max,rtt_avg)    '\n",
      "                            'if __name__ == \"__main__\":     if not '\n",
      "                            'os.path.exists(\"hosts.txt\") :  print '\n",
      "                            '\"\\\\033[31mhosts.txt文件不存在，请重试\\\\033[0m\"  '\n",
      "                            'sys.exit(1)     now=datetime.datetime.now()     '\n",
      "                            \"file=open('hosts.txt','r')     \"\n",
      "                            'pool=multiprocessing.Pool(processes=4)     '\n",
      "                            'result=[]     print '\n",
      "                            '\"########%s###########\"%now     print '\n",
      "                            '\"IPADDRSS\\\\t\\\\t\\\\tLOSS\\\\t\\\\tMIN\\\\t\\\\tMAX\\\\t\\\\tAVG\"     '\n",
      "                            'for i in file.readlines():         if len(i)==1 '\n",
      "                            'or i.startswith(\"#\"):            continue         '\n",
      "                            'result.append(pool.apply_async(pinger,(i.strip(),)))      '\n",
      "                            'pool.close()                pool.join() '},\n",
      " 'doc_4': {'extension': 'py',\n",
      "           'file_name': 'ssh_thread.py',\n",
      "           'stripped_file': '#!/usr/bin/python #coding:utf-8 import paramiko '\n",
      "                            'import sys import datetime import threading '\n",
      "                            'import Queue import getopt  def usage():   print '\n",
      "                            '\"\"\"                -h,-H,--help         '\n",
      "                            '帮助页面                -C, --cmd            '\n",
      "                            '执行命令模式                -M, --command        '\n",
      "                            '执行具体命令                -S, --sendfile       '\n",
      "                            '传输文件模式                -L, --localpath      '\n",
      "                            '本地文件路径                -R, --remotepath     '\n",
      "                            '远程服务器路径         IP列表格式:           IP地址  用户名     '\n",
      "                            '密码     端口       192.168.1.1        root   '\n",
      "                            '123456    22         e.g.               批量执行命令格式： '\n",
      "                            '-C \"IP列表\" -M \\'执行的命令\\'               批量传送文件：     '\n",
      "                            '-S \"IP列表\" -L \"本地文件路径\" -R \"远程文件路径\"        '\n",
      "                            '错误日志文件：$PWD/ssh_errors.log  \"\"\"  def '\n",
      "                            'ssh(queue_get,cmd):  try:   '\n",
      "                            'hostip=queue_get[0]                 '\n",
      "                            'username=queue_get[1]                 '\n",
      "                            'password=queue_get[2]                 '\n",
      "                            'port=queue_get[3]          '\n",
      "                            's=paramiko.SSHClient()           '\n",
      "                            's.load_system_host_keys()          '\n",
      "                            's.set_missing_host_key_policy(paramiko.AutoAddPolicy())          '\n",
      "                            's.connect(hostname=hostip,port=port,username=username, '\n",
      "                            'password=password)          '\n",
      "                            'stdin,stdout,stderr=s.exec_command(cmd)          '\n",
      "                            'print '\n",
      "                            '\"\\\\033[42m---------------------------------%s---------------------------\\\\033[0m '\n",
      "                            '\\\\n %s\" %(hostip,stdout.read())          '\n",
      "                            's.close()  except Exception,ex:          print '\n",
      "                            '\"\\\\033[42m---------------------------------%s---------------------------\\\\033[0m\\\\n '\n",
      "                            '%s : \\\\t%s\" %(hostip,hostip,ex)                 '\n",
      "                            '#print \"\\\\n\",hostip,\":\\\\t\",ex,\"\\\\n\"   '\n",
      "                            'ssh_errors=open(\"ssh_errors.log\",\"a\")   '\n",
      "                            'ssh_errors.write(\"%s\\\\t%s:\\\\t%s\\\\n\"%(now,hostip,ex))   '\n",
      "                            'ssh_errors.close()                 pass def '\n",
      "                            'sftp(queue_get,localpath,remotepath):  try:   '\n",
      "                            'hostip=queue_get[0]   '\n",
      "                            'username=queue_get[1]                 '\n",
      "                            'password=queue_get[2]                 '\n",
      "                            'port=int(queue_get[3])    '\n",
      "                            't=paramiko.Transport((hostip,port))                 '\n",
      "                            't.connect(username=username,password=password)                 '\n",
      "                            'sftp=paramiko.SFTPClient.from_transport(t)   '\n",
      "                            'sftp.put(localpath,remotepath)   print \"Upload '\n",
      "                            'file %s to %s : %s: %s\" '\n",
      "                            '%(localpath,hostip,remotepath,now)   '\n",
      "                            'sftp.close()   t.close()         except '\n",
      "                            'Exception,ex:         print '\n",
      "                            '\"\\\\n\",hostip,\":\\\\t\",ex,\"\\\\n\"                 '\n",
      "                            'ssh_errors=open(\"ssh_errors.log\",\"a\")                 '\n",
      "                            'ssh_errors.write(\"%s\\\\t%s:\\\\t%s\\\\n\"%(now,hostip,ex))                 '\n",
      "                            'ssh_errors.close()                 pass  if '\n",
      "                            \"__name__ == '__main__':  try:   opts,args= opts, \"\n",
      "                            'args = getopt.getopt(sys.argv[1:], '\n",
      "                            '\"(hH)C:M:S:L:R:\", '\n",
      "                            '[\"help\",\"cmd=\",\"command=\",\"sendfile=\",\"localpath=\",\"remotepath=\"])   '\n",
      "                            'now=datetime.datetime.now()   if   len(sys.argv) '\n",
      "                            '== 1 :    usage()     sys.exit()   if sys.argv[1] '\n",
      "                            'in (\"-h\",\"-H\",\"--help\"):    usage()    '\n",
      "                            'sys.exit()   elif sys.argv[1] in '\n",
      "                            '(\"-C\",\"--cmd\"):    for opt,arg in opts:     if '\n",
      "                            'opt in (\"-C\",\"--cmd\"):      iplist=arg     if opt '\n",
      "                            'in (\"-M\",\"--command=\"):      cmd=arg        '\n",
      "                            'file=open(iplist)    threads = '\n",
      "                            '[]                  myqueue = Queue.Queue(maxsize '\n",
      "                            '= 0)    for l in file.readlines():         if  '\n",
      "                            \"len(l)==1 or  l.startswith('#'):             \"\n",
      "                            'continue     f=l.split()     myqueue.put(f)    '\n",
      "                            'file.close()    for x in '\n",
      "                            'xrange(0,myqueue.qsize()):     if '\n",
      "                            'myqueue.empty():                               '\n",
      "                            'break                          mutex = '\n",
      "                            'threading.Lock()                           '\n",
      "                            'mutex.acquire()                          '\n",
      "                            'mutex.release()                          '\n",
      "                            'threads.append(threading.Thread(target=ssh, '\n",
      "                            'args=(myqueue.get(),cmd)))                  for t '\n",
      "                            'in threads:                          '\n",
      "                            't.start()                          t.join()   '\n",
      "                            'elif sys.argv[1] in (\"-S\",\"--sendfile\"):    for '\n",
      "                            'opt,arg in opts:     if opt in '\n",
      "                            '(\"-S\",\"--sendfile\"):      iplist=arg     if opt '\n",
      "                            'in (\"-L\",\"--localpath=\"):      localpath=arg     '\n",
      "                            'if opt in (\"-R\",\"--remotepath=\"):      '\n",
      "                            'remotepath=arg     file=open(iplist)    threads = '\n",
      "                            '[]                  myqueue = Queue.Queue(maxsize '\n",
      "                            '= 0)    for l in file.readlines():         if  '\n",
      "                            \"len(l)==1 or  l.startswith('#'):             \"\n",
      "                            'continue     f=l.split()     myqueue.put(f)    '\n",
      "                            'file.close()    for x in '\n",
      "                            'xrange(0,myqueue.qsize()):     if '\n",
      "                            'myqueue.empty():                               '\n",
      "                            'break                          mutex = '\n",
      "                            'threading.Lock()                           '\n",
      "                            'mutex.acquire()                          '\n",
      "                            'mutex.release()                          '\n",
      "                            'threads.append(threading.Thread(target=sftp, '\n",
      "                            'args=(myqueue.get(),localpath,remotepath)))                  '\n",
      "                            'for t in threads:                          '\n",
      "                            't.start()                          t.join()      '\n",
      "                            'else:    print \"\\\\033[31m非法参数，请重新输入！\\\\033[0m\"    '\n",
      "                            '#usage()  except Exception,ex:   usage()   print '\n",
      "                            'ex '},\n",
      " 'doc_5': {'extension': 'py',\n",
      "           'file_name': 'vps_baidu.py',\n",
      "           'stripped_file': '#!/usr/bin/python #coding:utf-8 import os import '\n",
      "                            'datetime import tarfile import json from '\n",
      "                            'baidupan.baidupan import BaiduPan      def '\n",
      "                            \"mysql_backup():  db_host='localhost'  \"\n",
      "                            \"db_user='root'  db_password='password'  \"\n",
      "                            \"mysqldump='/usr/local/mysql/bin/mysqldump'   \"\n",
      "                            '#print db_bak_name   cmd=\"%s -u%s  -p%s '\n",
      "                            '--database  wordpress >  '\n",
      "                            '%s\"%(mysqldump,db_user,db_password,db_bak_name)   '\n",
      "                            'if os.popen(cmd):   '\n",
      "                            \"tar=tarfile.open(db_bak,'w:bz2')   \"\n",
      "                            'tar.add(db_bak_name)   return \"Success\"     '\n",
      "                            '#mysql_backup() def blog_backup():  '\n",
      "                            \"blog_dir='/data/wordpress/'   \"\n",
      "                            \"blog_tar=tarfile.open(blog_bak,'w:bz2')  \"\n",
      "                            'blog_tar.add(blog_dir)  return \"Success\"    def '\n",
      "                            'upload_bpcs(upload_dir,upload_file,del_file):  '\n",
      "                            'access_token=\"access\"#从百度云获取  '\n",
      "                            'disk=BaiduPan(access_token)  '\n",
      "                            \"bpcs_dir='/apps/bpcs_uploader/'  if not \"\n",
      "                            'disk.meta(bpcs_dir+upload_dir):   '\n",
      "                            'disk.mkdir(bpcs_dir+upload_dir)  #查看使用情况  #print '\n",
      "                            'disk.quota()  disk.upload(upload_file, '\n",
      "                            \"path=bpcs_dir+upload_dir+upload_file,ondup='overwrite') \"\n",
      "                            '#上传文件，如果存在，直接覆盖  if '\n",
      "                            'disk.meta(bpcs_dir+upload_dir+del_file): '\n",
      "                            '#删除历史文件   disk.rm(bpcs_dir+upload_dir+del_file)  '\n",
      "                            \"if __name__ == '__main__':   \"\n",
      "                            'today=datetime.datetime.now().date()  '\n",
      "                            'del_date=today-datetime.timedelta(days=7)  '\n",
      "                            \"back_dir='/data/backup/'  \"\n",
      "                            \"logfile=back_dir+'bpcs.log'  os.chdir(back_dir)   \"\n",
      "                            \"#mysql  db_bak_name='mysql-'+str(today)+'.sql'  \"\n",
      "                            \"db_bak='mysql-'+str(today)+'.tar.bz2'  \"\n",
      "                            \"db_del='mysql-'+str(del_date)+'.tar.bz2'   #blog  \"\n",
      "                            \"blog_bak='blog-'+str(today)+'.tar.bz2'  \"\n",
      "                            \"blog_del='blog-'+str(del_date)+'.tar.bz2'   \"\n",
      "                            \"log=open(logfile,'a')  \"\n",
      "                            'log.write(\"##########%s###########\\\\n\"%datetime.datetime.now())  '\n",
      "                            'try:   if os.path.exists(back_dir):    '\n",
      "                            'os.chdir(back_dir)   else:    '\n",
      "                            'os.mkdir(back_dir)    os.chdir(back_dir)      if '\n",
      "                            \"mysql_backup():    upload_bpcs('mysql/', db_bak, \"\n",
      "                            \"db_del)       log.write('Mysql upload Success \"\n",
      "                            \"!\\\\n')    os.system('rm -rf %s %s \"\n",
      "                            \"'%(db_bak_name,db_bak))   else:    \"\n",
      "                            \"log.write('mysqldump failed !\\\\n')   if \"\n",
      "                            \"blog_backup():    upload_bpcs('blog/', blog_bak, \"\n",
      "                            \"blog_del)    log.write('blog upload Success \"\n",
      "                            \"!\\\\n')    os.system('rm -rf %s'%(blog_bak))   \"\n",
      "                            \"else :    log.write('blog backup failed !\\\\n')   \"\n",
      "                            'log.close()  except Exception, e:   print '\n",
      "                            'e           '}}\n"
     ]
    }
   ],
   "source": [
    "for cursor in db['github_repos'].find():\n",
    "    pprint(cursor)"
   ]
  },
  {
   "cell_type": "code",
   "execution_count": 158,
   "metadata": {
    "collapsed": false
   },
   "outputs": [],
   "source": [
    "_ = db.drop_collection('github_repos')\n",
    "_ = db.create_collection('github_repos')"
   ]
  },
  {
   "cell_type": "code",
   "execution_count": 128,
   "metadata": {
    "collapsed": false
   },
   "outputs": [],
   "source": [
    "_ = db['github_repos'].insert_one({'_id':'joe011/python'})"
   ]
  },
  {
   "cell_type": "code",
   "execution_count": null,
   "metadata": {
    "collapsed": true
   },
   "outputs": [],
   "source": []
  },
  {
   "cell_type": "code",
   "execution_count": 113,
   "metadata": {
    "collapsed": false
   },
   "outputs": [],
   "source": [
    "\n"
   ]
  },
  {
   "cell_type": "code",
   "execution_count": null,
   "metadata": {
    "collapsed": true
   },
   "outputs": [],
   "source": []
  }
 ],
 "metadata": {
  "anaconda-cloud": {},
  "kernelspec": {
   "display_name": "Python 3",
   "language": "python",
   "name": "python3"
  },
  "language_info": {
   "codemirror_mode": {
    "name": "ipython",
    "version": 3
   },
   "file_extension": ".py",
   "mimetype": "text/x-python",
   "name": "python",
   "nbconvert_exporter": "python",
   "pygments_lexer": "ipython3",
   "version": "3.5.2"
  }
 },
 "nbformat": 4,
 "nbformat_minor": 1
}
