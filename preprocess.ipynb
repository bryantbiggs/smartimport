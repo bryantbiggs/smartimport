{
 "cells": [
  {
   "cell_type": "code",
   "execution_count": 1,
   "metadata": {
    "collapsed": false
   },
   "outputs": [],
   "source": [
    "import os\n",
    "import csv\n",
    "import re\n",
    "from pymongo import MongoClient\n",
    "from pprint import pprint"
   ]
  },
  {
   "cell_type": "markdown",
   "metadata": {},
   "source": [
    "# Credentials"
   ]
  },
  {
   "cell_type": "code",
   "execution_count": 2,
   "metadata": {
    "collapsed": false
   },
   "outputs": [],
   "source": [
    "pw_file = 'credentials/mongo_pw.txt'\n",
    "if os.path.exists(pw_file): \n",
    "    with open(pw_file, 'r') as f:\n",
    "        pub_ip, mongo_usr, mongo_usr_pw = f.readline().strip().split(', ')"
   ]
  },
  {
   "cell_type": "markdown",
   "metadata": {},
   "source": [
    "# Connect to MongoDB"
   ]
  },
  {
   "cell_type": "code",
   "execution_count": 3,
   "metadata": {
    "collapsed": false,
    "scrolled": true
   },
   "outputs": [
    {
     "data": {
      "text/plain": [
       "True"
      ]
     },
     "execution_count": 3,
     "metadata": {},
     "output_type": "execute_result"
    }
   ],
   "source": [
    "# connect to ec2 mongo client\n",
    "client = MongoClient('{0}:27017'.format(pub_ip))\n",
    "\n",
    "# get reference to  resume_db\n",
    "db = client['github_db']\n",
    "\n",
    "# authenticate user for database\n",
    "db.authenticate(mongo_usr, mongo_usr_pw)"
   ]
  },
  {
   "cell_type": "markdown",
   "metadata": {},
   "source": [
    "# Show MongoDB collections"
   ]
  },
  {
   "cell_type": "code",
   "execution_count": 4,
   "metadata": {
    "collapsed": false
   },
   "outputs": [],
   "source": [
    "def show_collections():\n",
    "    '''\n",
    "    IN: None\n",
    "    RETURN: Printed output of collections and collection counts\n",
    "    '''\n",
    "    for name in sorted(db.collection_names()):\n",
    "        print('Documents in \\\"{0}\\\" collection: {1}'.format(name, db[name].count()))"
   ]
  },
  {
   "cell_type": "code",
   "execution_count": 5,
   "metadata": {
    "collapsed": false
   },
   "outputs": [
    {
     "name": "stdout",
     "output_type": "stream",
     "text": [
      "Documents in \"git_repos_contributors\" collection: 2196\n",
      "Documents in \"git_repos_docs\" collection: 96758\n",
      "Documents in \"git_repos_meta\" collection: 2195\n",
      "Documents in \"git_repos_subscribers\" collection: 2196\n",
      "Documents in \"git_users_followers\" collection: 626\n",
      "Documents in \"git_users_following\" collection: 626\n",
      "Documents in \"git_users_meta\" collection: 626\n"
     ]
    }
   ],
   "source": [
    "show_collections()"
   ]
  },
  {
   "cell_type": "code",
   "execution_count": 6,
   "metadata": {
    "collapsed": false
   },
   "outputs": [],
   "source": [
    "def get_fieldname_tsv(col):\n",
    "    cursor = db[col].find_one()\n",
    "    fields = list(cursor.keys())\n",
    "    fields = '\\t '.join(fields) + '\\n'\n",
    "    \n",
    "    if col == 'git_repos_docs':\n",
    "        fields = fields.replace('file_contents', 'strip_contents')\n",
    "\n",
    "    return fields"
   ]
  },
  {
   "cell_type": "code",
   "execution_count": 7,
   "metadata": {
    "collapsed": false
   },
   "outputs": [
    {
     "data": {
      "text/plain": [
       "'strip_contents\\t repo_id\\t doc_name\\t file_name\\t _id\\t file_extension\\t repo_fullname\\t repo_name\\t repo_owner_login\\n'"
      ]
     },
     "execution_count": 7,
     "metadata": {},
     "output_type": "execute_result"
    }
   ],
   "source": [
    "get_fieldname_tsv('git_repos_docs')"
   ]
  },
  {
   "cell_type": "code",
   "execution_count": 10,
   "metadata": {
    "collapsed": false
   },
   "outputs": [],
   "source": [
    "def convert_repodoc_tsv(doc):\n",
    "    doc['file_contents'] = doc['file_contents'].replace('\\n', ' ')\n",
    "    doc['file_contents'] = doc['file_contents'].replace('\\t', ' ')\n",
    "    doc['file_contents'] = re.sub('\\s+', ' ', doc['file_contents']).strip()\n",
    "    \n",
    "    doc_str = [str(v) for k,v in doc.items()]\n",
    "    doc_str = '\\t '.join(doc_str) + '\\n'\n",
    "    return doc_str"
   ]
  },
  {
   "cell_type": "code",
   "execution_count": 11,
   "metadata": {
    "collapsed": false
   },
   "outputs": [
    {
     "data": {
      "text/plain": [
       "\"## What is this Python project? Describe features. ## What's the difference between this Python project and similar ones? Enumerate comparisons. -- Anyone who agrees with this pull request could vote for it by adding a :+1: to it, and usually, the maintainer will merge it when votes reach **20**.\\t 21289110\\t 21289110__PULL_REQUEST_TEMPLATE.md\\t PULL_REQUEST_TEMPLATE.md\\t 57ce15d48532183ad7e11e84\\t md\\t vinta/awesome-python\\t awesome-python\\t vinta\\n\""
      ]
     },
     "execution_count": 11,
     "metadata": {},
     "output_type": "execute_result"
    }
   ],
   "source": [
    "cursor = db['git_repos_docs'].find_one()\n",
    "convert_repodoc_tsv(cursor)"
   ]
  },
  {
   "cell_type": "code",
   "execution_count": 12,
   "metadata": {
    "collapsed": true
   },
   "outputs": [],
   "source": [
    "def filter_filetypes(db, col, _filter='all'):\n",
    "    \n",
    "    if _filter != 'all':\n",
    "        db_new = db[col].find({'file_extension': re.compile(_filter, re.IGNORECASE)})\n",
    "    else:\n",
    "        db_new = db[col].find()\n",
    "    \n",
    "    return db_new"
   ]
  },
  {
   "cell_type": "raw",
   "metadata": {
    "collapsed": false
   },
   "source": [
    "filtered_col = filter_filetypes(db, 'git_repos_docs')\n",
    "filtered_col"
   ]
  },
  {
   "cell_type": "code",
   "execution_count": 13,
   "metadata": {
    "collapsed": true
   },
   "outputs": [],
   "source": [
    "import gzip\n",
    "import shutil"
   ]
  },
  {
   "cell_type": "code",
   "execution_count": 22,
   "metadata": {
    "collapsed": false
   },
   "outputs": [],
   "source": [
    "def export_mongo_to_gztsv(db, col, filename, _filter='all'):\n",
    "    \n",
    "    cursor = filter_filetypes(db, col, _filter)\n",
    "    ct = 0\n",
    "    \n",
    "    with open('{0}.txt'.format(filename), 'w') as outfile:\n",
    "        #if ct < 1:\n",
    "        #    outfile.write(get_fieldname_tsv(col))\n",
    "\n",
    "        for doc in cursor:\n",
    "            csv_str = convert_repodoc_tsv(doc)\n",
    "            outfile.write(csv_str)\n",
    "            \n",
    "        with open('{0}.txt'.format(filename), 'rb') as infile:\n",
    "            with gzip.open('{0}.txt.gz'.format(filename), 'wb') as outfile:\n",
    "                shutil.copyfileobj(infile, outfile)"
   ]
  },
  {
   "cell_type": "code",
   "execution_count": 23,
   "metadata": {
    "collapsed": false
   },
   "outputs": [],
   "source": [
    "export_mongo_to_gztsv(db, 'git_repos_docs', 'py_docs', 'py')"
   ]
  },
  {
   "cell_type": "markdown",
   "metadata": {},
   "source": [
    "# Upload to S3"
   ]
  },
  {
   "cell_type": "code",
   "execution_count": 17,
   "metadata": {
    "collapsed": false
   },
   "outputs": [],
   "source": [
    "with open('credentials/aws.csv', 'r') as infile:\n",
    "    _ = infile.readline()\n",
    "    username, access_key, secret_key = infile.readline().replace('\"', '').split(',')"
   ]
  },
  {
   "cell_type": "code",
   "execution_count": 19,
   "metadata": {
    "collapsed": false
   },
   "outputs": [
    {
     "data": {
      "text/plain": [
       "'BM09rT1gGGq4ulonuIVjgcRT3dB/homCZU5k8fq7'"
      ]
     },
     "execution_count": 19,
     "metadata": {},
     "output_type": "execute_result"
    }
   ],
   "source": [
    "secret_key"
   ]
  },
  {
   "cell_type": "code",
   "execution_count": 214,
   "metadata": {
    "collapsed": false
   },
   "outputs": [
    {
     "data": {
      "text/plain": [
       "<Response [200]>"
      ]
     },
     "execution_count": 214,
     "metadata": {},
     "output_type": "execute_result"
    }
   ],
   "source": [
    "import tinys3\n",
    "\n",
    "conn = tinys3.Connection(access_key, secret_key, tls=True)\n",
    "\n",
    "f = open('repo_py_docs.txt','rb')\n",
    "conn.upload('repo_py_docs.txt',f,'github-spark')"
   ]
  },
  {
   "cell_type": "code",
   "execution_count": 18,
   "metadata": {
    "collapsed": true
   },
   "outputs": [],
   "source": [
    "import pandas as pd\n",
    "df = pd.DataFrame(list(db['git_repos_docs'].find()))"
   ]
  },
  {
   "cell_type": "code",
   "execution_count": 23,
   "metadata": {
    "collapsed": false
   },
   "outputs": [
    {
     "data": {
      "text/html": [
       "<div>\n",
       "<table border=\"1\" class=\"dataframe\">\n",
       "  <thead>\n",
       "    <tr style=\"text-align: right;\">\n",
       "      <th></th>\n",
       "      <th>file_contents</th>\n",
       "      <th>file_extension</th>\n",
       "      <th>file_name</th>\n",
       "      <th>repo_fullname</th>\n",
       "      <th>repo_id</th>\n",
       "      <th>repo_name</th>\n",
       "      <th>repo_owner_login</th>\n",
       "    </tr>\n",
       "  </thead>\n",
       "  <tbody>\n",
       "    <tr>\n",
       "      <th>0</th>\n",
       "      <td>## What is this Python project?\\n\\nDescribe fe...</td>\n",
       "      <td>md</td>\n",
       "      <td>PULL_REQUEST_TEMPLATE.md</td>\n",
       "      <td>vinta/awesome-python</td>\n",
       "      <td>21289110</td>\n",
       "      <td>awesome-python</td>\n",
       "      <td>vinta</td>\n",
       "    </tr>\n",
       "    <tr>\n",
       "      <th>1</th>\n",
       "      <td># Contributing\\n\\nYour contributions are alway...</td>\n",
       "      <td>md</td>\n",
       "      <td>CONTRIBUTING.md</td>\n",
       "      <td>vinta/awesome-python</td>\n",
       "      <td>21289110</td>\n",
       "      <td>awesome-python</td>\n",
       "      <td>vinta</td>\n",
       "    </tr>\n",
       "    <tr>\n",
       "      <th>2</th>\n",
       "      <td># Awesome Python [![Awesome](https://cdn.rawgi...</td>\n",
       "      <td>md</td>\n",
       "      <td>README.md</td>\n",
       "      <td>vinta/awesome-python</td>\n",
       "      <td>21289110</td>\n",
       "      <td>awesome-python</td>\n",
       "      <td>vinta</td>\n",
       "    </tr>\n",
       "    <tr>\n",
       "      <th>3</th>\n",
       "      <td># coding: utf-8\\n\\n\"\"\"\\n    The approach taken...</td>\n",
       "      <td>py</td>\n",
       "      <td>sort.py</td>\n",
       "      <td>vinta/awesome-python</td>\n",
       "      <td>21289110</td>\n",
       "      <td>awesome-python</td>\n",
       "      <td>vinta</td>\n",
       "    </tr>\n",
       "    <tr>\n",
       "      <th>4</th>\n",
       "      <td>Requests is written and maintained by Kenneth ...</td>\n",
       "      <td>rst</td>\n",
       "      <td>AUTHORS.rst</td>\n",
       "      <td>kennethreitz/requests</td>\n",
       "      <td>1362490</td>\n",
       "      <td>requests</td>\n",
       "      <td>kennethreitz</td>\n",
       "    </tr>\n",
       "  </tbody>\n",
       "</table>\n",
       "</div>"
      ],
      "text/plain": [
       "                                       file_contents file_extension  \\\n",
       "0  ## What is this Python project?\\n\\nDescribe fe...             md   \n",
       "1  # Contributing\\n\\nYour contributions are alway...             md   \n",
       "2  # Awesome Python [![Awesome](https://cdn.rawgi...             md   \n",
       "3  # coding: utf-8\\n\\n\"\"\"\\n    The approach taken...             py   \n",
       "4  Requests is written and maintained by Kenneth ...            rst   \n",
       "\n",
       "                  file_name          repo_fullname   repo_id       repo_name  \\\n",
       "0  PULL_REQUEST_TEMPLATE.md   vinta/awesome-python  21289110  awesome-python   \n",
       "1           CONTRIBUTING.md   vinta/awesome-python  21289110  awesome-python   \n",
       "2                 README.md   vinta/awesome-python  21289110  awesome-python   \n",
       "3                   sort.py   vinta/awesome-python  21289110  awesome-python   \n",
       "4               AUTHORS.rst  kennethreitz/requests   1362490        requests   \n",
       "\n",
       "  repo_owner_login  \n",
       "0            vinta  \n",
       "1            vinta  \n",
       "2            vinta  \n",
       "3            vinta  \n",
       "4     kennethreitz  "
      ]
     },
     "execution_count": 23,
     "metadata": {},
     "output_type": "execute_result"
    }
   ],
   "source": [
    "#del df['_id']\n",
    "#del df['doc_name']\n",
    "df.head()"
   ]
  },
  {
   "cell_type": "code",
   "execution_count": 24,
   "metadata": {
    "collapsed": true
   },
   "outputs": [],
   "source": [
    "df = df[df['file_extension'] == 'py']\n",
    "df = df[['file_name', 'file_extension', 'file_contents', 'repo_name', 'repo_id', 'repo_fullname', 'repo_owner_login']]"
   ]
  },
  {
   "cell_type": "code",
   "execution_count": 28,
   "metadata": {
    "collapsed": false
   },
   "outputs": [],
   "source": [
    "a = df.head()"
   ]
  },
  {
   "cell_type": "code",
   "execution_count": 32,
   "metadata": {
    "collapsed": false
   },
   "outputs": [],
   "source": [
    "b = df.iloc[0]['file_contents']"
   ]
  },
  {
   "cell_type": "code",
   "execution_count": 29,
   "metadata": {
    "collapsed": true
   },
   "outputs": [],
   "source": [
    "a.to_csv('test.csv')"
   ]
  },
  {
   "cell_type": "code",
   "execution_count": 33,
   "metadata": {
    "collapsed": true
   },
   "outputs": [],
   "source": [
    "with open('my.py', 'w') as f:\n",
    "    f.write(b)"
   ]
  },
  {
   "cell_type": "code",
   "execution_count": null,
   "metadata": {
    "collapsed": true
   },
   "outputs": [],
   "source": []
  }
 ],
 "metadata": {
  "anaconda-cloud": {},
  "kernelspec": {
   "display_name": "Python 3",
   "language": "python",
   "name": "python3"
  },
  "language_info": {
   "codemirror_mode": {
    "name": "ipython",
    "version": 3
   },
   "file_extension": ".py",
   "mimetype": "text/x-python",
   "name": "python",
   "nbconvert_exporter": "python",
   "pygments_lexer": "ipython3",
   "version": "3.5.2"
  }
 },
 "nbformat": 4,
 "nbformat_minor": 1
}
