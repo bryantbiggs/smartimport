{
 "cells": [
  {
   "cell_type": "code",
   "execution_count": 8,
   "metadata": {
    "collapsed": false
   },
   "outputs": [],
   "source": [
    "import os\n",
    "import re\n",
    "import time\n",
    "from github import Github"
   ]
  },
  {
   "cell_type": "markdown",
   "metadata": {},
   "source": [
    "# Get authenticated access to Github for higher requests limit"
   ]
  },
  {
   "cell_type": "code",
   "execution_count": 2,
   "metadata": {
    "collapsed": false
   },
   "outputs": [],
   "source": [
    "# import github private token\n",
    "with open('token.txt', 'r') as infile:\n",
    "    token = infile.readline().strip()\n",
    "    user = infile.readline().strip()\n",
    "\n",
    "g = Github(user, token)"
   ]
  },
  {
   "cell_type": "markdown",
   "metadata": {},
   "source": [
    "# Convert Jupyter notebook to Python script file (NOT BEING USED)"
   ]
  },
  {
   "cell_type": "code",
   "execution_count": 3,
   "metadata": {
    "collapsed": false
   },
   "outputs": [],
   "source": [
    "import nbconvert # for converting notebooks to scripts\n",
    "\n",
    "def ipynb_to_py(in_ipynb, out_py):\n",
    "    '''\n",
    "    In: jupyter notebook\n",
    "    Out: python script file with jupyter cell syntax removed\n",
    "    '''\n",
    "    script,_ = nbconvert.export_python(in_ipynb, output_extension='py')\n",
    "    \n",
    "    with open(out_py, 'w') as f:\n",
    "        # clean up jupyter syntax\n",
    "        script = re.sub(r'''(# coding: utf-8)''', '', script)\n",
    "        script = re.sub(r'''(# In\\[([0-9 ]+)\\]:)''', '', script)\n",
    "        script = script.strip()\n",
    "        f.write(script)"
   ]
  },
  {
   "cell_type": "markdown",
   "metadata": {},
   "source": [
    "# Download Python files"
   ]
  },
  {
   "cell_type": "code",
   "execution_count": 12,
   "metadata": {
    "collapsed": false
   },
   "outputs": [],
   "source": [
    "def directory_download(directory, location):\n",
    "    '''\n",
    "    Download all *.py files inside repo\n",
    "    '''\n",
    "    try:\n",
    "        # grab all contents in the main directory\n",
    "        dir_contents = directory.get_dir_contents('.')\n",
    "\n",
    "        for content in dir_contents:\n",
    "            \n",
    "            # if item grabbed is a directory then recursively navigate lower to get files inside\n",
    "            if content.type == 'dir':\n",
    "                directory_download(content, location)\n",
    "            \n",
    "            # if item grabbed is a python script, download\n",
    "            elif content.path[-2:] == 'py':\n",
    "                print('Processing - {0}'.format(content.name))\n",
    "                with open('{0}/{1}'.format(location, content.name), 'wb') as outfile:\n",
    "                    outfile.write(content.decoded_content)\n",
    "    except:\n",
    "        pass"
   ]
  },
  {
   "cell_type": "markdown",
   "metadata": {},
   "source": [
    "# Repo crawler"
   ]
  },
  {
   "cell_type": "code",
   "execution_count": 13,
   "metadata": {
    "collapsed": false
   },
   "outputs": [
    {
     "name": "stdout",
     "output_type": "stream",
     "text": [
      "Name: tjwei \t Username: tjwei \t Repo: tjw_ipynb\n",
      "Processing - ASUS-Webstorage.ipynb\n",
      "Processing - Interactive_compare.ipynb\n",
      "Name: Charl P. Botha \t Username: cpbotha \t Repo: django-shell-ipynb\n",
      "Name: Yiannis Gatsoulis \t Username: gatsoulis \t Repo: py2ipynb\n"
     ]
    }
   ],
   "source": [
    "for repo in g.search_repositories('*.ipynb')[5:15]:\n",
    "    # create folder to store repos python files\n",
    "    if not os.path.exists('files'):\n",
    "        os.makedirs('files')\n",
    "        \n",
    "    # ensure language is python\n",
    "    try:\n",
    "        # ensure its a python tagged dirctory\n",
    "        if repo.language.lower() == 'python':\n",
    "            username, dir_name = repo.full_name.split('/')\n",
    "            print('Name: {0} \\t Username: {1} \\t Repo: {2}'.format(repo.owner.name, username, dir_name))\n",
    "            \n",
    "            # make directory named after the repo name\n",
    "            folder = 'files/{0}__{1}'.format(username, dir_name)\n",
    "            \n",
    "            # create folder to store repos python files\n",
    "            if not os.path.exists(folder):\n",
    "                os.makedirs(folder)\n",
    "            \n",
    "            # download repo files\n",
    "            directory_download(repo, folder)\n",
    "            \n",
    "            # delete empty directories (did not have python files)\n",
    "            if not os.listdir(folder):\n",
    "                os.rmdir(folder)\n",
    "        \n",
    "        # don't get cut off\n",
    "        time.sleep(3)\n",
    "    except:\n",
    "        pass"
   ]
  },
  {
   "cell_type": "markdown",
   "metadata": {
    "collapsed": true
   },
   "source": [
    "# What data do I want from the repo\n",
    "* Python files\n",
    "* Owners name\n",
    "* Owners username\n",
    "* Number of stars\n",
    "* Number of watchers\n",
    "* Number of forks\n",
    "* "
   ]
  },
  {
   "cell_type": "markdown",
   "metadata": {},
   "source": [
    "# Experimental"
   ]
  },
  {
   "cell_type": "code",
   "execution_count": 61,
   "metadata": {
    "collapsed": false
   },
   "outputs": [
    {
     "name": "stdout",
     "output_type": "stream",
     "text": [
      "https://api.github.com/repos/geekcomputers/Python -- 1157\n",
      "1083\n",
      "https://api.github.com/repos/xxg1413/python -- 547\n",
      "536\n",
      "https://api.github.com/repos/Show-Me-the-Code/python -- 645\n",
      "941\n",
      "https://api.github.com/repos/poise/python -- 448\n",
      "685\n",
      "https://api.github.com/repos/docker-library/python -- 247\n",
      "119\n",
      "https://api.github.com/repos/python-git/python -- 485\n",
      "277\n",
      "https://api.github.com/repos/joe011/python -- 157\n",
      "176\n",
      "https://api.github.com/repos/TheAlgorithms/Python -- 329\n",
      "63\n",
      "https://api.github.com/repos/pubnub/python -- 61\n",
      "73\n",
      "https://api.github.com/repos/zhanghe06/python -- 87\n",
      "97\n",
      "https://api.github.com/repos/bigmlcom/python -- 222\n",
      "91\n",
      "https://api.github.com/repos/Tim9Liu9/python -- 142\n",
      "86\n",
      "https://api.github.com/repos/rippleblue/Python -- 78\n",
      "72\n",
      "https://api.github.com/repos/smilejay/python -- 30\n",
      "36\n",
      "https://api.github.com/repos/LightTable/Python -- 86\n",
      "59\n"
     ]
    }
   ],
   "source": [
    "for repo in g.search_repositories('python')[:15]:\n",
    "    print('{0} -- {1}'.format(repo.url, repo.stargazers_count))\n",
    "    \n",
    "    print(repo.network_count)"
   ]
  },
  {
   "cell_type": "code",
   "execution_count": 14,
   "metadata": {
    "collapsed": false
   },
   "outputs": [],
   "source": [
    "# access users github repos\n",
    "lst_repos = []\n",
    "for repo in g.get_user().get_repos():\n",
    "    lst_repos.append(repo)"
   ]
  },
  {
   "cell_type": "code",
   "execution_count": 65,
   "metadata": {
    "collapsed": false
   },
   "outputs": [
    {
     "name": "stdout",
     "output_type": "stream",
     "text": [
      "thisismetis/nyc16_ds8\n",
      "Metis\n",
      "thisismetis\n",
      "nyc16_ds8\n",
      "thisismetis/nyc16_ds8\n",
      "28\n",
      "None\n",
      "None\n",
      "0\n",
      "0\n",
      "6126166\n",
      "28\n"
     ]
    }
   ],
   "source": [
    "rep = lst_repos[-1]\n",
    "\n",
    "# username/repo name\n",
    "username, repo_name = rep.full_name.split('/')\n",
    "\n",
    "# owner/repo => base repo\n",
    "print(rep.full_name)\n",
    "\n",
    "# repo owner name\n",
    "print(rep.owner.name)\n",
    "\n",
    "print(username)\n",
    "print(repo_name)\n",
    "print(rep.full_name)\n",
    "print(rep.forks)\n",
    "print(rep.owner.collaborators)\n",
    "print(rep.owner.company)\n",
    "print(rep.owner.followers)\n",
    "print(rep.owner.following)\n",
    "print(rep.owner.id)\n",
    "print(rep.network_count) # number of contributors"
   ]
  },
  {
   "cell_type": "code",
   "execution_count": 55,
   "metadata": {
    "collapsed": false
   },
   "outputs": [],
   "source": []
  },
  {
   "cell_type": "code",
   "execution_count": null,
   "metadata": {
    "collapsed": true
   },
   "outputs": [],
   "source": []
  }
 ],
 "metadata": {
  "kernelspec": {
   "display_name": "Python 3",
   "language": "python",
   "name": "python3"
  },
  "language_info": {
   "codemirror_mode": {
    "name": "ipython",
    "version": 3
   },
   "file_extension": ".py",
   "mimetype": "text/x-python",
   "name": "python",
   "nbconvert_exporter": "python",
   "pygments_lexer": "ipython3",
   "version": "3.5.2"
  }
 },
 "nbformat": 4,
 "nbformat_minor": 1
}
