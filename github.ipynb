{
 "cells": [
  {
   "cell_type": "code",
   "execution_count": 1,
   "metadata": {
    "collapsed": false
   },
   "outputs": [],
   "source": [
    "import os\n",
    "from github import Github\n",
    "from pprint import pprint"
   ]
  },
  {
   "cell_type": "code",
   "execution_count": 2,
   "metadata": {
    "collapsed": false
   },
   "outputs": [],
   "source": [
    "# import github private token\n",
    "with open('token.txt', 'r') as infile:\n",
    "    token = infile.readline().strip()\n",
    "    user = infile.readline().strip()\n",
    "\n",
    "g = Github(user, token)"
   ]
  },
  {
   "cell_type": "code",
   "execution_count": 71,
   "metadata": {
    "collapsed": false
   },
   "outputs": [],
   "source": [
    "# access users github repos\n",
    "lst_repos = []\n",
    "for repo in g.get_user().get_repos():\n",
    "    lst_repos.append(repo)\n"
   ]
  },
  {
   "cell_type": "code",
   "execution_count": 91,
   "metadata": {
    "collapsed": false
   },
   "outputs": [],
   "source": [
    "filepath = '/Users/bryant/documents/notebooks/pair_07-08-16.ipynb'\n",
    "export_path = 'notebook.py'"
   ]
  },
  {
   "cell_type": "code",
   "execution_count": 101,
   "metadata": {
    "collapsed": false
   },
   "outputs": [
    {
     "name": "stdout",
     "output_type": "stream",
     "text": [
      "[NbConvertApp] WARNING | pattern 'filepath' matched no files\r\n",
      "This application is used to convert notebook files (*.ipynb) to various other\r\n",
      "formats.\r\n",
      "\r\n",
      "WARNING: THE COMMANDLINE INTERFACE MAY CHANGE IN FUTURE RELEASES.\r\n",
      "\r\n",
      "Options\r\n",
      "-------\r\n",
      "\r\n",
      "Arguments that take values are actually convenience aliases to full\r\n",
      "Configurables, whose aliases are listed on the help line. For more information\r\n",
      "on full configurables, see '--help-all'.\r\n",
      "\r\n",
      "--debug\r\n",
      "    set log level to logging.DEBUG (maximize logging output)\r\n",
      "--generate-config\r\n",
      "    generate default config file\r\n",
      "--stdin\r\n",
      "    read a single notebook file from stdin. Write the resulting notebook with default basename 'notebook.*'\r\n",
      "--execute\r\n",
      "    Execute the notebook prior to export.\r\n",
      "--inplace\r\n",
      "    Run nbconvert in place, overwriting the existing notebook (only \r\n",
      "    relevant when converting to notebook format)\r\n",
      "--stdout\r\n",
      "    Write notebook output to stdout instead of files.\r\n",
      "--allow-errors\r\n",
      "    Continue notebook execution even if one of the cells throws an error and include the error message in the cell output (the default behaviour is to abort conversion). This flag is only relevant if '--execute' was specified, too.\r\n",
      "-y\r\n",
      "    Answer yes to any questions instead of prompting.\r\n",
      "--reveal-prefix=<Unicode> (SlidesExporter.reveal_url_prefix)\r\n",
      "    Default: ''\r\n",
      "    The URL prefix for reveal.js. This can be a a relative URL for a local copy\r\n",
      "    of reveal.js, or point to a CDN.\r\n",
      "    For speaker notes to work, a local reveal.js prefix must be used.\r\n",
      "--to=<Unicode> (NbConvertApp.export_format)\r\n",
      "    Default: 'html'\r\n",
      "    The export format to be used, either one of the built-in formats, or a\r\n",
      "    dotted object name that represents the import path for an `Exporter` class\r\n",
      "--config=<Unicode> (JupyterApp.config_file)\r\n",
      "    Default: ''\r\n",
      "    Full path of a config file.\r\n",
      "--output=<Unicode> (NbConvertApp.output_base)\r\n",
      "    Default: ''\r\n",
      "    overwrite base name use for output files. can only be used when converting\r\n",
      "    one notebook at a time.\r\n",
      "--template=<Unicode> (TemplateExporter.template_file)\r\n",
      "    Default: ''\r\n",
      "    Name of the template file to use\r\n",
      "--output-dir=<Unicode> (FilesWriter.build_directory)\r\n",
      "    Default: ''\r\n",
      "    Directory to write output to.  Leave blank to output to the current\r\n",
      "    directory\r\n",
      "--post=<DottedOrNone> (NbConvertApp.postprocessor_class)\r\n",
      "    Default: ''\r\n",
      "    PostProcessor class used to write the results of the conversion\r\n",
      "--writer=<DottedObjectName> (NbConvertApp.writer_class)\r\n",
      "    Default: 'FilesWriter'\r\n",
      "    Writer class used to write the  results of the conversion\r\n",
      "--log-level=<Enum> (Application.log_level)\r\n",
      "    Default: 30\r\n",
      "    Choices: (0, 10, 20, 30, 40, 50, 'DEBUG', 'INFO', 'WARN', 'ERROR', 'CRITICAL')\r\n",
      "    Set the log level by value or name.\r\n",
      "--nbformat=<Enum> (NotebookExporter.nbformat_version)\r\n",
      "    Default: 4\r\n",
      "    Choices: [1, 2, 3, 4]\r\n",
      "    The nbformat version to write. Use this to downgrade notebooks.\r\n",
      "\r\n",
      "To see all available configurables, use `--help-all`\r\n",
      "\r\n",
      "Examples\r\n",
      "--------\r\n",
      "\r\n",
      "    The simplest way to use nbconvert is\r\n",
      "    \r\n",
      "    > jupyter nbconvert mynotebook.ipynb\r\n",
      "    \r\n",
      "    which will convert mynotebook.ipynb to the default format (probably HTML).\r\n",
      "    \r\n",
      "    You can specify the export format with `--to`.\r\n",
      "    Options include ['custom', 'html', 'latex', 'markdown', 'notebook', 'pdf', 'python', 'rst', 'script', 'slides']\r\n",
      "    \r\n",
      "    > jupyter nbconvert --to latex mynotebook.ipynb\r\n",
      "    \r\n",
      "    Both HTML and LaTeX support multiple output templates. LaTeX includes\r\n",
      "    'base', 'article' and 'report'.  HTML includes 'basic' and 'full'. You\r\n",
      "    can specify the flavor of the format used.\r\n",
      "    \r\n",
      "    > jupyter nbconvert --to html --template basic mynotebook.ipynb\r\n",
      "    \r\n",
      "    You can also pipe the output to stdout, rather than a file\r\n",
      "    \r\n",
      "    > jupyter nbconvert mynotebook.ipynb --stdout\r\n",
      "    \r\n",
      "    PDF is generated via latex\r\n",
      "    \r\n",
      "    > jupyter nbconvert mynotebook.ipynb --to pdf\r\n",
      "    \r\n",
      "    You can get (and serve) a Reveal.js-powered slideshow\r\n",
      "    \r\n",
      "    > jupyter nbconvert myslides.ipynb --to slides --post serve\r\n",
      "    \r\n",
      "    Multiple notebooks can be given at the command line in a couple of \r\n",
      "    different ways:\r\n",
      "    \r\n",
      "    > jupyter nbconvert notebook*.ipynb\r\n",
      "    > jupyter nbconvert notebook1.ipynb notebook2.ipynb\r\n",
      "    \r\n",
      "    or you can specify the notebooks list in a config file, containing::\r\n",
      "    \r\n",
      "        c.NbConvertApp.notebooks = [\"my_notebook.ipynb\"]\r\n",
      "    \r\n",
      "    > jupyter nbconvert --config mycfg.py\r\n",
      "\r\n"
     ]
    }
   ],
   "source": [
    "#!ipython nbconvert --to=python filepath\n",
    "!jupyter nbconvert filepath"
   ]
  },
  {
   "cell_type": "code",
   "execution_count": 81,
   "metadata": {
    "collapsed": false
   },
   "outputs": [
    {
     "name": "stdout",
     "output_type": "stream",
     "text": [
      "thisismetis/nyc16_ds8\n",
      "Metis\n",
      "thisismetis\n",
      "nyc16_ds8\n",
      "thisismetis/nyc16_ds8\n",
      "NYC - Summer 2016 (Jun - Sep) - ds8\n",
      "28\n",
      "<bound method Repository.get_git_tree of <github.Repository.Repository object at 0x1054cdd30>>\n"
     ]
    }
   ],
   "source": [
    "rep = lst_repos[-1]\n",
    "username, dir_name = rep.full_name.split('/')\n",
    "print(rep.full_name)\n",
    "print(rep.owner.name)\n",
    "print(username)\n",
    "print(dir_name)\n",
    "print(rep.full_name)\n",
    "print(rep.description)\n",
    "print(rep.forks)\n",
    "print(rep.get_git_tree)"
   ]
  },
  {
   "cell_type": "code",
   "execution_count": 26,
   "metadata": {
    "collapsed": false
   },
   "outputs": [
    {
     "name": "stdout",
     "output_type": "stream",
     "text": [
      "https://api.github.com/repos/geekcomputers/Python\n",
      "https://api.github.com/repos/xxg1413/python\n",
      "https://api.github.com/repos/poise/python\n",
      "https://api.github.com/repos/python-git/python\n",
      "https://api.github.com/repos/joe011/python\n",
      "https://api.github.com/repos/TheAlgorithms/Python\n",
      "https://api.github.com/repos/pubnub/python\n",
      "https://api.github.com/repos/zhanghe06/python\n",
      "https://api.github.com/repos/bigmlcom/python\n"
     ]
    },
    {
     "ename": "AttributeError",
     "evalue": "'NoneType' object has no attribute 'lower'",
     "output_type": "error",
     "traceback": [
      "\u001b[0;31m---------------------------------------------------------------------------\u001b[0m",
      "\u001b[0;31mAttributeError\u001b[0m                            Traceback (most recent call last)",
      "\u001b[0;32m<ipython-input-26-9efc1e4df896>\u001b[0m in \u001b[0;36m<module>\u001b[0;34m()\u001b[0m\n\u001b[1;32m      1\u001b[0m \u001b[0;32mfor\u001b[0m \u001b[0mrepo\u001b[0m \u001b[0;32min\u001b[0m \u001b[0mg\u001b[0m\u001b[0;34m.\u001b[0m\u001b[0msearch_repositories\u001b[0m\u001b[0;34m(\u001b[0m\u001b[0;34m'python'\u001b[0m\u001b[0;34m)\u001b[0m\u001b[0;34m:\u001b[0m\u001b[0;34m\u001b[0m\u001b[0m\n\u001b[1;32m      2\u001b[0m     \u001b[0;31m# ensure language is python\u001b[0m\u001b[0;34m\u001b[0m\u001b[0;34m\u001b[0m\u001b[0m\n\u001b[0;32m----> 3\u001b[0;31m     \u001b[0;32mif\u001b[0m \u001b[0mrepo\u001b[0m\u001b[0;34m.\u001b[0m\u001b[0mlanguage\u001b[0m\u001b[0;34m.\u001b[0m\u001b[0mlower\u001b[0m\u001b[0;34m(\u001b[0m\u001b[0;34m)\u001b[0m \u001b[0;34m==\u001b[0m \u001b[0;34m'python'\u001b[0m\u001b[0;34m:\u001b[0m\u001b[0;34m\u001b[0m\u001b[0m\n\u001b[0m\u001b[1;32m      4\u001b[0m         \u001b[0mprint\u001b[0m\u001b[0;34m(\u001b[0m\u001b[0mrepo\u001b[0m\u001b[0;34m.\u001b[0m\u001b[0murl\u001b[0m\u001b[0;34m)\u001b[0m\u001b[0;34m\u001b[0m\u001b[0m\n\u001b[1;32m      5\u001b[0m         \u001b[0;31m#pprint(repo.raw_data)\u001b[0m\u001b[0;34m\u001b[0m\u001b[0;34m\u001b[0m\u001b[0m\n",
      "\u001b[0;31mAttributeError\u001b[0m: 'NoneType' object has no attribute 'lower'"
     ]
    }
   ],
   "source": [
    "for repo in g.search_repositories('python'):\n",
    "    # check that this is the base repo and not a forked copy\n",
    "    # ensure language is python\n",
    "    if repo.language.lower() == 'python':\n",
    "        print(repo.url)\n",
    "        #pprint(repo.raw_data)\n",
    "        contents = repo.get_dir_contents(\".\")\n",
    "        \n",
    "        for content in contents:\n",
    "            if content.path[-2:] == 'py':\n",
    "                pass\n",
    "                #print('Processing - {0}'.format(content.path))\n",
    "            # write decoded python file to local\n",
    "                #with open(content.name, 'wb') as rf:\n",
    "                #    rf.write(content.decoded_content)"
   ]
  },
  {
   "cell_type": "code",
   "execution_count": 59,
   "metadata": {
    "collapsed": false
   },
   "outputs": [],
   "source": [
    "def directory_download(directory, location):\n",
    "'''\n",
    "Download ALL python files inside repo\n",
    "'''\n",
    "    try:\n",
    "        # grab all contents in the directory\n",
    "        dir_contents = directory.get_dir_contents('.')\n",
    "\n",
    "        # only download python (*.py) files\n",
    "        for content in dir_contents:\n",
    "            \n",
    "            # if it is a directory then recursively navigate lower into the folder structure\n",
    "            if content.type == 'dir':\n",
    "                directory_download(content, location)\n",
    "            else:\n",
    "                if content.path[-2:] == 'py':\n",
    "                    print('Processing - {0}'.format(content.name))\n",
    "                    #print('Save location: {0}'.format(location))\n",
    "                    with open('{0}/{1}'.format(location, content.name), 'wb') as rf:\n",
    "                        rf.write(content.decoded_content)\n",
    "    except:\n",
    "        pass"
   ]
  },
  {
   "cell_type": "code",
   "execution_count": 62,
   "metadata": {
    "collapsed": false
   },
   "outputs": [
    {
     "name": "stdout",
     "output_type": "stream",
     "text": [
      "Name: Craig \t Username: geekcomputers \t Repo: Python\n",
      "Processing - CountMillionCharacter.py\n",
      "Processing - backup_automater_services.py\n",
      "Processing - batch_file_rename.py\n",
      "Processing - check_file.py\n",
      "Processing - check_for_sqlite_files.py\n",
      "Processing - check_internet_con.py\n",
      "Processing - create_dir_if_not_there.py\n",
      "Processing - daily_checks.py\n",
      "Processing - dir_test.py\n",
      "Processing - env_check.py\n",
      "Processing - fileinfo.py\n",
      "Processing - folder_size.py\n",
      "Processing - get_info_remoute_srv.py\n",
      "Processing - get_youtube_view.py\n",
      "Processing - logs.py\n",
      "Processing - merge.py\n",
      "Processing - move_files_over_x_days.py\n",
      "Processing - new_script.py\n",
      "Processing - nmap_scan.py\n",
      "Processing - nslookup_check.py\n",
      "Processing - osinfo.py\n",
      "Processing - password_cracker.py\n",
      "Processing - ping_servers.py\n",
      "Processing - ping_subnet.py\n",
      "Processing - portscanner.py\n",
      "Processing - powerdown_startup.py\n",
      "Processing - powerup_checks.py\n",
      "Processing - pscheck.py\n",
      "Processing - puttylogs.py\n",
      "Processing - recyclebin.py\n",
      "Processing - script_count.py\n",
      "Processing - script_listing.py\n",
      "Processing - serial_scanner.py\n",
      "Processing - sqlite_check.py\n",
      "Processing - sqlite_table_check.py\n",
      "Processing - testlines.py\n",
      "Processing - webcam.py\n",
      "Processing - work_connect.py\n",
      "Name: Jimmy Xiang \t Username: xxg1413 \t Repo: python\n"
     ]
    }
   ],
   "source": [
    "for repo in g.search_repositories('python')[:2]:\n",
    "    # create folder to store repos python files\n",
    "    if not os.path.exists('files'):\n",
    "        os.makedirs('files')\n",
    "        \n",
    "    # ensure language is python\n",
    "    try:\n",
    "        # ensure its a python tagged dirctory\n",
    "        if repo.language.lower() == 'python':\n",
    "            username, dir_name = repo.full_name.split('/')\n",
    "            print('Name: {0} \\t Username: {1} \\t Repo: {2}'.format(repo.owner.name, username, dir_name))\n",
    "            \n",
    "            # make directory named after the repo name\n",
    "            folder = 'files/{0}__{1}'.format(username, dir_name)\n",
    "            \n",
    "            # create folder to store repos python files\n",
    "            if not os.path.exists(folder):\n",
    "                os.makedirs(folder)\n",
    "            \n",
    "            # download repo\n",
    "            directory_download(repo, folder)\n",
    "            \n",
    "            # delete empty directories (did not have python files)\n",
    "            if not os.listdir(folder):\n",
    "                os.rmdir(folder)\n",
    "    except:\n",
    "        pass"
   ]
  },
  {
   "cell_type": "code",
   "execution_count": 64,
   "metadata": {
    "collapsed": false
   },
   "outputs": [
    {
     "name": "stdout",
     "output_type": "stream",
     "text": [
      "https://api.github.com/repos/geekcomputers/Python -- 1155\n",
      "1081\n",
      "https://api.github.com/repos/xxg1413/python -- 545\n",
      "536\n",
      "https://api.github.com/repos/poise/python -- 448\n",
      "686\n",
      "https://api.github.com/repos/Show-Me-the-Code/python -- 645\n",
      "940\n",
      "https://api.github.com/repos/docker-library/python -- 247\n",
      "119\n",
      "https://api.github.com/repos/joe011/python -- 157\n",
      "176\n",
      "https://api.github.com/repos/python-git/python -- 485\n",
      "278\n",
      "https://api.github.com/repos/TheAlgorithms/Python -- 328\n",
      "62\n",
      "https://api.github.com/repos/pubnub/python -- 61\n",
      "73\n",
      "https://api.github.com/repos/zhanghe06/python -- 87\n",
      "97\n",
      "https://api.github.com/repos/rippleblue/Python -- 78\n",
      "72\n",
      "https://api.github.com/repos/bigmlcom/python -- 222\n",
      "91\n",
      "https://api.github.com/repos/Tim9Liu9/python -- 142\n",
      "86\n",
      "https://api.github.com/repos/LightTable/Python -- 86\n",
      "59\n",
      "https://api.github.com/repos/smilejay/python -- 30\n",
      "36\n"
     ]
    }
   ],
   "source": [
    "for repo in g.search_repositories('python')[:15]:\n",
    "    print('{0} -- {1}'.format(repo.url, repo.stargazers_count))\n",
    "    \n",
    "    print(repo.network_count)"
   ]
  },
  {
   "cell_type": "markdown",
   "metadata": {
    "collapsed": true
   },
   "source": [
    "# What data do I want from the repo\n",
    "* Python files\n",
    "* Owners name\n",
    "* Owners username\n",
    "* Number of stars\n",
    "* Number of watchers\n",
    "* Number of forks\n",
    "* "
   ]
  }
 ],
 "metadata": {
  "kernelspec": {
   "display_name": "Python 3",
   "language": "python",
   "name": "python3"
  },
  "language_info": {
   "codemirror_mode": {
    "name": "ipython",
    "version": 3
   },
   "file_extension": ".py",
   "mimetype": "text/x-python",
   "name": "python",
   "nbconvert_exporter": "python",
   "pygments_lexer": "ipython3",
   "version": "3.5.2"
  }
 },
 "nbformat": 4,
 "nbformat_minor": 1
}
