{
 "cells": [
  {
   "cell_type": "code",
   "execution_count": 1,
   "metadata": {
    "collapsed": false
   },
   "outputs": [],
   "source": [
    "import os\n",
    "from github import Github\n",
    "from pprint import pprint"
   ]
  },
  {
   "cell_type": "code",
   "execution_count": 2,
   "metadata": {
    "collapsed": false
   },
   "outputs": [],
   "source": [
    "# import github private token\n",
    "with open('token.txt', 'r') as infile:\n",
    "    token = infile.readline().strip()\n",
    "    user = infile.readline().strip()\n",
    "\n",
    "g = Github(user, token)"
   ]
  },
  {
   "cell_type": "code",
   "execution_count": 10,
   "metadata": {
    "collapsed": false
   },
   "outputs": [
    {
     "name": "stdout",
     "output_type": "stream",
     "text": [
      "bryantbiggs/benson-01\n",
      "bryantbiggs/dsp\n",
      "bryantbiggs/fletcher-04\n",
      "bryantbiggs/kojak-05\n",
      "bryantbiggs/luther-02\n",
      "bryantbiggs/mcnulty-03\n",
      "bryantbiggs/nyc16_ds8\n",
      "kpully/01_benson\n",
      "thisismetis/dsp_solutions\n",
      "thisismetis/nyc16_ds8\n"
     ]
    }
   ],
   "source": [
    "# access users github repos\n",
    "for repo in g.get_user().get_repos():\n",
    "    print(repo.full_name)"
   ]
  },
  {
   "cell_type": "code",
   "execution_count": 26,
   "metadata": {
    "collapsed": false
   },
   "outputs": [
    {
     "name": "stdout",
     "output_type": "stream",
     "text": [
      "https://api.github.com/repos/geekcomputers/Python\n",
      "https://api.github.com/repos/xxg1413/python\n",
      "https://api.github.com/repos/poise/python\n",
      "https://api.github.com/repos/python-git/python\n",
      "https://api.github.com/repos/joe011/python\n",
      "https://api.github.com/repos/TheAlgorithms/Python\n",
      "https://api.github.com/repos/pubnub/python\n",
      "https://api.github.com/repos/zhanghe06/python\n",
      "https://api.github.com/repos/bigmlcom/python\n"
     ]
    },
    {
     "ename": "AttributeError",
     "evalue": "'NoneType' object has no attribute 'lower'",
     "output_type": "error",
     "traceback": [
      "\u001b[0;31m---------------------------------------------------------------------------\u001b[0m",
      "\u001b[0;31mAttributeError\u001b[0m                            Traceback (most recent call last)",
      "\u001b[0;32m<ipython-input-26-9efc1e4df896>\u001b[0m in \u001b[0;36m<module>\u001b[0;34m()\u001b[0m\n\u001b[1;32m      1\u001b[0m \u001b[0;32mfor\u001b[0m \u001b[0mrepo\u001b[0m \u001b[0;32min\u001b[0m \u001b[0mg\u001b[0m\u001b[0;34m.\u001b[0m\u001b[0msearch_repositories\u001b[0m\u001b[0;34m(\u001b[0m\u001b[0;34m'python'\u001b[0m\u001b[0;34m)\u001b[0m\u001b[0;34m:\u001b[0m\u001b[0;34m\u001b[0m\u001b[0m\n\u001b[1;32m      2\u001b[0m     \u001b[0;31m# ensure language is python\u001b[0m\u001b[0;34m\u001b[0m\u001b[0;34m\u001b[0m\u001b[0m\n\u001b[0;32m----> 3\u001b[0;31m     \u001b[0;32mif\u001b[0m \u001b[0mrepo\u001b[0m\u001b[0;34m.\u001b[0m\u001b[0mlanguage\u001b[0m\u001b[0;34m.\u001b[0m\u001b[0mlower\u001b[0m\u001b[0;34m(\u001b[0m\u001b[0;34m)\u001b[0m \u001b[0;34m==\u001b[0m \u001b[0;34m'python'\u001b[0m\u001b[0;34m:\u001b[0m\u001b[0;34m\u001b[0m\u001b[0m\n\u001b[0m\u001b[1;32m      4\u001b[0m         \u001b[0mprint\u001b[0m\u001b[0;34m(\u001b[0m\u001b[0mrepo\u001b[0m\u001b[0;34m.\u001b[0m\u001b[0murl\u001b[0m\u001b[0;34m)\u001b[0m\u001b[0;34m\u001b[0m\u001b[0m\n\u001b[1;32m      5\u001b[0m         \u001b[0;31m#pprint(repo.raw_data)\u001b[0m\u001b[0;34m\u001b[0m\u001b[0;34m\u001b[0m\u001b[0m\n",
      "\u001b[0;31mAttributeError\u001b[0m: 'NoneType' object has no attribute 'lower'"
     ]
    }
   ],
   "source": [
    "for repo in g.search_repositories('python'):\n",
    "    # ensure language is python\n",
    "    if repo.language.lower() == 'python':\n",
    "        print(repo.url)\n",
    "        #pprint(repo.raw_data)\n",
    "        contents = repo.get_dir_contents(\".\")\n",
    "        \n",
    "        for content in contents:\n",
    "            if content.path[-2:] == 'py':\n",
    "                pass\n",
    "                #print('Processing - {0}'.format(content.path))\n",
    "            # write decoded python file to local\n",
    "                #with open(content.name, 'wb') as rf:\n",
    "                #    rf.write(content.decoded_content)"
   ]
  },
  {
   "cell_type": "code",
   "execution_count": 59,
   "metadata": {
    "collapsed": false
   },
   "outputs": [],
   "source": [
    "def directory_download(directory, location):\n",
    "'''\n",
    "Download ALL python files inside repo\n",
    "'''\n",
    "    try:\n",
    "        # grab all contents in the directory\n",
    "        dir_contents = directory.get_dir_contents('.')\n",
    "\n",
    "        # only download python (*.py) files\n",
    "        for content in dir_contents:\n",
    "            \n",
    "            # if it is a directory then recursively navigate lower into the folder structure\n",
    "            if content.type == 'dir':\n",
    "                directory_download(content, location)\n",
    "            else:\n",
    "                if content.path[-2:] == 'py':\n",
    "                    print('Processing - {0}'.format(content.name))\n",
    "                    #print('Save location: {0}'.format(location))\n",
    "                    with open('{0}/{1}'.format(location, content.name), 'wb') as rf:\n",
    "                        rf.write(content.decoded_content)\n",
    "    except:\n",
    "        pass"
   ]
  },
  {
   "cell_type": "code",
   "execution_count": 61,
   "metadata": {
    "collapsed": false
   },
   "outputs": [
    {
     "name": "stdout",
     "output_type": "stream",
     "text": [
      "Name: Craig \t Username: geekcomputers \t Repo: Python\n",
      "Processing - CountMillionCharacter.py\n",
      "Processing - backup_automater_services.py\n",
      "Processing - batch_file_rename.py\n",
      "Processing - check_file.py\n",
      "Processing - check_for_sqlite_files.py\n",
      "Processing - check_internet_con.py\n",
      "Processing - create_dir_if_not_there.py\n",
      "Processing - daily_checks.py\n",
      "Processing - dir_test.py\n",
      "Processing - env_check.py\n",
      "Processing - fileinfo.py\n",
      "Processing - folder_size.py\n",
      "Processing - get_info_remoute_srv.py\n",
      "Processing - get_youtube_view.py\n",
      "Processing - logs.py\n",
      "Processing - merge.py\n",
      "Processing - move_files_over_x_days.py\n",
      "Processing - new_script.py\n",
      "Processing - nmap_scan.py\n",
      "Processing - nslookup_check.py\n",
      "Processing - osinfo.py\n",
      "Processing - password_cracker.py\n",
      "Processing - ping_servers.py\n",
      "Processing - ping_subnet.py\n",
      "Processing - portscanner.py\n",
      "Processing - powerdown_startup.py\n",
      "Processing - powerup_checks.py\n",
      "Processing - pscheck.py\n",
      "Processing - puttylogs.py\n",
      "Processing - recyclebin.py\n",
      "Processing - script_count.py\n",
      "Processing - script_listing.py\n",
      "Processing - serial_scanner.py\n",
      "Processing - sqlite_check.py\n",
      "Processing - sqlite_table_check.py\n",
      "Processing - testlines.py\n",
      "Processing - webcam.py\n",
      "Processing - work_connect.py\n",
      "Name: Jimmy Xiang \t Username: xxg1413 \t Repo: python\n"
     ]
    }
   ],
   "source": [
    "for repo in g.search_repositories('python')[:2]:\n",
    "\n",
    "    # ensure language is python\n",
    "    try:\n",
    "        # ensure its a python tagged dirctory\n",
    "        if repo.language.lower() == 'python':\n",
    "            username, dir_name = repo.full_name.split('/')\n",
    "            print('Name: {0} \\t Username: {1} \\t Repo: {2}'.format(repo.owner.name, username, dir_name))\n",
    "            \n",
    "            # make directory named after the repo name\n",
    "            folder = '{0}__{1}'.format(username, dir_name)\n",
    "            \n",
    "            # create folder to store\n",
    "            if not os.path.exists(folder):\n",
    "                os.makedirs(folder)\n",
    "            \n",
    "            # download repo\n",
    "            directory_download(repo, folder)\n",
    "            \n",
    "            # delete empty directories (did not have python files)\n",
    "            if not os.listdir(folder):\n",
    "                os.rmdir(folder)\n",
    "    except:\n",
    "        pass"
   ]
  },
  {
   "cell_type": "code",
   "execution_count": 23,
   "metadata": {
    "collapsed": false
   },
   "outputs": [
    {
     "ename": "IndentationError",
     "evalue": "expected an indented block (<ipython-input-23-25a0d7501237>, line 10)",
     "output_type": "error",
     "traceback": [
      "\u001b[0;36m  File \u001b[0;32m\"<ipython-input-23-25a0d7501237>\"\u001b[0;36m, line \u001b[0;32m10\u001b[0m\n\u001b[0;31m    except:\u001b[0m\n\u001b[0m    ^\u001b[0m\n\u001b[0;31mIndentationError\u001b[0m\u001b[0;31m:\u001b[0m expected an indented block\n"
     ]
    }
   ],
   "source": [
    "for repo in g.search_repositories('python')[:5]:\n",
    "    # ensure language is python\n",
    "    try:\n",
    "        if repo.language.lower() == 'python':\n",
    "            repo_name = repo.name\n",
    "            contents = repo.get_dir_contents('.')\n",
    "            \n",
    "            for content in contents:\n",
    "                #print(content.type)\n",
    "    except:\n",
    "        pass"
   ]
  },
  {
   "cell_type": "code",
   "execution_count": null,
   "metadata": {
    "collapsed": true
   },
   "outputs": [],
   "source": []
  }
 ],
 "metadata": {
  "kernelspec": {
   "display_name": "Python 3",
   "language": "python",
   "name": "python3"
  },
  "language_info": {
   "codemirror_mode": {
    "name": "ipython",
    "version": 3
   },
   "file_extension": ".py",
   "mimetype": "text/x-python",
   "name": "python",
   "nbconvert_exporter": "python",
   "pygments_lexer": "ipython3",
   "version": "3.5.2"
  }
 },
 "nbformat": 4,
 "nbformat_minor": 1
}
