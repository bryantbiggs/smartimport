{
 "cells": [
  {
   "cell_type": "code",
   "execution_count": 5,
   "metadata": {
    "collapsed": true
   },
   "outputs": [],
   "source": [
    "import requests\n",
    "import pandas as pd\n",
    "from bs4 import BeautifulSoup"
   ]
  },
  {
   "cell_type": "code",
   "execution_count": 8,
   "metadata": {
    "collapsed": false
   },
   "outputs": [],
   "source": [
    "# Scrape the HTML at the url\n",
    "r = requests.get('https://pypi.python.org/pypi/?')\n",
    "\n",
    "# Turn the HTML into a Beautiful Soup object\n",
    "soup = BeautifulSoup(r.text, 'html.parser')"
   ]
  },
  {
   "cell_type": "code",
   "execution_count": 11,
   "metadata": {
    "collapsed": false
   },
   "outputs": [
    {
     "name": "stdout",
     "output_type": "stream",
     "text": [
      "None\n"
     ]
    }
   ],
   "source": [
    "# Create four variables to score the scraped data in\n",
    "package = []\n",
    "revision = []\n",
    "discription = []\n",
    "\n",
    "\n",
    "# Create an object of the first object that is class=dataframe\n",
    "table = soup.find(_class='list')\n",
    "print(table)\n",
    "# Find all the <tr> tag pairs, skip the first one, then for each.\n",
    "# for row in table.find_all('tr'):\n",
    "#     # Create a variable of all the <td> tag pairs in each <tr> tag pair,\n",
    "#     col = row.find_all('td')\n",
    "#     print(col)\n",
    "#     break"
   ]
  },
  {
   "cell_type": "code",
   "execution_count": 3,
   "metadata": {
    "collapsed": false
   },
   "outputs": [
    {
     "ename": "NameError",
     "evalue": "name 'soup' is not defined",
     "output_type": "error",
     "traceback": [
      "\u001b[0;31m---------------------------------------------------------------------------\u001b[0m",
      "\u001b[0;31mNameError\u001b[0m                                 Traceback (most recent call last)",
      "\u001b[0;32m<ipython-input-3-25e92b7ad80d>\u001b[0m in \u001b[0;36m<module>\u001b[0;34m()\u001b[0m\n\u001b[1;32m      6\u001b[0m \u001b[0;34m\u001b[0m\u001b[0m\n\u001b[1;32m      7\u001b[0m \u001b[0;31m# Create an object of the first object that is class=dataframe\u001b[0m\u001b[0;34m\u001b[0m\u001b[0;34m\u001b[0m\u001b[0m\n\u001b[0;32m----> 8\u001b[0;31m \u001b[0mtable\u001b[0m \u001b[0;34m=\u001b[0m \u001b[0msoup\u001b[0m\u001b[0;34m.\u001b[0m\u001b[0mfind\u001b[0m\u001b[0;34m(\u001b[0m\u001b[0mclass_\u001b[0m\u001b[0;34m=\u001b[0m\u001b[0;34m'dataframe'\u001b[0m\u001b[0;34m)\u001b[0m\u001b[0;34m\u001b[0m\u001b[0m\n\u001b[0m\u001b[1;32m      9\u001b[0m \u001b[0;34m\u001b[0m\u001b[0m\n\u001b[1;32m     10\u001b[0m \u001b[0;31m# Find all the <tr> tag pairs, skip the first one, then for each.\u001b[0m\u001b[0;34m\u001b[0m\u001b[0;34m\u001b[0m\u001b[0m\n",
      "\u001b[0;31mNameError\u001b[0m: name 'soup' is not defined"
     ]
    }
   ],
   "source": [
    "# Create four variables to score the scraped data in\n",
    "package = []\n",
    "revision = []\n",
    "discription = []\n",
    "\n",
    "\n",
    "# Create an object of the first object that is class=dataframe\n",
    "table = soup.find(class_='dataframe')\n",
    "\n",
    "# Find all the <tr> tag pairs, skip the first one, then for each.\n",
    "for row in table.find_all('tr'):\n",
    "    # Create a variable of all the <td> tag pairs in each <tr> tag pair,\n",
    "    col = row.find_all('td')\n",
    "\n",
    "    # Create a variable of the string inside 1st <td> tag pair,\n",
    "    column_1 = col[0].string.strip()\n",
    "    # and append it to first_name variable\n",
    "    first_name.append(column_1)\n",
    "\n",
    "    # Create a variable of the string inside 2nd <td> tag pair,\n",
    "    column_2 = col[1].string.strip()\n",
    "    # and append it to last_name variable\n",
    "    last_name.append(column_2)\n",
    "\n",
    "    # Create a variable of the string inside 3rd <td> tag pair,\n",
    "    column_3 = col[2].string.strip()\n",
    "    # and append it to age variable\n",
    "    age.append(column_3)\n",
    "\n",
    "    # Create a variable of the string inside 4th <td> tag pair,\n",
    "    column_4 = col[3].string.strip()\n",
    "    # and append it to preTestScore variable\n",
    "    preTestScore.append(column_4)\n",
    "\n",
    "    # Create a variable of the string inside 5th <td> tag pair,\n",
    "    column_5 = col[4].string.strip()\n",
    "    # and append it to postTestScore variable\n",
    "    postTestScore.append(column_5)\n",
    "\n",
    "# Create a variable of the value of the columns\n",
    "columns = {'first_name': first_name, 'last_name': last_name, 'age': age, 'preTestScore': preTestScore, 'postTestScore': postTestScore}\n",
    "\n",
    "# Create a dataframe from the columns variable\n",
    "df = pd.DataFrame(columns)"
   ]
  },
  {
   "cell_type": "code",
   "execution_count": null,
   "metadata": {
    "collapsed": true
   },
   "outputs": [],
   "source": []
  }
 ],
 "metadata": {
  "kernelspec": {
   "display_name": "Python 3",
   "language": "python",
   "name": "python3"
  },
  "language_info": {
   "codemirror_mode": {
    "name": "ipython",
    "version": 3
   },
   "file_extension": ".py",
   "mimetype": "text/x-python",
   "name": "python",
   "nbconvert_exporter": "python",
   "pygments_lexer": "ipython3",
   "version": "3.5.2"
  }
 },
 "nbformat": 4,
 "nbformat_minor": 1
}
