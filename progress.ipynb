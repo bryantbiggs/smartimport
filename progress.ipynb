{
 "cells": [
  {
   "cell_type": "code",
   "execution_count": 1,
   "metadata": {
    "collapsed": true
   },
   "outputs": [],
   "source": [
    "import os\n",
    "import sys\n",
    "import re\n",
    "import time\n",
    "from github import Github\n",
    "from random import randint\n",
    "from pprint import pprint"
   ]
  },
  {
   "cell_type": "code",
   "execution_count": 2,
   "metadata": {
    "collapsed": true
   },
   "outputs": [],
   "source": [
    "from pymongo import MongoClient\n",
    "pw_file = 'credentials/mongo_pw.txt'\n",
    "if os.path.exists(pw_file): \n",
    "    with open(pw_file, 'r') as f:\n",
    "        pub_ip, mongo_usr, mongo_usr_pw = f.readline().strip().split(', ')"
   ]
  },
  {
   "cell_type": "code",
   "execution_count": 3,
   "metadata": {
    "collapsed": false
   },
   "outputs": [
    {
     "data": {
      "text/plain": [
       "True"
      ]
     },
     "execution_count": 3,
     "metadata": {},
     "output_type": "execute_result"
    }
   ],
   "source": [
    "# connect to ec2 mongo client\n",
    "client = MongoClient('{0}:27017'.format(pub_ip))\n",
    "\n",
    "# get reference to  resume_db\n",
    "db = client['github_db']\n",
    "\n",
    "# authenticate user for database\n",
    "db.authenticate(mongo_usr, mongo_usr_pw)"
   ]
  },
  {
   "cell_type": "code",
   "execution_count": 13,
   "metadata": {
    "collapsed": false
   },
   "outputs": [
    {
     "name": "stdout",
     "output_type": "stream",
     "text": [
      "Documents in \"git_repos_contributors\" collection: 1003\n",
      "Documents in \"git_repos_docs\" collection: 53679\n",
      "Documents in \"git_repos_meta\" collection: 1001\n",
      "Documents in \"git_repos_subscribers\" collection: 1003\n",
      "Documents in \"git_users_followers\" collection: 232\n",
      "Documents in \"git_users_following\" collection: 232\n",
      "Documents in \"git_users_meta\" collection: 232\n"
     ]
    }
   ],
   "source": [
    "for name in sorted(db.collection_names()):\n",
    "    #db.drop_collection(name)\n",
    "    print('Documents in \\\"{0}\\\" collection: {1}'.format(name, db[name].count()))"
   ]
  },
  {
   "cell_type": "code",
   "execution_count": 12,
   "metadata": {
    "collapsed": false
   },
   "outputs": [
    {
     "name": "stdout",
     "output_type": "stream",
     "text": [
      "Documents in \"git_repos_contributors\" collection: 895\n",
      "Documents in \"git_repos_docs\" collection: 50060\n",
      "Documents in \"git_repos_meta\" collection: 893\n",
      "Documents in \"git_repos_subscribers\" collection: 895\n",
      "Documents in \"git_users_followers\" collection: 208\n",
      "Documents in \"git_users_following\" collection: 208\n",
      "Documents in \"git_users_meta\" collection: 208\n"
     ]
    }
   ],
   "source": [
    "for name in sorted(db.collection_names()):\n",
    "    #db.drop_collection(name)\n",
    "    print('Documents in \\\"{0}\\\" collection: {1}'.format(name, db[name].count()))"
   ]
  },
  {
   "cell_type": "code",
   "execution_count": 6,
   "metadata": {
    "collapsed": true
   },
   "outputs": [],
   "source": [
    "# import github private token\n",
    "with open('credentials/token.txt', 'r') as infile:\n",
    "    token = infile.readline().strip()\n",
    "    user = infile.readline().strip()\n",
    "\n",
    "git_client = Github(token)"
   ]
  },
  {
   "cell_type": "code",
   "execution_count": 7,
   "metadata": {
    "collapsed": true
   },
   "outputs": [],
   "source": [
    "def get_remaining(_type ='core'):\n",
    "    '''\n",
    "    _type = 'core' or 'search'\n",
    "    Return: tuple of remaining rate limit quantity, and time till reset\n",
    "    '''\n",
    "    \n",
    "    rate_limit = git_client.get_rate_limit()\n",
    "    raw = dict(rate_limit.raw_data)\n",
    "    \n",
    "    remaining = int(raw['resources'][_type]['remaining'])\n",
    "    reset = int(raw['resources'][_type]['reset'])\n",
    "    \n",
    "    return (remaining, reset)"
   ]
  },
  {
   "cell_type": "code",
   "execution_count": 8,
   "metadata": {
    "collapsed": false
   },
   "outputs": [
    {
     "name": "stdout",
     "output_type": "stream",
     "text": [
      "Resource rate limit remaining: (109, 1473197841)\n",
      "Search rate limit remaining: (30, 1473197851)\n"
     ]
    }
   ],
   "source": [
    "print('Resource rate limit remaining: {0}'.format(get_remaining('core')))\n",
    "print('Search rate limit remaining: {0}'.format(get_remaining('search')))"
   ]
  },
  {
   "cell_type": "code",
   "execution_count": 14,
   "metadata": {
    "collapsed": false
   },
   "outputs": [
    {
     "name": "stdout",
     "output_type": "stream",
     "text": [
      "388 mb\n"
     ]
    }
   ],
   "source": [
    "size = db.command(\"dbstats\")['dataSize']\n",
    "size = size/1000 #kb\n",
    "size = size/1000 #mb\n",
    "print('{0} {1}'.format(int(size), 'mb'))"
   ]
  },
  {
   "cell_type": "raw",
   "metadata": {
    "collapsed": false
   },
   "source": [
    "cursor = db['git_repos_docs'].find({'full_name':'scikit-learn/scikit-learn'})\n",
    "for i in cursor:\n",
    "    pprint(i)"
   ]
  },
  {
   "cell_type": "raw",
   "metadata": {
    "collapsed": false
   },
   "source": [
    "col = db['git_repos_docs'].find()\n",
    "for i in col[:5]:\n",
    "    pprint(i)"
   ]
  },
  {
   "cell_type": "code",
   "execution_count": null,
   "metadata": {
    "collapsed": true
   },
   "outputs": [],
   "source": []
  }
 ],
 "metadata": {
  "kernelspec": {
   "display_name": "Python 3",
   "language": "python",
   "name": "python3"
  },
  "language_info": {
   "codemirror_mode": {
    "name": "ipython",
    "version": 3
   },
   "file_extension": ".py",
   "mimetype": "text/x-python",
   "name": "python",
   "nbconvert_exporter": "python",
   "pygments_lexer": "ipython3",
   "version": "3.5.2"
  }
 },
 "nbformat": 4,
 "nbformat_minor": 1
}
